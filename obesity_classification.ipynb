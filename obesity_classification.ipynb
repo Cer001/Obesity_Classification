{
 "cells": [
  {
   "attachments": {},
   "cell_type": "markdown",
   "metadata": {},
   "source": [
    "# Imports"
   ]
  },
  {
   "cell_type": "code",
   "execution_count": 680,
   "metadata": {},
   "outputs": [],
   "source": [
    "import numpy as np\n",
    "import pandas as pd\n",
    "import xlrd\n",
    "import os\n",
    "import seaborn as sns\n",
    "from sklearn.model_selection import train_test_split, GridSearchCV,\\\n",
    "cross_val_score, cross_validate\n",
    "from sklearn.linear_model import LogisticRegression\n",
    "from sklearn.neighbors import KNeighborsClassifier\n",
    "from sklearn.tree import DecisionTreeClassifier\n",
    "from sklearn.ensemble import BaggingClassifier, RandomForestClassifier,\\\n",
    "ExtraTreesClassifier, VotingClassifier, StackingRegressor\n",
    "from sklearn.metrics import r2_score\n",
    "from sklearn.preprocessing import StandardScaler, OneHotEncoder, LabelEncoder, OrdinalEncoder, Normalizer, PolynomialFeatures\n",
    "from sklearn.impute import SimpleImputer\n",
    "from sklearn.linear_model import LinearRegression\n",
    "from sklearn.neighbors import KNeighborsRegressor\n",
    "from sklearn.tree import DecisionTreeRegressor\n",
    "from sklearn.metrics import accuracy_score, plot_confusion_matrix\n",
    "from sklearn.pipeline import Pipeline\n",
    "from sklearn.compose import ColumnTransformer\n",
    "import xgboost as xgb\n",
    "from xgboost import XGBRegressor\n",
    "from xgboost import XGBClassifier\n",
    "from imblearn.over_sampling import SMOTE, KMeansSMOTE, ADASYN, RandomOverSampler, SMOTENC\n",
    "from imblearn.combine import SMOTEENN\n",
    "from imblearn.pipeline import make_pipeline\n",
    "from sklearn.pipeline import Pipeline\n",
    "from sklearn.ensemble import RandomForestClassifier\n",
    "from sklearn.preprocessing import StandardScaler\n",
    "from sklearn.model_selection import GridSearchCV\n",
    "from sklearn.metrics import plot_confusion_matrix\n",
    "from imblearn.pipeline import make_pipeline\n",
    "from imblearn.over_sampling import RandomOverSampler\n",
    "from sklearn import set_config\n",
    "import warnings\n",
    "warnings.filterwarnings(\"ignore\")\n",
    "import time\n",
    "import itertools\n"
   ]
  },
  {
   "attachments": {},
   "cell_type": "markdown",
   "metadata": {},
   "source": [
    "# Inspection"
   ]
  },
  {
   "attachments": {},
   "cell_type": "markdown",
   "metadata": {},
   "source": [
    "## import csv"
   ]
  },
  {
   "cell_type": "code",
   "execution_count": 356,
   "metadata": {},
   "outputs": [
    {
     "data": {
      "text/html": [
       "<div>\n",
       "<style scoped>\n",
       "    .dataframe tbody tr th:only-of-type {\n",
       "        vertical-align: middle;\n",
       "    }\n",
       "\n",
       "    .dataframe tbody tr th {\n",
       "        vertical-align: top;\n",
       "    }\n",
       "\n",
       "    .dataframe thead th {\n",
       "        text-align: right;\n",
       "    }\n",
       "</style>\n",
       "<table border=\"1\" class=\"dataframe\">\n",
       "  <thead>\n",
       "    <tr style=\"text-align: right;\">\n",
       "      <th></th>\n",
       "      <th>Gender</th>\n",
       "      <th>Age</th>\n",
       "      <th>Height</th>\n",
       "      <th>Weight</th>\n",
       "      <th>family_history_with_overweight</th>\n",
       "      <th>FAVC</th>\n",
       "      <th>FCVC</th>\n",
       "      <th>NCP</th>\n",
       "      <th>CAEC</th>\n",
       "      <th>SMOKE</th>\n",
       "      <th>CH2O</th>\n",
       "      <th>SCC</th>\n",
       "      <th>FAF</th>\n",
       "      <th>TUE</th>\n",
       "      <th>CALC</th>\n",
       "      <th>MTRANS</th>\n",
       "      <th>NObeyesdad</th>\n",
       "    </tr>\n",
       "  </thead>\n",
       "  <tbody>\n",
       "    <tr>\n",
       "      <th>0</th>\n",
       "      <td>Female</td>\n",
       "      <td>21.0</td>\n",
       "      <td>1.62</td>\n",
       "      <td>64.0</td>\n",
       "      <td>yes</td>\n",
       "      <td>no</td>\n",
       "      <td>2.0</td>\n",
       "      <td>3.0</td>\n",
       "      <td>Sometimes</td>\n",
       "      <td>no</td>\n",
       "      <td>2.0</td>\n",
       "      <td>no</td>\n",
       "      <td>0.0</td>\n",
       "      <td>1.0</td>\n",
       "      <td>no</td>\n",
       "      <td>Public_Transportation</td>\n",
       "      <td>Normal_Weight</td>\n",
       "    </tr>\n",
       "    <tr>\n",
       "      <th>1</th>\n",
       "      <td>Female</td>\n",
       "      <td>21.0</td>\n",
       "      <td>1.52</td>\n",
       "      <td>56.0</td>\n",
       "      <td>yes</td>\n",
       "      <td>no</td>\n",
       "      <td>3.0</td>\n",
       "      <td>3.0</td>\n",
       "      <td>Sometimes</td>\n",
       "      <td>yes</td>\n",
       "      <td>3.0</td>\n",
       "      <td>yes</td>\n",
       "      <td>3.0</td>\n",
       "      <td>0.0</td>\n",
       "      <td>Sometimes</td>\n",
       "      <td>Public_Transportation</td>\n",
       "      <td>Normal_Weight</td>\n",
       "    </tr>\n",
       "    <tr>\n",
       "      <th>2</th>\n",
       "      <td>Male</td>\n",
       "      <td>23.0</td>\n",
       "      <td>1.80</td>\n",
       "      <td>77.0</td>\n",
       "      <td>yes</td>\n",
       "      <td>no</td>\n",
       "      <td>2.0</td>\n",
       "      <td>3.0</td>\n",
       "      <td>Sometimes</td>\n",
       "      <td>no</td>\n",
       "      <td>2.0</td>\n",
       "      <td>no</td>\n",
       "      <td>2.0</td>\n",
       "      <td>1.0</td>\n",
       "      <td>Frequently</td>\n",
       "      <td>Public_Transportation</td>\n",
       "      <td>Normal_Weight</td>\n",
       "    </tr>\n",
       "    <tr>\n",
       "      <th>3</th>\n",
       "      <td>Male</td>\n",
       "      <td>27.0</td>\n",
       "      <td>1.80</td>\n",
       "      <td>87.0</td>\n",
       "      <td>no</td>\n",
       "      <td>no</td>\n",
       "      <td>3.0</td>\n",
       "      <td>3.0</td>\n",
       "      <td>Sometimes</td>\n",
       "      <td>no</td>\n",
       "      <td>2.0</td>\n",
       "      <td>no</td>\n",
       "      <td>2.0</td>\n",
       "      <td>0.0</td>\n",
       "      <td>Frequently</td>\n",
       "      <td>Walking</td>\n",
       "      <td>Overweight_Level_I</td>\n",
       "    </tr>\n",
       "    <tr>\n",
       "      <th>4</th>\n",
       "      <td>Male</td>\n",
       "      <td>22.0</td>\n",
       "      <td>1.78</td>\n",
       "      <td>89.8</td>\n",
       "      <td>no</td>\n",
       "      <td>no</td>\n",
       "      <td>2.0</td>\n",
       "      <td>1.0</td>\n",
       "      <td>Sometimes</td>\n",
       "      <td>no</td>\n",
       "      <td>2.0</td>\n",
       "      <td>no</td>\n",
       "      <td>0.0</td>\n",
       "      <td>0.0</td>\n",
       "      <td>Sometimes</td>\n",
       "      <td>Public_Transportation</td>\n",
       "      <td>Overweight_Level_II</td>\n",
       "    </tr>\n",
       "  </tbody>\n",
       "</table>\n",
       "</div>"
      ],
      "text/plain": [
       "   Gender   Age  Height  Weight family_history_with_overweight FAVC  FCVC  \\\n",
       "0  Female  21.0    1.62    64.0                            yes   no   2.0   \n",
       "1  Female  21.0    1.52    56.0                            yes   no   3.0   \n",
       "2    Male  23.0    1.80    77.0                            yes   no   2.0   \n",
       "3    Male  27.0    1.80    87.0                             no   no   3.0   \n",
       "4    Male  22.0    1.78    89.8                             no   no   2.0   \n",
       "\n",
       "   NCP       CAEC SMOKE  CH2O  SCC  FAF  TUE        CALC  \\\n",
       "0  3.0  Sometimes    no   2.0   no  0.0  1.0          no   \n",
       "1  3.0  Sometimes   yes   3.0  yes  3.0  0.0   Sometimes   \n",
       "2  3.0  Sometimes    no   2.0   no  2.0  1.0  Frequently   \n",
       "3  3.0  Sometimes    no   2.0   no  2.0  0.0  Frequently   \n",
       "4  1.0  Sometimes    no   2.0   no  0.0  0.0   Sometimes   \n",
       "\n",
       "                  MTRANS           NObeyesdad  \n",
       "0  Public_Transportation        Normal_Weight  \n",
       "1  Public_Transportation        Normal_Weight  \n",
       "2  Public_Transportation        Normal_Weight  \n",
       "3                Walking   Overweight_Level_I  \n",
       "4  Public_Transportation  Overweight_Level_II  "
      ]
     },
     "execution_count": 356,
     "metadata": {},
     "output_type": "execute_result"
    }
   ],
   "source": [
    "df = pd.read_csv(\"data/ObesityDataSet_raw_and_data_sinthetic.csv\")\n",
    "df.head()"
   ]
  },
  {
   "attachments": {},
   "cell_type": "markdown",
   "metadata": {},
   "source": [
    "## check NA"
   ]
  },
  {
   "cell_type": "code",
   "execution_count": 357,
   "metadata": {},
   "outputs": [
    {
     "data": {
      "text/plain": [
       "0"
      ]
     },
     "execution_count": 357,
     "metadata": {},
     "output_type": "execute_result"
    }
   ],
   "source": [
    "df.isna().sum().sum()"
   ]
  },
  {
   "attachments": {},
   "cell_type": "markdown",
   "metadata": {},
   "source": [
    "## Check correlation"
   ]
  },
  {
   "cell_type": "code",
   "execution_count": 358,
   "metadata": {},
   "outputs": [
    {
     "data": {
      "text/html": [
       "<div>\n",
       "<style scoped>\n",
       "    .dataframe tbody tr th:only-of-type {\n",
       "        vertical-align: middle;\n",
       "    }\n",
       "\n",
       "    .dataframe tbody tr th {\n",
       "        vertical-align: top;\n",
       "    }\n",
       "\n",
       "    .dataframe thead th {\n",
       "        text-align: right;\n",
       "    }\n",
       "</style>\n",
       "<table border=\"1\" class=\"dataframe\">\n",
       "  <thead>\n",
       "    <tr style=\"text-align: right;\">\n",
       "      <th></th>\n",
       "      <th>Age</th>\n",
       "      <th>Height</th>\n",
       "      <th>Weight</th>\n",
       "      <th>FCVC</th>\n",
       "      <th>NCP</th>\n",
       "      <th>CH2O</th>\n",
       "      <th>FAF</th>\n",
       "      <th>TUE</th>\n",
       "    </tr>\n",
       "  </thead>\n",
       "  <tbody>\n",
       "    <tr>\n",
       "      <th>Age</th>\n",
       "      <td>1.000000</td>\n",
       "      <td>-0.025958</td>\n",
       "      <td>0.202560</td>\n",
       "      <td>0.016291</td>\n",
       "      <td>-0.043944</td>\n",
       "      <td>-0.045304</td>\n",
       "      <td>-0.144938</td>\n",
       "      <td>-0.296931</td>\n",
       "    </tr>\n",
       "    <tr>\n",
       "      <th>Height</th>\n",
       "      <td>-0.025958</td>\n",
       "      <td>1.000000</td>\n",
       "      <td>0.463136</td>\n",
       "      <td>-0.038121</td>\n",
       "      <td>0.243672</td>\n",
       "      <td>0.213376</td>\n",
       "      <td>0.294709</td>\n",
       "      <td>0.051912</td>\n",
       "    </tr>\n",
       "    <tr>\n",
       "      <th>Weight</th>\n",
       "      <td>0.202560</td>\n",
       "      <td>0.463136</td>\n",
       "      <td>1.000000</td>\n",
       "      <td>0.216125</td>\n",
       "      <td>0.107469</td>\n",
       "      <td>0.200575</td>\n",
       "      <td>-0.051436</td>\n",
       "      <td>-0.071561</td>\n",
       "    </tr>\n",
       "    <tr>\n",
       "      <th>FCVC</th>\n",
       "      <td>0.016291</td>\n",
       "      <td>-0.038121</td>\n",
       "      <td>0.216125</td>\n",
       "      <td>1.000000</td>\n",
       "      <td>0.042216</td>\n",
       "      <td>0.068461</td>\n",
       "      <td>0.019939</td>\n",
       "      <td>-0.101135</td>\n",
       "    </tr>\n",
       "    <tr>\n",
       "      <th>NCP</th>\n",
       "      <td>-0.043944</td>\n",
       "      <td>0.243672</td>\n",
       "      <td>0.107469</td>\n",
       "      <td>0.042216</td>\n",
       "      <td>1.000000</td>\n",
       "      <td>0.057088</td>\n",
       "      <td>0.129504</td>\n",
       "      <td>0.036326</td>\n",
       "    </tr>\n",
       "    <tr>\n",
       "      <th>CH2O</th>\n",
       "      <td>-0.045304</td>\n",
       "      <td>0.213376</td>\n",
       "      <td>0.200575</td>\n",
       "      <td>0.068461</td>\n",
       "      <td>0.057088</td>\n",
       "      <td>1.000000</td>\n",
       "      <td>0.167236</td>\n",
       "      <td>0.011965</td>\n",
       "    </tr>\n",
       "    <tr>\n",
       "      <th>FAF</th>\n",
       "      <td>-0.144938</td>\n",
       "      <td>0.294709</td>\n",
       "      <td>-0.051436</td>\n",
       "      <td>0.019939</td>\n",
       "      <td>0.129504</td>\n",
       "      <td>0.167236</td>\n",
       "      <td>1.000000</td>\n",
       "      <td>0.058562</td>\n",
       "    </tr>\n",
       "    <tr>\n",
       "      <th>TUE</th>\n",
       "      <td>-0.296931</td>\n",
       "      <td>0.051912</td>\n",
       "      <td>-0.071561</td>\n",
       "      <td>-0.101135</td>\n",
       "      <td>0.036326</td>\n",
       "      <td>0.011965</td>\n",
       "      <td>0.058562</td>\n",
       "      <td>1.000000</td>\n",
       "    </tr>\n",
       "  </tbody>\n",
       "</table>\n",
       "</div>"
      ],
      "text/plain": [
       "             Age    Height    Weight      FCVC       NCP      CH2O       FAF  \\\n",
       "Age     1.000000 -0.025958  0.202560  0.016291 -0.043944 -0.045304 -0.144938   \n",
       "Height -0.025958  1.000000  0.463136 -0.038121  0.243672  0.213376  0.294709   \n",
       "Weight  0.202560  0.463136  1.000000  0.216125  0.107469  0.200575 -0.051436   \n",
       "FCVC    0.016291 -0.038121  0.216125  1.000000  0.042216  0.068461  0.019939   \n",
       "NCP    -0.043944  0.243672  0.107469  0.042216  1.000000  0.057088  0.129504   \n",
       "CH2O   -0.045304  0.213376  0.200575  0.068461  0.057088  1.000000  0.167236   \n",
       "FAF    -0.144938  0.294709 -0.051436  0.019939  0.129504  0.167236  1.000000   \n",
       "TUE    -0.296931  0.051912 -0.071561 -0.101135  0.036326  0.011965  0.058562   \n",
       "\n",
       "             TUE  \n",
       "Age    -0.296931  \n",
       "Height  0.051912  \n",
       "Weight -0.071561  \n",
       "FCVC   -0.101135  \n",
       "NCP     0.036326  \n",
       "CH2O    0.011965  \n",
       "FAF     0.058562  \n",
       "TUE     1.000000  "
      ]
     },
     "execution_count": 358,
     "metadata": {},
     "output_type": "execute_result"
    }
   ],
   "source": [
    "df.corr()"
   ]
  },
  {
   "attachments": {},
   "cell_type": "markdown",
   "metadata": {},
   "source": [
    "## Round synthetic data to corrrespond to questionaire"
   ]
  },
  {
   "cell_type": "code",
   "execution_count": 359,
   "metadata": {},
   "outputs": [
    {
     "data": {
      "text/html": [
       "<div>\n",
       "<style scoped>\n",
       "    .dataframe tbody tr th:only-of-type {\n",
       "        vertical-align: middle;\n",
       "    }\n",
       "\n",
       "    .dataframe tbody tr th {\n",
       "        vertical-align: top;\n",
       "    }\n",
       "\n",
       "    .dataframe thead th {\n",
       "        text-align: right;\n",
       "    }\n",
       "</style>\n",
       "<table border=\"1\" class=\"dataframe\">\n",
       "  <thead>\n",
       "    <tr style=\"text-align: right;\">\n",
       "      <th></th>\n",
       "      <th>Gender</th>\n",
       "      <th>Age</th>\n",
       "      <th>Height</th>\n",
       "      <th>Weight</th>\n",
       "      <th>family_history_with_overweight</th>\n",
       "      <th>FAVC</th>\n",
       "      <th>FCVC</th>\n",
       "      <th>NCP</th>\n",
       "      <th>CAEC</th>\n",
       "      <th>SMOKE</th>\n",
       "      <th>CH2O</th>\n",
       "      <th>SCC</th>\n",
       "      <th>FAF</th>\n",
       "      <th>TUE</th>\n",
       "      <th>CALC</th>\n",
       "      <th>MTRANS</th>\n",
       "      <th>NObeyesdad</th>\n",
       "    </tr>\n",
       "  </thead>\n",
       "  <tbody>\n",
       "    <tr>\n",
       "      <th>0</th>\n",
       "      <td>Female</td>\n",
       "      <td>21.0</td>\n",
       "      <td>1.62</td>\n",
       "      <td>64.0</td>\n",
       "      <td>yes</td>\n",
       "      <td>no</td>\n",
       "      <td>2.0</td>\n",
       "      <td>3.0</td>\n",
       "      <td>Sometimes</td>\n",
       "      <td>no</td>\n",
       "      <td>2.0</td>\n",
       "      <td>no</td>\n",
       "      <td>0.0</td>\n",
       "      <td>1.0</td>\n",
       "      <td>no</td>\n",
       "      <td>Public_Transportation</td>\n",
       "      <td>Normal_Weight</td>\n",
       "    </tr>\n",
       "    <tr>\n",
       "      <th>1</th>\n",
       "      <td>Female</td>\n",
       "      <td>21.0</td>\n",
       "      <td>1.52</td>\n",
       "      <td>56.0</td>\n",
       "      <td>yes</td>\n",
       "      <td>no</td>\n",
       "      <td>3.0</td>\n",
       "      <td>3.0</td>\n",
       "      <td>Sometimes</td>\n",
       "      <td>yes</td>\n",
       "      <td>3.0</td>\n",
       "      <td>yes</td>\n",
       "      <td>3.0</td>\n",
       "      <td>0.0</td>\n",
       "      <td>Sometimes</td>\n",
       "      <td>Public_Transportation</td>\n",
       "      <td>Normal_Weight</td>\n",
       "    </tr>\n",
       "    <tr>\n",
       "      <th>2</th>\n",
       "      <td>Male</td>\n",
       "      <td>23.0</td>\n",
       "      <td>1.80</td>\n",
       "      <td>77.0</td>\n",
       "      <td>yes</td>\n",
       "      <td>no</td>\n",
       "      <td>2.0</td>\n",
       "      <td>3.0</td>\n",
       "      <td>Sometimes</td>\n",
       "      <td>no</td>\n",
       "      <td>2.0</td>\n",
       "      <td>no</td>\n",
       "      <td>2.0</td>\n",
       "      <td>1.0</td>\n",
       "      <td>Frequently</td>\n",
       "      <td>Public_Transportation</td>\n",
       "      <td>Normal_Weight</td>\n",
       "    </tr>\n",
       "    <tr>\n",
       "      <th>3</th>\n",
       "      <td>Male</td>\n",
       "      <td>27.0</td>\n",
       "      <td>1.80</td>\n",
       "      <td>87.0</td>\n",
       "      <td>no</td>\n",
       "      <td>no</td>\n",
       "      <td>3.0</td>\n",
       "      <td>3.0</td>\n",
       "      <td>Sometimes</td>\n",
       "      <td>no</td>\n",
       "      <td>2.0</td>\n",
       "      <td>no</td>\n",
       "      <td>2.0</td>\n",
       "      <td>0.0</td>\n",
       "      <td>Frequently</td>\n",
       "      <td>Walking</td>\n",
       "      <td>Overweight_Level_I</td>\n",
       "    </tr>\n",
       "    <tr>\n",
       "      <th>4</th>\n",
       "      <td>Male</td>\n",
       "      <td>22.0</td>\n",
       "      <td>1.78</td>\n",
       "      <td>89.8</td>\n",
       "      <td>no</td>\n",
       "      <td>no</td>\n",
       "      <td>2.0</td>\n",
       "      <td>1.0</td>\n",
       "      <td>Sometimes</td>\n",
       "      <td>no</td>\n",
       "      <td>2.0</td>\n",
       "      <td>no</td>\n",
       "      <td>0.0</td>\n",
       "      <td>0.0</td>\n",
       "      <td>Sometimes</td>\n",
       "      <td>Public_Transportation</td>\n",
       "      <td>Overweight_Level_II</td>\n",
       "    </tr>\n",
       "  </tbody>\n",
       "</table>\n",
       "</div>"
      ],
      "text/plain": [
       "   Gender   Age  Height  Weight family_history_with_overweight FAVC  FCVC  \\\n",
       "0  Female  21.0    1.62    64.0                            yes   no   2.0   \n",
       "1  Female  21.0    1.52    56.0                            yes   no   3.0   \n",
       "2    Male  23.0    1.80    77.0                            yes   no   2.0   \n",
       "3    Male  27.0    1.80    87.0                             no   no   3.0   \n",
       "4    Male  22.0    1.78    89.8                             no   no   2.0   \n",
       "\n",
       "   NCP       CAEC SMOKE  CH2O  SCC  FAF  TUE        CALC  \\\n",
       "0  3.0  Sometimes    no   2.0   no  0.0  1.0          no   \n",
       "1  3.0  Sometimes   yes   3.0  yes  3.0  0.0   Sometimes   \n",
       "2  3.0  Sometimes    no   2.0   no  2.0  1.0  Frequently   \n",
       "3  3.0  Sometimes    no   2.0   no  2.0  0.0  Frequently   \n",
       "4  1.0  Sometimes    no   2.0   no  0.0  0.0   Sometimes   \n",
       "\n",
       "                  MTRANS           NObeyesdad  \n",
       "0  Public_Transportation        Normal_Weight  \n",
       "1  Public_Transportation        Normal_Weight  \n",
       "2  Public_Transportation        Normal_Weight  \n",
       "3                Walking   Overweight_Level_I  \n",
       "4  Public_Transportation  Overweight_Level_II  "
      ]
     },
     "execution_count": 359,
     "metadata": {},
     "output_type": "execute_result"
    }
   ],
   "source": [
    "cols_to_round= [\"FCVC\", \"NCP\", \"CH2O\", \"FAF\", \"TUE\", \"Age\"]\n",
    "\n",
    "def column_rounder(df, cols):\n",
    "    for col in cols:\n",
    "        df[col] = df[col].round(0)\n",
    "    return df\n",
    "\n",
    "df[cols_to_round] = column_rounder(df[cols_to_round], cols_to_round)\n",
    "df.head()"
   ]
  },
  {
   "attachments": {},
   "cell_type": "markdown",
   "metadata": {},
   "source": [
    "## Check value counts"
   ]
  },
  {
   "cell_type": "code",
   "execution_count": 360,
   "metadata": {},
   "outputs": [
    {
     "data": {
      "text/plain": [
       "Male      1068\n",
       "Female    1043\n",
       "Name: Gender, dtype: int64"
      ]
     },
     "metadata": {},
     "output_type": "display_data"
    },
    {
     "data": {
      "text/plain": [
       "21.0    236\n",
       "23.0    218\n",
       "26.0    213\n",
       "18.0    212\n",
       "19.0    169\n",
       "22.0    163\n",
       "20.0    150\n",
       "24.0     95\n",
       "25.0     82\n",
       "17.0     69\n",
       "31.0     62\n",
       "30.0     53\n",
       "27.0     43\n",
       "33.0     37\n",
       "38.0     34\n",
       "29.0     33\n",
       "34.0     29\n",
       "32.0     26\n",
       "39.0     25\n",
       "37.0     24\n",
       "28.0     20\n",
       "16.0     20\n",
       "41.0     20\n",
       "40.0     19\n",
       "35.0     19\n",
       "36.0      6\n",
       "44.0      6\n",
       "42.0      6\n",
       "55.0      5\n",
       "43.0      3\n",
       "45.0      3\n",
       "46.0      2\n",
       "51.0      2\n",
       "15.0      1\n",
       "56.0      1\n",
       "14.0      1\n",
       "52.0      1\n",
       "48.0      1\n",
       "61.0      1\n",
       "47.0      1\n",
       "Name: Age, dtype: int64"
      ]
     },
     "metadata": {},
     "output_type": "display_data"
    },
    {
     "data": {
      "text/plain": [
       "1.700000    60\n",
       "1.650000    50\n",
       "1.600000    43\n",
       "1.750000    39\n",
       "1.620000    36\n",
       "            ..\n",
       "1.680762     1\n",
       "1.819875     1\n",
       "1.530248     1\n",
       "1.654067     1\n",
       "1.885543     1\n",
       "Name: Height, Length: 1574, dtype: int64"
      ]
     },
     "metadata": {},
     "output_type": "display_data"
    },
    {
     "data": {
      "text/plain": [
       "80.000000     59\n",
       "70.000000     43\n",
       "50.000000     42\n",
       "75.000000     40\n",
       "60.000000     37\n",
       "              ..\n",
       "90.138680      1\n",
       "89.738596      1\n",
       "115.828167     1\n",
       "108.721893     1\n",
       "122.119682     1\n",
       "Name: Weight, Length: 1525, dtype: int64"
      ]
     },
     "metadata": {},
     "output_type": "display_data"
    },
    {
     "data": {
      "text/plain": [
       "yes    1726\n",
       "no      385\n",
       "Name: family_history_with_overweight, dtype: int64"
      ]
     },
     "metadata": {},
     "output_type": "display_data"
    },
    {
     "data": {
      "text/plain": [
       "yes    1866\n",
       "no      245\n",
       "Name: FAVC, dtype: int64"
      ]
     },
     "metadata": {},
     "output_type": "display_data"
    },
    {
     "data": {
      "text/plain": [
       "2.0    1013\n",
       "3.0     996\n",
       "1.0     102\n",
       "Name: FCVC, dtype: int64"
      ]
     },
     "metadata": {},
     "output_type": "display_data"
    },
    {
     "data": {
      "text/plain": [
       "3.0    1470\n",
       "1.0     316\n",
       "2.0     176\n",
       "4.0     149\n",
       "Name: NCP, dtype: int64"
      ]
     },
     "metadata": {},
     "output_type": "display_data"
    },
    {
     "data": {
      "text/plain": [
       "Sometimes     1765\n",
       "Frequently     242\n",
       "Always          53\n",
       "no              51\n",
       "Name: CAEC, dtype: int64"
      ]
     },
     "metadata": {},
     "output_type": "display_data"
    },
    {
     "data": {
      "text/plain": [
       "no     2067\n",
       "yes      44\n",
       "Name: SMOKE, dtype: int64"
      ]
     },
     "metadata": {},
     "output_type": "display_data"
    },
    {
     "data": {
      "text/plain": [
       "2.0    1110\n",
       "3.0     516\n",
       "1.0     485\n",
       "Name: CH2O, dtype: int64"
      ]
     },
     "metadata": {},
     "output_type": "display_data"
    },
    {
     "data": {
      "text/plain": [
       "no     2015\n",
       "yes      96\n",
       "Name: SCC, dtype: int64"
      ]
     },
     "metadata": {},
     "output_type": "display_data"
    },
    {
     "data": {
      "text/plain": [
       "1.0    776\n",
       "0.0    720\n",
       "2.0    496\n",
       "3.0    119\n",
       "Name: FAF, dtype: int64"
      ]
     },
     "metadata": {},
     "output_type": "display_data"
    },
    {
     "data": {
      "text/plain": [
       "0.0    952\n",
       "1.0    915\n",
       "2.0    244\n",
       "Name: TUE, dtype: int64"
      ]
     },
     "metadata": {},
     "output_type": "display_data"
    },
    {
     "data": {
      "text/plain": [
       "Sometimes     1401\n",
       "no             639\n",
       "Frequently      70\n",
       "Always           1\n",
       "Name: CALC, dtype: int64"
      ]
     },
     "metadata": {},
     "output_type": "display_data"
    },
    {
     "data": {
      "text/plain": [
       "Public_Transportation    1580\n",
       "Automobile                457\n",
       "Walking                    56\n",
       "Motorbike                  11\n",
       "Bike                        7\n",
       "Name: MTRANS, dtype: int64"
      ]
     },
     "metadata": {},
     "output_type": "display_data"
    },
    {
     "data": {
      "text/plain": [
       "Obesity_Type_I         351\n",
       "Obesity_Type_III       324\n",
       "Obesity_Type_II        297\n",
       "Overweight_Level_I     290\n",
       "Overweight_Level_II    290\n",
       "Normal_Weight          287\n",
       "Insufficient_Weight    272\n",
       "Name: NObeyesdad, dtype: int64"
      ]
     },
     "metadata": {},
     "output_type": "display_data"
    },
    {
     "data": {
      "text/plain": [
       "[None,\n",
       " None,\n",
       " None,\n",
       " None,\n",
       " None,\n",
       " None,\n",
       " None,\n",
       " None,\n",
       " None,\n",
       " None,\n",
       " None,\n",
       " None,\n",
       " None,\n",
       " None,\n",
       " None,\n",
       " None,\n",
       " None]"
      ]
     },
     "execution_count": 360,
     "metadata": {},
     "output_type": "execute_result"
    }
   ],
   "source": [
    "[display(df[i].value_counts()) for i in df.columns]"
   ]
  },
  {
   "attachments": {},
   "cell_type": "markdown",
   "metadata": {},
   "source": [
    "## Manually encode that None response would be a 0"
   ]
  },
  {
   "cell_type": "code",
   "execution_count": 361,
   "metadata": {},
   "outputs": [
    {
     "data": {
      "text/plain": [
       "1.0    1013\n",
       "2.0     996\n",
       "0.0     102\n",
       "Name: FCVC, dtype: int64"
      ]
     },
     "execution_count": 361,
     "metadata": {},
     "output_type": "execute_result"
    }
   ],
   "source": [
    "df.FCVC = [x-1 for x in df.FCVC]\n",
    "df.FCVC.value_counts()"
   ]
  },
  {
   "attachments": {},
   "cell_type": "markdown",
   "metadata": {},
   "source": [
    "# Manual encode weight classes in order of severity"
   ]
  },
  {
   "cell_type": "code",
   "execution_count": 362,
   "metadata": {},
   "outputs": [
    {
     "data": {
      "text/html": [
       "<div>\n",
       "<style scoped>\n",
       "    .dataframe tbody tr th:only-of-type {\n",
       "        vertical-align: middle;\n",
       "    }\n",
       "\n",
       "    .dataframe tbody tr th {\n",
       "        vertical-align: top;\n",
       "    }\n",
       "\n",
       "    .dataframe thead th {\n",
       "        text-align: right;\n",
       "    }\n",
       "</style>\n",
       "<table border=\"1\" class=\"dataframe\">\n",
       "  <thead>\n",
       "    <tr style=\"text-align: right;\">\n",
       "      <th></th>\n",
       "      <th>Gender</th>\n",
       "      <th>Age</th>\n",
       "      <th>Height</th>\n",
       "      <th>Weight</th>\n",
       "      <th>family_history_with_overweight</th>\n",
       "      <th>FAVC</th>\n",
       "      <th>FCVC</th>\n",
       "      <th>NCP</th>\n",
       "      <th>CAEC</th>\n",
       "      <th>SMOKE</th>\n",
       "      <th>CH2O</th>\n",
       "      <th>SCC</th>\n",
       "      <th>FAF</th>\n",
       "      <th>TUE</th>\n",
       "      <th>CALC</th>\n",
       "      <th>MTRANS</th>\n",
       "      <th>NObeyesdad</th>\n",
       "    </tr>\n",
       "  </thead>\n",
       "  <tbody>\n",
       "    <tr>\n",
       "      <th>0</th>\n",
       "      <td>Female</td>\n",
       "      <td>21.0</td>\n",
       "      <td>1.62</td>\n",
       "      <td>64.0</td>\n",
       "      <td>yes</td>\n",
       "      <td>no</td>\n",
       "      <td>1.0</td>\n",
       "      <td>3.0</td>\n",
       "      <td>Sometimes</td>\n",
       "      <td>no</td>\n",
       "      <td>2.0</td>\n",
       "      <td>no</td>\n",
       "      <td>0.0</td>\n",
       "      <td>1.0</td>\n",
       "      <td>no</td>\n",
       "      <td>Public_Transportation</td>\n",
       "      <td>1</td>\n",
       "    </tr>\n",
       "    <tr>\n",
       "      <th>1</th>\n",
       "      <td>Female</td>\n",
       "      <td>21.0</td>\n",
       "      <td>1.52</td>\n",
       "      <td>56.0</td>\n",
       "      <td>yes</td>\n",
       "      <td>no</td>\n",
       "      <td>2.0</td>\n",
       "      <td>3.0</td>\n",
       "      <td>Sometimes</td>\n",
       "      <td>yes</td>\n",
       "      <td>3.0</td>\n",
       "      <td>yes</td>\n",
       "      <td>3.0</td>\n",
       "      <td>0.0</td>\n",
       "      <td>Sometimes</td>\n",
       "      <td>Public_Transportation</td>\n",
       "      <td>1</td>\n",
       "    </tr>\n",
       "    <tr>\n",
       "      <th>2</th>\n",
       "      <td>Male</td>\n",
       "      <td>23.0</td>\n",
       "      <td>1.80</td>\n",
       "      <td>77.0</td>\n",
       "      <td>yes</td>\n",
       "      <td>no</td>\n",
       "      <td>1.0</td>\n",
       "      <td>3.0</td>\n",
       "      <td>Sometimes</td>\n",
       "      <td>no</td>\n",
       "      <td>2.0</td>\n",
       "      <td>no</td>\n",
       "      <td>2.0</td>\n",
       "      <td>1.0</td>\n",
       "      <td>Frequently</td>\n",
       "      <td>Public_Transportation</td>\n",
       "      <td>1</td>\n",
       "    </tr>\n",
       "    <tr>\n",
       "      <th>3</th>\n",
       "      <td>Male</td>\n",
       "      <td>27.0</td>\n",
       "      <td>1.80</td>\n",
       "      <td>87.0</td>\n",
       "      <td>no</td>\n",
       "      <td>no</td>\n",
       "      <td>2.0</td>\n",
       "      <td>3.0</td>\n",
       "      <td>Sometimes</td>\n",
       "      <td>no</td>\n",
       "      <td>2.0</td>\n",
       "      <td>no</td>\n",
       "      <td>2.0</td>\n",
       "      <td>0.0</td>\n",
       "      <td>Frequently</td>\n",
       "      <td>Walking</td>\n",
       "      <td>2</td>\n",
       "    </tr>\n",
       "    <tr>\n",
       "      <th>4</th>\n",
       "      <td>Male</td>\n",
       "      <td>22.0</td>\n",
       "      <td>1.78</td>\n",
       "      <td>89.8</td>\n",
       "      <td>no</td>\n",
       "      <td>no</td>\n",
       "      <td>1.0</td>\n",
       "      <td>1.0</td>\n",
       "      <td>Sometimes</td>\n",
       "      <td>no</td>\n",
       "      <td>2.0</td>\n",
       "      <td>no</td>\n",
       "      <td>0.0</td>\n",
       "      <td>0.0</td>\n",
       "      <td>Sometimes</td>\n",
       "      <td>Public_Transportation</td>\n",
       "      <td>3</td>\n",
       "    </tr>\n",
       "  </tbody>\n",
       "</table>\n",
       "</div>"
      ],
      "text/plain": [
       "   Gender   Age  Height  Weight family_history_with_overweight FAVC  FCVC  \\\n",
       "0  Female  21.0    1.62    64.0                            yes   no   1.0   \n",
       "1  Female  21.0    1.52    56.0                            yes   no   2.0   \n",
       "2    Male  23.0    1.80    77.0                            yes   no   1.0   \n",
       "3    Male  27.0    1.80    87.0                             no   no   2.0   \n",
       "4    Male  22.0    1.78    89.8                             no   no   1.0   \n",
       "\n",
       "   NCP       CAEC SMOKE  CH2O  SCC  FAF  TUE        CALC  \\\n",
       "0  3.0  Sometimes    no   2.0   no  0.0  1.0          no   \n",
       "1  3.0  Sometimes   yes   3.0  yes  3.0  0.0   Sometimes   \n",
       "2  3.0  Sometimes    no   2.0   no  2.0  1.0  Frequently   \n",
       "3  3.0  Sometimes    no   2.0   no  2.0  0.0  Frequently   \n",
       "4  1.0  Sometimes    no   2.0   no  0.0  0.0   Sometimes   \n",
       "\n",
       "                  MTRANS  NObeyesdad  \n",
       "0  Public_Transportation           1  \n",
       "1  Public_Transportation           1  \n",
       "2  Public_Transportation           1  \n",
       "3                Walking           2  \n",
       "4  Public_Transportation           3  "
      ]
     },
     "execution_count": 362,
     "metadata": {},
     "output_type": "execute_result"
    }
   ],
   "source": [
    "target_categories = {'Insufficient_Weight':0,\n",
    " 'Normal_Weight':1,\n",
    " 'Overweight_Level_I':2,\n",
    " 'Overweight_Level_II':3,\n",
    " 'Obesity_Type_I':4,\n",
    " 'Obesity_Type_II':5,\n",
    " 'Obesity_Type_III':6}\n",
    "\n",
    "df.NObeyesdad = [target_categories[key] for key in df.NObeyesdad]\n",
    "df.head()"
   ]
  },
  {
   "attachments": {},
   "cell_type": "markdown",
   "metadata": {},
   "source": [
    "## Label encode"
   ]
  },
  {
   "cell_type": "code",
   "execution_count": 363,
   "metadata": {},
   "outputs": [
    {
     "data": {
      "text/html": [
       "<div>\n",
       "<style scoped>\n",
       "    .dataframe tbody tr th:only-of-type {\n",
       "        vertical-align: middle;\n",
       "    }\n",
       "\n",
       "    .dataframe tbody tr th {\n",
       "        vertical-align: top;\n",
       "    }\n",
       "\n",
       "    .dataframe thead th {\n",
       "        text-align: right;\n",
       "    }\n",
       "</style>\n",
       "<table border=\"1\" class=\"dataframe\">\n",
       "  <thead>\n",
       "    <tr style=\"text-align: right;\">\n",
       "      <th></th>\n",
       "      <th>Gender</th>\n",
       "      <th>Age</th>\n",
       "      <th>Height</th>\n",
       "      <th>Weight</th>\n",
       "      <th>family_history_with_overweight</th>\n",
       "      <th>FAVC</th>\n",
       "      <th>FCVC</th>\n",
       "      <th>NCP</th>\n",
       "      <th>CAEC</th>\n",
       "      <th>SMOKE</th>\n",
       "      <th>CH2O</th>\n",
       "      <th>SCC</th>\n",
       "      <th>FAF</th>\n",
       "      <th>TUE</th>\n",
       "      <th>CALC</th>\n",
       "      <th>MTRANS</th>\n",
       "      <th>NObeyesdad</th>\n",
       "    </tr>\n",
       "  </thead>\n",
       "  <tbody>\n",
       "    <tr>\n",
       "      <th>0</th>\n",
       "      <td>0</td>\n",
       "      <td>21.0</td>\n",
       "      <td>1.62</td>\n",
       "      <td>64.0</td>\n",
       "      <td>1</td>\n",
       "      <td>0</td>\n",
       "      <td>1.0</td>\n",
       "      <td>3.0</td>\n",
       "      <td>Sometimes</td>\n",
       "      <td>0</td>\n",
       "      <td>2.0</td>\n",
       "      <td>0</td>\n",
       "      <td>0.0</td>\n",
       "      <td>1.0</td>\n",
       "      <td>no</td>\n",
       "      <td>3</td>\n",
       "      <td>1</td>\n",
       "    </tr>\n",
       "    <tr>\n",
       "      <th>1</th>\n",
       "      <td>0</td>\n",
       "      <td>21.0</td>\n",
       "      <td>1.52</td>\n",
       "      <td>56.0</td>\n",
       "      <td>1</td>\n",
       "      <td>0</td>\n",
       "      <td>2.0</td>\n",
       "      <td>3.0</td>\n",
       "      <td>Sometimes</td>\n",
       "      <td>1</td>\n",
       "      <td>3.0</td>\n",
       "      <td>1</td>\n",
       "      <td>3.0</td>\n",
       "      <td>0.0</td>\n",
       "      <td>Sometimes</td>\n",
       "      <td>3</td>\n",
       "      <td>1</td>\n",
       "    </tr>\n",
       "    <tr>\n",
       "      <th>2</th>\n",
       "      <td>1</td>\n",
       "      <td>23.0</td>\n",
       "      <td>1.80</td>\n",
       "      <td>77.0</td>\n",
       "      <td>1</td>\n",
       "      <td>0</td>\n",
       "      <td>1.0</td>\n",
       "      <td>3.0</td>\n",
       "      <td>Sometimes</td>\n",
       "      <td>0</td>\n",
       "      <td>2.0</td>\n",
       "      <td>0</td>\n",
       "      <td>2.0</td>\n",
       "      <td>1.0</td>\n",
       "      <td>Frequently</td>\n",
       "      <td>3</td>\n",
       "      <td>1</td>\n",
       "    </tr>\n",
       "    <tr>\n",
       "      <th>3</th>\n",
       "      <td>1</td>\n",
       "      <td>27.0</td>\n",
       "      <td>1.80</td>\n",
       "      <td>87.0</td>\n",
       "      <td>0</td>\n",
       "      <td>0</td>\n",
       "      <td>2.0</td>\n",
       "      <td>3.0</td>\n",
       "      <td>Sometimes</td>\n",
       "      <td>0</td>\n",
       "      <td>2.0</td>\n",
       "      <td>0</td>\n",
       "      <td>2.0</td>\n",
       "      <td>0.0</td>\n",
       "      <td>Frequently</td>\n",
       "      <td>4</td>\n",
       "      <td>2</td>\n",
       "    </tr>\n",
       "    <tr>\n",
       "      <th>4</th>\n",
       "      <td>1</td>\n",
       "      <td>22.0</td>\n",
       "      <td>1.78</td>\n",
       "      <td>89.8</td>\n",
       "      <td>0</td>\n",
       "      <td>0</td>\n",
       "      <td>1.0</td>\n",
       "      <td>1.0</td>\n",
       "      <td>Sometimes</td>\n",
       "      <td>0</td>\n",
       "      <td>2.0</td>\n",
       "      <td>0</td>\n",
       "      <td>0.0</td>\n",
       "      <td>0.0</td>\n",
       "      <td>Sometimes</td>\n",
       "      <td>3</td>\n",
       "      <td>3</td>\n",
       "    </tr>\n",
       "  </tbody>\n",
       "</table>\n",
       "</div>"
      ],
      "text/plain": [
       "   Gender   Age  Height  Weight  family_history_with_overweight  FAVC  FCVC  \\\n",
       "0       0  21.0    1.62    64.0                               1     0   1.0   \n",
       "1       0  21.0    1.52    56.0                               1     0   2.0   \n",
       "2       1  23.0    1.80    77.0                               1     0   1.0   \n",
       "3       1  27.0    1.80    87.0                               0     0   2.0   \n",
       "4       1  22.0    1.78    89.8                               0     0   1.0   \n",
       "\n",
       "   NCP       CAEC  SMOKE  CH2O  SCC  FAF  TUE        CALC  MTRANS  NObeyesdad  \n",
       "0  3.0  Sometimes      0   2.0    0  0.0  1.0          no       3           1  \n",
       "1  3.0  Sometimes      1   3.0    1  3.0  0.0   Sometimes       3           1  \n",
       "2  3.0  Sometimes      0   2.0    0  2.0  1.0  Frequently       3           1  \n",
       "3  3.0  Sometimes      0   2.0    0  2.0  0.0  Frequently       4           2  \n",
       "4  1.0  Sometimes      0   2.0    0  0.0  0.0   Sometimes       3           3  "
      ]
     },
     "execution_count": 363,
     "metadata": {},
     "output_type": "execute_result"
    }
   ],
   "source": [
    "cols_to_le = [\"Gender\", \"family_history_with_overweight\", \"FAVC\", \"SMOKE\", \"SCC\", \"MTRANS\"]\n",
    "for i in cols_to_le:\n",
    "    le = LabelEncoder()\n",
    "    df[i] = le.fit_transform(df[i])\n",
    "df.head()"
   ]
  },
  {
   "attachments": {},
   "cell_type": "markdown",
   "metadata": {},
   "source": [
    "# Train test split"
   ]
  },
  {
   "cell_type": "code",
   "execution_count": 442,
   "metadata": {},
   "outputs": [],
   "source": [
    "col_to_drop = [\"NObeyesdad\", \"Height\", \"Weight\"] \n",
    "X = df.drop(columns=col_to_drop)\n",
    "y = df[\"NObeyesdad\"]\n",
    "\n",
    "X_train, X_test, y_train, y_test = train_test_split(X, y, stratify = y, test_size = 0.2, random_state = 42)"
   ]
  },
  {
   "attachments": {},
   "cell_type": "markdown",
   "metadata": {},
   "source": [
    "## Inspect X train"
   ]
  },
  {
   "cell_type": "code",
   "execution_count": 443,
   "metadata": {},
   "outputs": [
    {
     "data": {
      "text/html": [
       "<div>\n",
       "<style scoped>\n",
       "    .dataframe tbody tr th:only-of-type {\n",
       "        vertical-align: middle;\n",
       "    }\n",
       "\n",
       "    .dataframe tbody tr th {\n",
       "        vertical-align: top;\n",
       "    }\n",
       "\n",
       "    .dataframe thead th {\n",
       "        text-align: right;\n",
       "    }\n",
       "</style>\n",
       "<table border=\"1\" class=\"dataframe\">\n",
       "  <thead>\n",
       "    <tr style=\"text-align: right;\">\n",
       "      <th></th>\n",
       "      <th>Gender</th>\n",
       "      <th>Age</th>\n",
       "      <th>family_history_with_overweight</th>\n",
       "      <th>FAVC</th>\n",
       "      <th>FCVC</th>\n",
       "      <th>NCP</th>\n",
       "      <th>CAEC</th>\n",
       "      <th>SMOKE</th>\n",
       "      <th>CH2O</th>\n",
       "      <th>SCC</th>\n",
       "      <th>FAF</th>\n",
       "      <th>TUE</th>\n",
       "      <th>CALC</th>\n",
       "      <th>MTRANS</th>\n",
       "    </tr>\n",
       "  </thead>\n",
       "  <tbody>\n",
       "    <tr>\n",
       "      <th>442</th>\n",
       "      <td>1</td>\n",
       "      <td>26.0</td>\n",
       "      <td>1</td>\n",
       "      <td>1</td>\n",
       "      <td>1.0</td>\n",
       "      <td>3.0</td>\n",
       "      <td>Sometimes</td>\n",
       "      <td>0</td>\n",
       "      <td>2.0</td>\n",
       "      <td>0</td>\n",
       "      <td>0.0</td>\n",
       "      <td>1.0</td>\n",
       "      <td>Sometimes</td>\n",
       "      <td>4</td>\n",
       "    </tr>\n",
       "    <tr>\n",
       "      <th>253</th>\n",
       "      <td>0</td>\n",
       "      <td>26.0</td>\n",
       "      <td>1</td>\n",
       "      <td>1</td>\n",
       "      <td>1.0</td>\n",
       "      <td>1.0</td>\n",
       "      <td>Sometimes</td>\n",
       "      <td>0</td>\n",
       "      <td>2.0</td>\n",
       "      <td>0</td>\n",
       "      <td>0.0</td>\n",
       "      <td>2.0</td>\n",
       "      <td>Sometimes</td>\n",
       "      <td>3</td>\n",
       "    </tr>\n",
       "    <tr>\n",
       "      <th>554</th>\n",
       "      <td>1</td>\n",
       "      <td>16.0</td>\n",
       "      <td>0</td>\n",
       "      <td>1</td>\n",
       "      <td>1.0</td>\n",
       "      <td>2.0</td>\n",
       "      <td>Sometimes</td>\n",
       "      <td>0</td>\n",
       "      <td>3.0</td>\n",
       "      <td>0</td>\n",
       "      <td>1.0</td>\n",
       "      <td>0.0</td>\n",
       "      <td>Sometimes</td>\n",
       "      <td>3</td>\n",
       "    </tr>\n",
       "    <tr>\n",
       "      <th>1500</th>\n",
       "      <td>1</td>\n",
       "      <td>24.0</td>\n",
       "      <td>1</td>\n",
       "      <td>1</td>\n",
       "      <td>1.0</td>\n",
       "      <td>3.0</td>\n",
       "      <td>Sometimes</td>\n",
       "      <td>0</td>\n",
       "      <td>1.0</td>\n",
       "      <td>0</td>\n",
       "      <td>0.0</td>\n",
       "      <td>1.0</td>\n",
       "      <td>no</td>\n",
       "      <td>0</td>\n",
       "    </tr>\n",
       "    <tr>\n",
       "      <th>359</th>\n",
       "      <td>0</td>\n",
       "      <td>33.0</td>\n",
       "      <td>1</td>\n",
       "      <td>0</td>\n",
       "      <td>1.0</td>\n",
       "      <td>3.0</td>\n",
       "      <td>Sometimes</td>\n",
       "      <td>0</td>\n",
       "      <td>2.0</td>\n",
       "      <td>0</td>\n",
       "      <td>1.0</td>\n",
       "      <td>0.0</td>\n",
       "      <td>Sometimes</td>\n",
       "      <td>3</td>\n",
       "    </tr>\n",
       "    <tr>\n",
       "      <th>...</th>\n",
       "      <td>...</td>\n",
       "      <td>...</td>\n",
       "      <td>...</td>\n",
       "      <td>...</td>\n",
       "      <td>...</td>\n",
       "      <td>...</td>\n",
       "      <td>...</td>\n",
       "      <td>...</td>\n",
       "      <td>...</td>\n",
       "      <td>...</td>\n",
       "      <td>...</td>\n",
       "      <td>...</td>\n",
       "      <td>...</td>\n",
       "      <td>...</td>\n",
       "    </tr>\n",
       "    <tr>\n",
       "      <th>434</th>\n",
       "      <td>1</td>\n",
       "      <td>19.0</td>\n",
       "      <td>0</td>\n",
       "      <td>1</td>\n",
       "      <td>1.0</td>\n",
       "      <td>4.0</td>\n",
       "      <td>Frequently</td>\n",
       "      <td>0</td>\n",
       "      <td>2.0</td>\n",
       "      <td>0</td>\n",
       "      <td>3.0</td>\n",
       "      <td>1.0</td>\n",
       "      <td>Frequently</td>\n",
       "      <td>0</td>\n",
       "    </tr>\n",
       "    <tr>\n",
       "      <th>840</th>\n",
       "      <td>1</td>\n",
       "      <td>20.0</td>\n",
       "      <td>1</td>\n",
       "      <td>1</td>\n",
       "      <td>2.0</td>\n",
       "      <td>3.0</td>\n",
       "      <td>Sometimes</td>\n",
       "      <td>0</td>\n",
       "      <td>3.0</td>\n",
       "      <td>0</td>\n",
       "      <td>2.0</td>\n",
       "      <td>0.0</td>\n",
       "      <td>Sometimes</td>\n",
       "      <td>3</td>\n",
       "    </tr>\n",
       "    <tr>\n",
       "      <th>1794</th>\n",
       "      <td>1</td>\n",
       "      <td>31.0</td>\n",
       "      <td>1</td>\n",
       "      <td>1</td>\n",
       "      <td>2.0</td>\n",
       "      <td>2.0</td>\n",
       "      <td>Sometimes</td>\n",
       "      <td>0</td>\n",
       "      <td>1.0</td>\n",
       "      <td>0</td>\n",
       "      <td>1.0</td>\n",
       "      <td>1.0</td>\n",
       "      <td>no</td>\n",
       "      <td>3</td>\n",
       "    </tr>\n",
       "    <tr>\n",
       "      <th>155</th>\n",
       "      <td>0</td>\n",
       "      <td>31.0</td>\n",
       "      <td>1</td>\n",
       "      <td>1</td>\n",
       "      <td>2.0</td>\n",
       "      <td>1.0</td>\n",
       "      <td>Frequently</td>\n",
       "      <td>0</td>\n",
       "      <td>2.0</td>\n",
       "      <td>0</td>\n",
       "      <td>1.0</td>\n",
       "      <td>1.0</td>\n",
       "      <td>Sometimes</td>\n",
       "      <td>0</td>\n",
       "    </tr>\n",
       "    <tr>\n",
       "      <th>1329</th>\n",
       "      <td>0</td>\n",
       "      <td>23.0</td>\n",
       "      <td>1</td>\n",
       "      <td>1</td>\n",
       "      <td>1.0</td>\n",
       "      <td>1.0</td>\n",
       "      <td>Sometimes</td>\n",
       "      <td>0</td>\n",
       "      <td>2.0</td>\n",
       "      <td>0</td>\n",
       "      <td>1.0</td>\n",
       "      <td>0.0</td>\n",
       "      <td>no</td>\n",
       "      <td>3</td>\n",
       "    </tr>\n",
       "  </tbody>\n",
       "</table>\n",
       "<p>1688 rows × 14 columns</p>\n",
       "</div>"
      ],
      "text/plain": [
       "      Gender   Age  family_history_with_overweight  FAVC  FCVC  NCP  \\\n",
       "442        1  26.0                               1     1   1.0  3.0   \n",
       "253        0  26.0                               1     1   1.0  1.0   \n",
       "554        1  16.0                               0     1   1.0  2.0   \n",
       "1500       1  24.0                               1     1   1.0  3.0   \n",
       "359        0  33.0                               1     0   1.0  3.0   \n",
       "...      ...   ...                             ...   ...   ...  ...   \n",
       "434        1  19.0                               0     1   1.0  4.0   \n",
       "840        1  20.0                               1     1   2.0  3.0   \n",
       "1794       1  31.0                               1     1   2.0  2.0   \n",
       "155        0  31.0                               1     1   2.0  1.0   \n",
       "1329       0  23.0                               1     1   1.0  1.0   \n",
       "\n",
       "            CAEC  SMOKE  CH2O  SCC  FAF  TUE        CALC  MTRANS  \n",
       "442    Sometimes      0   2.0    0  0.0  1.0   Sometimes       4  \n",
       "253    Sometimes      0   2.0    0  0.0  2.0   Sometimes       3  \n",
       "554    Sometimes      0   3.0    0  1.0  0.0   Sometimes       3  \n",
       "1500   Sometimes      0   1.0    0  0.0  1.0          no       0  \n",
       "359    Sometimes      0   2.0    0  1.0  0.0   Sometimes       3  \n",
       "...          ...    ...   ...  ...  ...  ...         ...     ...  \n",
       "434   Frequently      0   2.0    0  3.0  1.0  Frequently       0  \n",
       "840    Sometimes      0   3.0    0  2.0  0.0   Sometimes       3  \n",
       "1794   Sometimes      0   1.0    0  1.0  1.0          no       3  \n",
       "155   Frequently      0   2.0    0  1.0  1.0   Sometimes       0  \n",
       "1329   Sometimes      0   2.0    0  1.0  0.0          no       3  \n",
       "\n",
       "[1688 rows x 14 columns]"
      ]
     },
     "execution_count": 443,
     "metadata": {},
     "output_type": "execute_result"
    }
   ],
   "source": [
    "X_train"
   ]
  },
  {
   "attachments": {},
   "cell_type": "markdown",
   "metadata": {},
   "source": [
    "## Ordinal Encode"
   ]
  },
  {
   "cell_type": "code",
   "execution_count": 444,
   "metadata": {},
   "outputs": [
    {
     "data": {
      "text/html": [
       "<div>\n",
       "<style scoped>\n",
       "    .dataframe tbody tr th:only-of-type {\n",
       "        vertical-align: middle;\n",
       "    }\n",
       "\n",
       "    .dataframe tbody tr th {\n",
       "        vertical-align: top;\n",
       "    }\n",
       "\n",
       "    .dataframe thead th {\n",
       "        text-align: right;\n",
       "    }\n",
       "</style>\n",
       "<table border=\"1\" class=\"dataframe\">\n",
       "  <thead>\n",
       "    <tr style=\"text-align: right;\">\n",
       "      <th></th>\n",
       "      <th>Gender</th>\n",
       "      <th>Age</th>\n",
       "      <th>family_history_with_overweight</th>\n",
       "      <th>FAVC</th>\n",
       "      <th>FCVC</th>\n",
       "      <th>NCP</th>\n",
       "      <th>CAEC</th>\n",
       "      <th>SMOKE</th>\n",
       "      <th>CH2O</th>\n",
       "      <th>SCC</th>\n",
       "      <th>FAF</th>\n",
       "      <th>TUE</th>\n",
       "      <th>CALC</th>\n",
       "      <th>MTRANS</th>\n",
       "    </tr>\n",
       "  </thead>\n",
       "  <tbody>\n",
       "    <tr>\n",
       "      <th>442</th>\n",
       "      <td>1</td>\n",
       "      <td>26.0</td>\n",
       "      <td>1</td>\n",
       "      <td>1</td>\n",
       "      <td>1.0</td>\n",
       "      <td>3.0</td>\n",
       "      <td>1.0</td>\n",
       "      <td>0</td>\n",
       "      <td>2.0</td>\n",
       "      <td>0</td>\n",
       "      <td>0.0</td>\n",
       "      <td>1.0</td>\n",
       "      <td>1.0</td>\n",
       "      <td>4</td>\n",
       "    </tr>\n",
       "    <tr>\n",
       "      <th>253</th>\n",
       "      <td>0</td>\n",
       "      <td>26.0</td>\n",
       "      <td>1</td>\n",
       "      <td>1</td>\n",
       "      <td>1.0</td>\n",
       "      <td>1.0</td>\n",
       "      <td>1.0</td>\n",
       "      <td>0</td>\n",
       "      <td>2.0</td>\n",
       "      <td>0</td>\n",
       "      <td>0.0</td>\n",
       "      <td>2.0</td>\n",
       "      <td>1.0</td>\n",
       "      <td>3</td>\n",
       "    </tr>\n",
       "    <tr>\n",
       "      <th>554</th>\n",
       "      <td>1</td>\n",
       "      <td>16.0</td>\n",
       "      <td>0</td>\n",
       "      <td>1</td>\n",
       "      <td>1.0</td>\n",
       "      <td>2.0</td>\n",
       "      <td>1.0</td>\n",
       "      <td>0</td>\n",
       "      <td>3.0</td>\n",
       "      <td>0</td>\n",
       "      <td>1.0</td>\n",
       "      <td>0.0</td>\n",
       "      <td>1.0</td>\n",
       "      <td>3</td>\n",
       "    </tr>\n",
       "    <tr>\n",
       "      <th>1500</th>\n",
       "      <td>1</td>\n",
       "      <td>24.0</td>\n",
       "      <td>1</td>\n",
       "      <td>1</td>\n",
       "      <td>1.0</td>\n",
       "      <td>3.0</td>\n",
       "      <td>1.0</td>\n",
       "      <td>0</td>\n",
       "      <td>1.0</td>\n",
       "      <td>0</td>\n",
       "      <td>0.0</td>\n",
       "      <td>1.0</td>\n",
       "      <td>0.0</td>\n",
       "      <td>0</td>\n",
       "    </tr>\n",
       "    <tr>\n",
       "      <th>359</th>\n",
       "      <td>0</td>\n",
       "      <td>33.0</td>\n",
       "      <td>1</td>\n",
       "      <td>0</td>\n",
       "      <td>1.0</td>\n",
       "      <td>3.0</td>\n",
       "      <td>1.0</td>\n",
       "      <td>0</td>\n",
       "      <td>2.0</td>\n",
       "      <td>0</td>\n",
       "      <td>1.0</td>\n",
       "      <td>0.0</td>\n",
       "      <td>1.0</td>\n",
       "      <td>3</td>\n",
       "    </tr>\n",
       "  </tbody>\n",
       "</table>\n",
       "</div>"
      ],
      "text/plain": [
       "      Gender   Age  family_history_with_overweight  FAVC  FCVC  NCP  CAEC  \\\n",
       "442        1  26.0                               1     1   1.0  3.0   1.0   \n",
       "253        0  26.0                               1     1   1.0  1.0   1.0   \n",
       "554        1  16.0                               0     1   1.0  2.0   1.0   \n",
       "1500       1  24.0                               1     1   1.0  3.0   1.0   \n",
       "359        0  33.0                               1     0   1.0  3.0   1.0   \n",
       "\n",
       "      SMOKE  CH2O  SCC  FAF  TUE  CALC  MTRANS  \n",
       "442       0   2.0    0  0.0  1.0   1.0       4  \n",
       "253       0   2.0    0  0.0  2.0   1.0       3  \n",
       "554       0   3.0    0  1.0  0.0   1.0       3  \n",
       "1500      0   1.0    0  0.0  1.0   0.0       0  \n",
       "359       0   2.0    0  1.0  0.0   1.0       3  "
      ]
     },
     "execution_count": 444,
     "metadata": {},
     "output_type": "execute_result"
    }
   ],
   "source": [
    "cols_to_ord = [\"CAEC\", \"CALC\"]\n",
    "\n",
    "ord_enc = OrdinalEncoder(categories=[[\"no\", \"Sometimes\", \"Frequently\", \"Always\"],\n",
    "                                         [\"no\", \"Sometimes\", \"Frequently\", \"Always\"]])\n",
    "\n",
    "X_train[cols_to_ord] = ord_enc.fit_transform(X_train[cols_to_ord])\n",
    "X_test[cols_to_ord] = ord_enc.transform(X_test[cols_to_ord])\n",
    "X_train.head()\n"
   ]
  },
  {
   "cell_type": "code",
   "execution_count": 445,
   "metadata": {},
   "outputs": [
    {
     "data": {
      "text/html": [
       "<div>\n",
       "<style scoped>\n",
       "    .dataframe tbody tr th:only-of-type {\n",
       "        vertical-align: middle;\n",
       "    }\n",
       "\n",
       "    .dataframe tbody tr th {\n",
       "        vertical-align: top;\n",
       "    }\n",
       "\n",
       "    .dataframe thead th {\n",
       "        text-align: right;\n",
       "    }\n",
       "</style>\n",
       "<table border=\"1\" class=\"dataframe\">\n",
       "  <thead>\n",
       "    <tr style=\"text-align: right;\">\n",
       "      <th></th>\n",
       "      <th>Gender</th>\n",
       "      <th>Age</th>\n",
       "      <th>family_history_with_overweight</th>\n",
       "      <th>FAVC</th>\n",
       "      <th>FCVC</th>\n",
       "      <th>NCP</th>\n",
       "      <th>CAEC</th>\n",
       "      <th>SMOKE</th>\n",
       "      <th>CH2O</th>\n",
       "      <th>SCC</th>\n",
       "      <th>FAF</th>\n",
       "      <th>TUE</th>\n",
       "      <th>CALC</th>\n",
       "      <th>MTRANS</th>\n",
       "    </tr>\n",
       "  </thead>\n",
       "  <tbody>\n",
       "    <tr>\n",
       "      <th>Gender</th>\n",
       "      <td>1.000000</td>\n",
       "      <td>0.045974</td>\n",
       "      <td>0.095035</td>\n",
       "      <td>0.078526</td>\n",
       "      <td>-0.272743</td>\n",
       "      <td>0.081745</td>\n",
       "      <td>-0.092890</td>\n",
       "      <td>0.045388</td>\n",
       "      <td>0.056896</td>\n",
       "      <td>-0.098695</td>\n",
       "      <td>0.202470</td>\n",
       "      <td>0.015315</td>\n",
       "      <td>0.006922</td>\n",
       "      <td>-0.143400</td>\n",
       "    </tr>\n",
       "    <tr>\n",
       "      <th>Age</th>\n",
       "      <td>0.045974</td>\n",
       "      <td>1.000000</td>\n",
       "      <td>0.218257</td>\n",
       "      <td>0.083431</td>\n",
       "      <td>0.000779</td>\n",
       "      <td>-0.053270</td>\n",
       "      <td>-0.082336</td>\n",
       "      <td>0.094705</td>\n",
       "      <td>-0.034033</td>\n",
       "      <td>-0.121402</td>\n",
       "      <td>-0.127657</td>\n",
       "      <td>-0.283199</td>\n",
       "      <td>0.036785</td>\n",
       "      <td>-0.606381</td>\n",
       "    </tr>\n",
       "    <tr>\n",
       "      <th>family_history_with_overweight</th>\n",
       "      <td>0.095035</td>\n",
       "      <td>0.218257</td>\n",
       "      <td>1.000000</td>\n",
       "      <td>0.204672</td>\n",
       "      <td>0.009883</td>\n",
       "      <td>0.046047</td>\n",
       "      <td>-0.158420</td>\n",
       "      <td>0.003502</td>\n",
       "      <td>0.128790</td>\n",
       "      <td>-0.180247</td>\n",
       "      <td>-0.058395</td>\n",
       "      <td>0.024205</td>\n",
       "      <td>-0.029362</td>\n",
       "      <td>-0.106733</td>\n",
       "    </tr>\n",
       "    <tr>\n",
       "      <th>FAVC</th>\n",
       "      <td>0.078526</td>\n",
       "      <td>0.083431</td>\n",
       "      <td>0.204672</td>\n",
       "      <td>1.000000</td>\n",
       "      <td>-0.059913</td>\n",
       "      <td>-0.011639</td>\n",
       "      <td>-0.166281</td>\n",
       "      <td>-0.064057</td>\n",
       "      <td>0.012077</td>\n",
       "      <td>-0.199856</td>\n",
       "      <td>-0.118977</td>\n",
       "      <td>0.068491</td>\n",
       "      <td>0.119627</td>\n",
       "      <td>-0.079010</td>\n",
       "    </tr>\n",
       "    <tr>\n",
       "      <th>FCVC</th>\n",
       "      <td>-0.272743</td>\n",
       "      <td>0.000779</td>\n",
       "      <td>0.009883</td>\n",
       "      <td>-0.059913</td>\n",
       "      <td>1.000000</td>\n",
       "      <td>0.041271</td>\n",
       "      <td>0.069792</td>\n",
       "      <td>0.002427</td>\n",
       "      <td>0.052400</td>\n",
       "      <td>0.076476</td>\n",
       "      <td>0.021490</td>\n",
       "      <td>-0.087493</td>\n",
       "      <td>0.035553</td>\n",
       "      <td>0.083170</td>\n",
       "    </tr>\n",
       "    <tr>\n",
       "      <th>NCP</th>\n",
       "      <td>0.081745</td>\n",
       "      <td>-0.053270</td>\n",
       "      <td>0.046047</td>\n",
       "      <td>-0.011639</td>\n",
       "      <td>0.041271</td>\n",
       "      <td>1.000000</td>\n",
       "      <td>0.101231</td>\n",
       "      <td>0.005585</td>\n",
       "      <td>0.052512</td>\n",
       "      <td>0.000133</td>\n",
       "      <td>0.130696</td>\n",
       "      <td>0.004125</td>\n",
       "      <td>0.074801</td>\n",
       "      <td>-0.065573</td>\n",
       "    </tr>\n",
       "    <tr>\n",
       "      <th>CAEC</th>\n",
       "      <td>-0.092890</td>\n",
       "      <td>-0.082336</td>\n",
       "      <td>-0.158420</td>\n",
       "      <td>-0.166281</td>\n",
       "      <td>0.069792</td>\n",
       "      <td>0.101231</td>\n",
       "      <td>1.000000</td>\n",
       "      <td>0.055045</td>\n",
       "      <td>-0.121622</td>\n",
       "      <td>0.102785</td>\n",
       "      <td>0.034518</td>\n",
       "      <td>0.043418</td>\n",
       "      <td>-0.058633</td>\n",
       "      <td>0.043745</td>\n",
       "    </tr>\n",
       "    <tr>\n",
       "      <th>SMOKE</th>\n",
       "      <td>0.045388</td>\n",
       "      <td>0.094705</td>\n",
       "      <td>0.003502</td>\n",
       "      <td>-0.064057</td>\n",
       "      <td>0.002427</td>\n",
       "      <td>0.005585</td>\n",
       "      <td>0.055045</td>\n",
       "      <td>1.000000</td>\n",
       "      <td>-0.027992</td>\n",
       "      <td>0.066177</td>\n",
       "      <td>0.019631</td>\n",
       "      <td>0.018467</td>\n",
       "      <td>0.091905</td>\n",
       "      <td>-0.033637</td>\n",
       "    </tr>\n",
       "    <tr>\n",
       "      <th>CH2O</th>\n",
       "      <td>0.056896</td>\n",
       "      <td>-0.034033</td>\n",
       "      <td>0.128790</td>\n",
       "      <td>0.012077</td>\n",
       "      <td>0.052400</td>\n",
       "      <td>0.052512</td>\n",
       "      <td>-0.121622</td>\n",
       "      <td>-0.027992</td>\n",
       "      <td>1.000000</td>\n",
       "      <td>-0.005737</td>\n",
       "      <td>0.099436</td>\n",
       "      <td>-0.036897</td>\n",
       "      <td>0.096333</td>\n",
       "      <td>0.058086</td>\n",
       "    </tr>\n",
       "    <tr>\n",
       "      <th>SCC</th>\n",
       "      <td>-0.098695</td>\n",
       "      <td>-0.121402</td>\n",
       "      <td>-0.180247</td>\n",
       "      <td>-0.199856</td>\n",
       "      <td>0.076476</td>\n",
       "      <td>0.000133</td>\n",
       "      <td>0.102785</td>\n",
       "      <td>0.066177</td>\n",
       "      <td>-0.005737</td>\n",
       "      <td>1.000000</td>\n",
       "      <td>0.070929</td>\n",
       "      <td>-0.016485</td>\n",
       "      <td>-0.008174</td>\n",
       "      <td>0.044821</td>\n",
       "    </tr>\n",
       "    <tr>\n",
       "      <th>FAF</th>\n",
       "      <td>0.202470</td>\n",
       "      <td>-0.127657</td>\n",
       "      <td>-0.058395</td>\n",
       "      <td>-0.118977</td>\n",
       "      <td>0.021490</td>\n",
       "      <td>0.130696</td>\n",
       "      <td>0.034518</td>\n",
       "      <td>0.019631</td>\n",
       "      <td>0.099436</td>\n",
       "      <td>0.070929</td>\n",
       "      <td>1.000000</td>\n",
       "      <td>0.041684</td>\n",
       "      <td>-0.068545</td>\n",
       "      <td>-0.009388</td>\n",
       "    </tr>\n",
       "    <tr>\n",
       "      <th>TUE</th>\n",
       "      <td>0.015315</td>\n",
       "      <td>-0.283199</td>\n",
       "      <td>0.024205</td>\n",
       "      <td>0.068491</td>\n",
       "      <td>-0.087493</td>\n",
       "      <td>0.004125</td>\n",
       "      <td>0.043418</td>\n",
       "      <td>0.018467</td>\n",
       "      <td>-0.036897</td>\n",
       "      <td>-0.016485</td>\n",
       "      <td>0.041684</td>\n",
       "      <td>1.000000</td>\n",
       "      <td>-0.022287</td>\n",
       "      <td>0.146983</td>\n",
       "    </tr>\n",
       "    <tr>\n",
       "      <th>CALC</th>\n",
       "      <td>0.006922</td>\n",
       "      <td>0.036785</td>\n",
       "      <td>-0.029362</td>\n",
       "      <td>0.119627</td>\n",
       "      <td>0.035553</td>\n",
       "      <td>0.074801</td>\n",
       "      <td>-0.058633</td>\n",
       "      <td>0.091905</td>\n",
       "      <td>0.096333</td>\n",
       "      <td>-0.008174</td>\n",
       "      <td>-0.068545</td>\n",
       "      <td>-0.022287</td>\n",
       "      <td>1.000000</td>\n",
       "      <td>0.013409</td>\n",
       "    </tr>\n",
       "    <tr>\n",
       "      <th>MTRANS</th>\n",
       "      <td>-0.143400</td>\n",
       "      <td>-0.606381</td>\n",
       "      <td>-0.106733</td>\n",
       "      <td>-0.079010</td>\n",
       "      <td>0.083170</td>\n",
       "      <td>-0.065573</td>\n",
       "      <td>0.043745</td>\n",
       "      <td>-0.033637</td>\n",
       "      <td>0.058086</td>\n",
       "      <td>0.044821</td>\n",
       "      <td>-0.009388</td>\n",
       "      <td>0.146983</td>\n",
       "      <td>0.013409</td>\n",
       "      <td>1.000000</td>\n",
       "    </tr>\n",
       "  </tbody>\n",
       "</table>\n",
       "</div>"
      ],
      "text/plain": [
       "                                  Gender       Age  \\\n",
       "Gender                          1.000000  0.045974   \n",
       "Age                             0.045974  1.000000   \n",
       "family_history_with_overweight  0.095035  0.218257   \n",
       "FAVC                            0.078526  0.083431   \n",
       "FCVC                           -0.272743  0.000779   \n",
       "NCP                             0.081745 -0.053270   \n",
       "CAEC                           -0.092890 -0.082336   \n",
       "SMOKE                           0.045388  0.094705   \n",
       "CH2O                            0.056896 -0.034033   \n",
       "SCC                            -0.098695 -0.121402   \n",
       "FAF                             0.202470 -0.127657   \n",
       "TUE                             0.015315 -0.283199   \n",
       "CALC                            0.006922  0.036785   \n",
       "MTRANS                         -0.143400 -0.606381   \n",
       "\n",
       "                                family_history_with_overweight      FAVC  \\\n",
       "Gender                                                0.095035  0.078526   \n",
       "Age                                                   0.218257  0.083431   \n",
       "family_history_with_overweight                        1.000000  0.204672   \n",
       "FAVC                                                  0.204672  1.000000   \n",
       "FCVC                                                  0.009883 -0.059913   \n",
       "NCP                                                   0.046047 -0.011639   \n",
       "CAEC                                                 -0.158420 -0.166281   \n",
       "SMOKE                                                 0.003502 -0.064057   \n",
       "CH2O                                                  0.128790  0.012077   \n",
       "SCC                                                  -0.180247 -0.199856   \n",
       "FAF                                                  -0.058395 -0.118977   \n",
       "TUE                                                   0.024205  0.068491   \n",
       "CALC                                                 -0.029362  0.119627   \n",
       "MTRANS                                               -0.106733 -0.079010   \n",
       "\n",
       "                                    FCVC       NCP      CAEC     SMOKE  \\\n",
       "Gender                         -0.272743  0.081745 -0.092890  0.045388   \n",
       "Age                             0.000779 -0.053270 -0.082336  0.094705   \n",
       "family_history_with_overweight  0.009883  0.046047 -0.158420  0.003502   \n",
       "FAVC                           -0.059913 -0.011639 -0.166281 -0.064057   \n",
       "FCVC                            1.000000  0.041271  0.069792  0.002427   \n",
       "NCP                             0.041271  1.000000  0.101231  0.005585   \n",
       "CAEC                            0.069792  0.101231  1.000000  0.055045   \n",
       "SMOKE                           0.002427  0.005585  0.055045  1.000000   \n",
       "CH2O                            0.052400  0.052512 -0.121622 -0.027992   \n",
       "SCC                             0.076476  0.000133  0.102785  0.066177   \n",
       "FAF                             0.021490  0.130696  0.034518  0.019631   \n",
       "TUE                            -0.087493  0.004125  0.043418  0.018467   \n",
       "CALC                            0.035553  0.074801 -0.058633  0.091905   \n",
       "MTRANS                          0.083170 -0.065573  0.043745 -0.033637   \n",
       "\n",
       "                                    CH2O       SCC       FAF       TUE  \\\n",
       "Gender                          0.056896 -0.098695  0.202470  0.015315   \n",
       "Age                            -0.034033 -0.121402 -0.127657 -0.283199   \n",
       "family_history_with_overweight  0.128790 -0.180247 -0.058395  0.024205   \n",
       "FAVC                            0.012077 -0.199856 -0.118977  0.068491   \n",
       "FCVC                            0.052400  0.076476  0.021490 -0.087493   \n",
       "NCP                             0.052512  0.000133  0.130696  0.004125   \n",
       "CAEC                           -0.121622  0.102785  0.034518  0.043418   \n",
       "SMOKE                          -0.027992  0.066177  0.019631  0.018467   \n",
       "CH2O                            1.000000 -0.005737  0.099436 -0.036897   \n",
       "SCC                            -0.005737  1.000000  0.070929 -0.016485   \n",
       "FAF                             0.099436  0.070929  1.000000  0.041684   \n",
       "TUE                            -0.036897 -0.016485  0.041684  1.000000   \n",
       "CALC                            0.096333 -0.008174 -0.068545 -0.022287   \n",
       "MTRANS                          0.058086  0.044821 -0.009388  0.146983   \n",
       "\n",
       "                                    CALC    MTRANS  \n",
       "Gender                          0.006922 -0.143400  \n",
       "Age                             0.036785 -0.606381  \n",
       "family_history_with_overweight -0.029362 -0.106733  \n",
       "FAVC                            0.119627 -0.079010  \n",
       "FCVC                            0.035553  0.083170  \n",
       "NCP                             0.074801 -0.065573  \n",
       "CAEC                           -0.058633  0.043745  \n",
       "SMOKE                           0.091905 -0.033637  \n",
       "CH2O                            0.096333  0.058086  \n",
       "SCC                            -0.008174  0.044821  \n",
       "FAF                            -0.068545 -0.009388  \n",
       "TUE                            -0.022287  0.146983  \n",
       "CALC                            1.000000  0.013409  \n",
       "MTRANS                          0.013409  1.000000  "
      ]
     },
     "execution_count": 445,
     "metadata": {},
     "output_type": "execute_result"
    }
   ],
   "source": [
    "X_train.corr()"
   ]
  },
  {
   "cell_type": "code",
   "execution_count": 446,
   "metadata": {},
   "outputs": [
    {
     "data": {
      "text/plain": [
       "1.0    817\n",
       "2.0    789\n",
       "0.0     82\n",
       "Name: FCVC, dtype: int64"
      ]
     },
     "execution_count": 446,
     "metadata": {},
     "output_type": "execute_result"
    }
   ],
   "source": [
    "X_train.FCVC.value_counts()"
   ]
  },
  {
   "attachments": {},
   "cell_type": "markdown",
   "metadata": {},
   "source": [
    "## Normalize Age"
   ]
  },
  {
   "cell_type": "code",
   "execution_count": 447,
   "metadata": {},
   "outputs": [],
   "source": [
    "X_train[\"Age\"] = [np.log(x) for x in X_train[\"Age\"]]\n"
   ]
  },
  {
   "cell_type": "code",
   "execution_count": 448,
   "metadata": {},
   "outputs": [
    {
     "data": {
      "text/plain": [
       "<AxesSubplot:xlabel='Age'>"
      ]
     },
     "metadata": {},
     "output_type": "display_data"
    },
    {
     "data": {
      "text/plain": [
       "<seaborn.axisgrid.FacetGrid at 0x7fb414288430>"
      ]
     },
     "metadata": {},
     "output_type": "display_data"
    },
    {
     "data": {
      "image/png": "[encoded data removed]",
      "text/plain": [
       "<Figure size 432x288 with 1 Axes>"
      ]
     },
     "metadata": {
      "needs_background": "light"
     },
     "output_type": "display_data"
    },
    {
     "data": {
      "image/png": "[encoded data removed]",
      "text/plain": [
       "<Figure size 360x360 with 1 Axes>"
      ]
     },
     "metadata": {
      "needs_background": "light"
     },
     "output_type": "display_data"
    }
   ],
   "source": [
    "display(sns.boxenplot(X_train.Age))\n",
    "display(sns.displot(X_train.Age))"
   ]
  },
  {
   "cell_type": "code",
   "execution_count": 449,
   "metadata": {},
   "outputs": [
    {
     "data": {
      "text/plain": [
       "<seaborn.axisgrid.FacetGrid at 0x7fb461473880>"
      ]
     },
     "metadata": {},
     "output_type": "display_data"
    },
    {
     "data": {
      "text/plain": [
       "1    846\n",
       "0    842\n",
       "Name: Gender, dtype: int64"
      ]
     },
     "metadata": {},
     "output_type": "display_data"
    },
    {
     "data": {
      "text/plain": [
       "<seaborn.axisgrid.FacetGrid at 0x7fb4614600a0>"
      ]
     },
     "metadata": {},
     "output_type": "display_data"
    },
    {
     "data": {
      "text/plain": [
       "3.044522    178\n",
       "3.135494    172\n",
       "3.258097    170\n",
       "2.890372    166\n",
       "2.944439    140\n",
       "3.091042    138\n",
       "2.995732    122\n",
       "3.178054     80\n",
       "3.218876     66\n",
       "2.833213     54\n",
       "3.433987     46\n",
       "3.401197     44\n",
       "3.295837     37\n",
       "3.496508     32\n",
       "3.637586     28\n",
       "3.367296     25\n",
       "3.526361     21\n",
       "3.465736     21\n",
       "3.610918     21\n",
       "3.713572     17\n",
       "3.555348     17\n",
       "3.663562     16\n",
       "2.772589     16\n",
       "3.332205     16\n",
       "3.688879     16\n",
       "3.784190      5\n",
       "3.737670      4\n",
       "3.583519      4\n",
       "4.007333      3\n",
       "3.761200      2\n",
       "3.931826      2\n",
       "3.828641      2\n",
       "3.850148      1\n",
       "3.806662      1\n",
       "3.951244      1\n",
       "4.110874      1\n",
       "2.708050      1\n",
       "4.025352      1\n",
       "3.871201      1\n",
       "Name: Age, dtype: int64"
      ]
     },
     "metadata": {},
     "output_type": "display_data"
    },
    {
     "data": {
      "text/plain": [
       "<seaborn.axisgrid.FacetGrid at 0x7fb47457ebb0>"
      ]
     },
     "metadata": {},
     "output_type": "display_data"
    },
    {
     "data": {
      "text/plain": [
       "1    1383\n",
       "0     305\n",
       "Name: family_history_with_overweight, dtype: int64"
      ]
     },
     "metadata": {},
     "output_type": "display_data"
    },
    {
     "data": {
      "text/plain": [
       "<seaborn.axisgrid.FacetGrid at 0x7fb47611fc40>"
      ]
     },
     "metadata": {},
     "output_type": "display_data"
    },
    {
     "data": {
      "text/plain": [
       "1    1492\n",
       "0     196\n",
       "Name: FAVC, dtype: int64"
      ]
     },
     "metadata": {},
     "output_type": "display_data"
    },
    {
     "data": {
      "text/plain": [
       "<seaborn.axisgrid.FacetGrid at 0x7fb4608a43d0>"
      ]
     },
     "metadata": {},
     "output_type": "display_data"
    },
    {
     "data": {
      "text/plain": [
       "1.0    817\n",
       "2.0    789\n",
       "0.0     82\n",
       "Name: FCVC, dtype: int64"
      ]
     },
     "metadata": {},
     "output_type": "display_data"
    },
    {
     "data": {
      "text/plain": [
       "<seaborn.axisgrid.FacetGrid at 0x7fb475fc3700>"
      ]
     },
     "metadata": {},
     "output_type": "display_data"
    },
    {
     "data": {
      "text/plain": [
       "3.0    1166\n",
       "1.0     255\n",
       "2.0     146\n",
       "4.0     121\n",
       "Name: NCP, dtype: int64"
      ]
     },
     "metadata": {},
     "output_type": "display_data"
    },
    {
     "data": {
      "text/plain": [
       "<seaborn.axisgrid.FacetGrid at 0x7fb475fc3340>"
      ]
     },
     "metadata": {},
     "output_type": "display_data"
    },
    {
     "data": {
      "text/plain": [
       "1.0    1414\n",
       "2.0     188\n",
       "3.0      43\n",
       "0.0      43\n",
       "Name: CAEC, dtype: int64"
      ]
     },
     "metadata": {},
     "output_type": "display_data"
    },
    {
     "data": {
      "text/plain": [
       "<seaborn.axisgrid.FacetGrid at 0x7fb475ec06a0>"
      ]
     },
     "metadata": {},
     "output_type": "display_data"
    },
    {
     "data": {
      "text/plain": [
       "0    1653\n",
       "1      35\n",
       "Name: SMOKE, dtype: int64"
      ]
     },
     "metadata": {},
     "output_type": "display_data"
    },
    {
     "data": {
      "text/plain": [
       "<seaborn.axisgrid.FacetGrid at 0x7fb475fc3340>"
      ]
     },
     "metadata": {},
     "output_type": "display_data"
    },
    {
     "data": {
      "text/plain": [
       "2.0    892\n",
       "3.0    413\n",
       "1.0    383\n",
       "Name: CH2O, dtype: int64"
      ]
     },
     "metadata": {},
     "output_type": "display_data"
    },
    {
     "data": {
      "text/plain": [
       "<seaborn.axisgrid.FacetGrid at 0x7fb417f227f0>"
      ]
     },
     "metadata": {},
     "output_type": "display_data"
    },
    {
     "data": {
      "text/plain": [
       "0    1609\n",
       "1      79\n",
       "Name: SCC, dtype: int64"
      ]
     },
     "metadata": {},
     "output_type": "display_data"
    },
    {
     "data": {
      "text/plain": [
       "<seaborn.axisgrid.FacetGrid at 0x7fb4611faee0>"
      ]
     },
     "metadata": {},
     "output_type": "display_data"
    },
    {
     "data": {
      "text/plain": [
       "1.0    619\n",
       "0.0    582\n",
       "2.0    401\n",
       "3.0     86\n",
       "Name: FAF, dtype: int64"
      ]
     },
     "metadata": {},
     "output_type": "display_data"
    },
    {
     "data": {
      "text/plain": [
       "<seaborn.axisgrid.FacetGrid at 0x7fb475fa4d30>"
      ]
     },
     "metadata": {},
     "output_type": "display_data"
    },
    {
     "data": {
      "text/plain": [
       "0.0    769\n",
       "1.0    728\n",
       "2.0    191\n",
       "Name: TUE, dtype: int64"
      ]
     },
     "metadata": {},
     "output_type": "display_data"
    },
    {
     "data": {
      "text/plain": [
       "<seaborn.axisgrid.FacetGrid at 0x7fb474809220>"
      ]
     },
     "metadata": {},
     "output_type": "display_data"
    },
    {
     "data": {
      "text/plain": [
       "1.0    1108\n",
       "0.0     520\n",
       "2.0      59\n",
       "3.0       1\n",
       "Name: CALC, dtype: int64"
      ]
     },
     "metadata": {},
     "output_type": "display_data"
    },
    {
     "data": {
      "text/plain": [
       "<seaborn.axisgrid.FacetGrid at 0x7fb414550640>"
      ]
     },
     "metadata": {},
     "output_type": "display_data"
    },
    {
     "data": {
      "text/plain": [
       "3    1256\n",
       "0     373\n",
       "4      44\n",
       "2       9\n",
       "1       6\n",
       "Name: MTRANS, dtype: int64"
      ]
     },
     "metadata": {},
     "output_type": "display_data"
    },
    {
     "data": {
      "text/plain": [
       "[None,\n",
       " None,\n",
       " None,\n",
       " None,\n",
       " None,\n",
       " None,\n",
       " None,\n",
       " None,\n",
       " None,\n",
       " None,\n",
       " None,\n",
       " None,\n",
       " None,\n",
       " None]"
      ]
     },
     "execution_count": 449,
     "metadata": {},
     "output_type": "execute_result"
    },
    {
     "data": {
      "image/png": "[encoded data removed]",
      "text/plain": [
       "<Figure size 360x360 with 1 Axes>"
      ]
     },
     "metadata": {
      "needs_background": "light"
     },
     "output_type": "display_data"
    },
    {
     "data": {
      "image/png": "[encoded data removed]",
      "text/plain": [
       "<Figure size 360x360 with 1 Axes>"
      ]
     },
     "metadata": {
      "needs_background": "light"
     },
     "output_type": "display_data"
    },
    {
     "data": {
      "image/png": "[encoded data removed]",
      "text/plain": [
       "<Figure size 360x360 with 1 Axes>"
      ]
     },
     "metadata": {
      "needs_background": "light"
     },
     "output_type": "display_data"
    },
    {
     "data": {
      "image/png": "[encoded data removed]",
      "text/plain": [
       "<Figure size 360x360 with 1 Axes>"
      ]
     },
     "metadata": {
      "needs_background": "light"
     },
     "output_type": "display_data"
    },
    {
     "data": {
      "image/png": "[encoded data removed]",
      "text/plain": [
       "<Figure size 360x360 with 1 Axes>"
      ]
     },
     "metadata": {
      "needs_background": "light"
     },
     "output_type": "display_data"
    },
    {
     "data": {
      "image/png": "[encoded data removed]",
      "text/plain": [
       "<Figure size 360x360 with 1 Axes>"
      ]
     },
     "metadata": {
      "needs_background": "light"
     },
     "output_type": "display_data"
    },
    {
     "data": {
      "image/png": "[encoded data removed]",
      "text/plain": [
       "<Figure size 360x360 with 1 Axes>"
      ]
     },
     "metadata": {
      "needs_background": "light"
     },
     "output_type": "display_data"
    },
    {
     "data": {
      "image/png": "[encoded data removed]",
      "text/plain": [
       "<Figure size 360x360 with 1 Axes>"
      ]
     },
     "metadata": {
      "needs_background": "light"
     },
     "output_type": "display_data"
    },
    {
     "data": {
      "image/png": "[encoded data removed]",
      "text/plain": [
       "<Figure size 360x360 with 1 Axes>"
      ]
     },
     "metadata": {
      "needs_background": "light"
     },
     "output_type": "display_data"
    },
    {
     "data": {
      "image/png": "[encoded data removed]",
      "text/plain": [
       "<Figure size 360x360 with 1 Axes>"
      ]
     },
     "metadata": {
      "needs_background": "light"
     },
     "output_type": "display_data"
    },
    {
     "data": {
      "image/png": "[encoded data removed]",
      "text/plain": [
       "<Figure size 360x360 with 1 Axes>"
      ]
     },
     "metadata": {
      "needs_background": "light"
     },
     "output_type": "display_data"
    },
    {
     "data": {
      "image/png": "[encoded data removed]",
      "text/plain": [
       "<Figure size 360x360 with 1 Axes>"
      ]
     },
     "metadata": {
      "needs_background": "light"
     },
     "output_type": "display_data"
    },
    {
     "data": {
      "image/png": "[encoded data removed]",
      "text/plain": [
       "<Figure size 360x360 with 1 Axes>"
      ]
     },
     "metadata": {
      "needs_background": "light"
     },
     "output_type": "display_data"
    },
    {
     "data": {
      "image/png": "[encoded data removed]",
      "text/plain": [
       "<Figure size 360x360 with 1 Axes>"
      ]
     },
     "metadata": {
      "needs_background": "light"
     },
     "output_type": "display_data"
    }
   ],
   "source": [
    "[display(sns.displot(X_train[x]), X_train[x].value_counts()) for x in list(X_train.columns)]\n"
   ]
  },
  {
   "attachments": {},
   "cell_type": "markdown",
   "metadata": {},
   "source": [
    "# Initial Models"
   ]
  },
  {
   "attachments": {},
   "cell_type": "markdown",
   "metadata": {},
   "source": [
    "## set config"
   ]
  },
  {
   "cell_type": "code",
   "execution_count": 451,
   "metadata": {},
   "outputs": [],
   "source": [
    "# this will allow us to visualize the pipeline (may not be available in learn-env)\n",
    "set_config(display= 'diagram')"
   ]
  },
  {
   "attachments": {},
   "cell_type": "markdown",
   "metadata": {},
   "source": [
    "## Base Model RF SS"
   ]
  },
  {
   "cell_type": "code",
   "execution_count": 452,
   "metadata": {},
   "outputs": [
    {
     "data": {
      "text/plain": [
       "{'rf__criterion': 'entropy',\n",
       " 'rf__max_depth': 11,\n",
       " 'rf__max_features': 'log2',\n",
       " 'rf__n_estimators': 457}"
      ]
     },
     "metadata": {},
     "output_type": "display_data"
    },
    {
     "data": {
      "text/plain": [
       "0.7849577721981282"
      ]
     },
     "metadata": {},
     "output_type": "display_data"
    },
    {
     "data": {
      "text/html": [
       "<style>div.sk-top-container {color: black;background-color: white;}div.sk-toggleable {background-color: white;}label.sk-toggleable__label {cursor: pointer;display: block;width: 100%;margin-bottom: 0;padding: 0.2em 0.3em;box-sizing: border-box;text-align: center;}div.sk-toggleable__content {max-height: 0;max-width: 0;overflow: hidden;text-align: left;background-color: #f0f8ff;}div.sk-toggleable__content pre {margin: 0.2em;color: black;border-radius: 0.25em;background-color: #f0f8ff;}input.sk-toggleable__control:checked~div.sk-toggleable__content {max-height: 200px;max-width: 100%;overflow: auto;}div.sk-estimator input.sk-toggleable__control:checked~label.sk-toggleable__label {background-color: #d4ebff;}div.sk-label input.sk-toggleable__control:checked~label.sk-toggleable__label {background-color: #d4ebff;}input.sk-hidden--visually {border: 0;clip: rect(1px 1px 1px 1px);clip: rect(1px, 1px, 1px, 1px);height: 1px;margin: -1px;overflow: hidden;padding: 0;position: absolute;width: 1px;}div.sk-estimator {font-family: monospace;background-color: #f0f8ff;margin: 0.25em 0.25em;border: 1px dotted black;border-radius: 0.25em;box-sizing: border-box;}div.sk-estimator:hover {background-color: #d4ebff;}div.sk-parallel-item::after {content: \"\";width: 100%;border-bottom: 1px solid gray;flex-grow: 1;}div.sk-label:hover label.sk-toggleable__label {background-color: #d4ebff;}div.sk-serial::before {content: \"\";position: absolute;border-left: 1px solid gray;box-sizing: border-box;top: 2em;bottom: 0;left: 50%;}div.sk-serial {display: flex;flex-direction: column;align-items: center;background-color: white;}div.sk-item {z-index: 1;}div.sk-parallel {display: flex;align-items: stretch;justify-content: center;background-color: white;}div.sk-parallel-item {display: flex;flex-direction: column;position: relative;background-color: white;}div.sk-parallel-item:first-child::after {align-self: flex-end;width: 50%;}div.sk-parallel-item:last-child::after {align-self: flex-start;width: 50%;}div.sk-parallel-item:only-child::after {width: 0;}div.sk-dashed-wrapped {border: 1px dashed gray;margin: 0.2em;box-sizing: border-box;padding-bottom: 0.1em;background-color: white;position: relative;}div.sk-label label {font-family: monospace;font-weight: bold;background-color: white;display: inline-block;line-height: 1.2em;}div.sk-label-container {position: relative;z-index: 2;text-align: center;}div.sk-container {display: inline-block;position: relative;}</style><div class=\"sk-top-container\"><div class=\"sk-container\"><div class=\"sk-item sk-dashed-wrapped\"><div class=\"sk-label-container\"><div class=\"sk-label sk-toggleable\"><input class=\"sk-toggleable__control sk-hidden--visually\" id=\"4dbc2253-ada2-412b-9acb-639d542d5672\" type=\"checkbox\" ><label class=\"sk-toggleable__label\" for=\"4dbc2253-ada2-412b-9acb-639d542d5672\">Pipeline</label><div class=\"sk-toggleable__content\"><pre>Pipeline(steps=[('std_scaler', StandardScaler()),\n",
       "                ('rf',\n",
       "                 RandomForestClassifier(criterion='entropy', max_depth=11,\n",
       "                                        max_features='log2', n_estimators=457,\n",
       "                                        random_state=42))])</pre></div></div></div><div class=\"sk-serial\"><div class=\"sk-item\"><div class=\"sk-estimator sk-toggleable\"><input class=\"sk-toggleable__control sk-hidden--visually\" id=\"3ba32142-2d80-4646-80a4-e53db59dd8ad\" type=\"checkbox\" ><label class=\"sk-toggleable__label\" for=\"3ba32142-2d80-4646-80a4-e53db59dd8ad\">StandardScaler</label><div class=\"sk-toggleable__content\"><pre>StandardScaler()</pre></div></div></div><div class=\"sk-item\"><div class=\"sk-estimator sk-toggleable\"><input class=\"sk-toggleable__control sk-hidden--visually\" id=\"244704a1-5f76-44f4-97f6-8304ef919971\" type=\"checkbox\" ><label class=\"sk-toggleable__label\" for=\"244704a1-5f76-44f4-97f6-8304ef919971\">RandomForestClassifier</label><div class=\"sk-toggleable__content\"><pre>RandomForestClassifier(criterion='entropy', max_depth=11, max_features='log2',\n",
       "                       n_estimators=457, random_state=42)</pre></div></div></div></div></div></div></div>"
      ],
      "text/plain": [
       "Pipeline(steps=[('std_scaler', StandardScaler()),\n",
       "                ('rf',\n",
       "                 RandomForestClassifier(criterion='entropy', max_depth=11,\n",
       "                                        max_features='log2', n_estimators=457,\n",
       "                                        random_state=42))])"
      ]
     },
     "metadata": {},
     "output_type": "display_data"
    },
    {
     "data": {
      "text/plain": [
       "<sklearn.metrics._plot.confusion_matrix.ConfusionMatrixDisplay at 0x7fb43492ef70>"
      ]
     },
     "execution_count": 452,
     "metadata": {},
     "output_type": "execute_result"
    },
    {
     "data": {
      "image/png": "[encoded data removed]",
      "text/plain": [
       "<Figure size 432x288 with 2 Axes>"
      ]
     },
     "metadata": {
      "needs_background": "light"
     },
     "output_type": "display_data"
    }
   ],
   "source": [
    "steps = [('std_scaler', StandardScaler()), ('rf', RandomForestClassifier(random_state=42))]\n",
    "\n",
    "pipeline = Pipeline(steps)\n",
    "\n",
    "# Train the pipeline (tranformations & predictor)\n",
    "pipeline.fit(X_train, y_train)\n",
    "\n",
    "# Predict using the pipeline (includes the transfomers & trained predictor)\n",
    "predicted = pipeline.predict(X_test)\n",
    "\n",
    "pipe_grid = {\n",
    "            \"rf__n_estimators\": [457],\n",
    "            \"rf__criterion\": [\"entropy\"],\n",
    "            \"rf__max_depth\": [11],\n",
    "            \"rf__max_features\": [\"log2\"]\n",
    "            }\n",
    "\n",
    "# note: default scoring is aaccuracy\n",
    "second_pipe = GridSearchCV(estimator = pipeline,\n",
    "                  param_grid = pipe_grid)\n",
    "\n",
    "second_pipe.fit(X_train, y_train)\n",
    "display(second_pipe.best_params_)\n",
    "display(second_pipe.best_score_)\n",
    "display(second_pipe.best_estimator_)\n",
    "best_model = second_pipe.best_estimator_\n",
    "y_pred = best_model.predict(X_test)\n",
    "plot_confusion_matrix(best_model,X_test,y_test)"
   ]
  },
  {
   "attachments": {},
   "cell_type": "markdown",
   "metadata": {},
   "source": [
    "1: Logreg OHE"
   ]
  },
  {
   "cell_type": "code",
   "execution_count": 500,
   "metadata": {},
   "outputs": [],
   "source": [
    "encoder_cols = [\n",
    "                [\"Gender\"],\n",
    "                [\"family_history_with_overweight\"],\n",
    "                [\"FAVC\"],\n",
    "                [\"FCVC\"],\n",
    "                [\"NCP\"],\n",
    "                [\"CAEC\"],\n",
    "                [\"SMOKE\"],\n",
    "                [\"CH2O\"],\n",
    "                [\"SCC\"],\n",
    "                [\"FAF\"],\n",
    "                [\"TUE\"],\n",
    "                [\"CALC\"],\n",
    "                [\"MTRANS\"]\n",
    "]"
   ]
  },
  {
   "cell_type": "code",
   "execution_count": 510,
   "metadata": {},
   "outputs": [
    {
     "data": {
      "text/plain": [
       "{'clf__max_iter': 90, 'clf__penalty': 'l2', 'clf__solver': 'lbfgs'}"
      ]
     },
     "metadata": {},
     "output_type": "display_data"
    },
    {
     "data": {
      "text/plain": [
       "0.6356680069531017"
      ]
     },
     "metadata": {},
     "output_type": "display_data"
    },
    {
     "data": {
      "text/html": [
       "<style>div.sk-top-container {color: black;background-color: white;}div.sk-toggleable {background-color: white;}label.sk-toggleable__label {cursor: pointer;display: block;width: 100%;margin-bottom: 0;padding: 0.2em 0.3em;box-sizing: border-box;text-align: center;}div.sk-toggleable__content {max-height: 0;max-width: 0;overflow: hidden;text-align: left;background-color: #f0f8ff;}div.sk-toggleable__content pre {margin: 0.2em;color: black;border-radius: 0.25em;background-color: #f0f8ff;}input.sk-toggleable__control:checked~div.sk-toggleable__content {max-height: 200px;max-width: 100%;overflow: auto;}div.sk-estimator input.sk-toggleable__control:checked~label.sk-toggleable__label {background-color: #d4ebff;}div.sk-label input.sk-toggleable__control:checked~label.sk-toggleable__label {background-color: #d4ebff;}input.sk-hidden--visually {border: 0;clip: rect(1px 1px 1px 1px);clip: rect(1px, 1px, 1px, 1px);height: 1px;margin: -1px;overflow: hidden;padding: 0;position: absolute;width: 1px;}div.sk-estimator {font-family: monospace;background-color: #f0f8ff;margin: 0.25em 0.25em;border: 1px dotted black;border-radius: 0.25em;box-sizing: border-box;}div.sk-estimator:hover {background-color: #d4ebff;}div.sk-parallel-item::after {content: \"\";width: 100%;border-bottom: 1px solid gray;flex-grow: 1;}div.sk-label:hover label.sk-toggleable__label {background-color: #d4ebff;}div.sk-serial::before {content: \"\";position: absolute;border-left: 1px solid gray;box-sizing: border-box;top: 2em;bottom: 0;left: 50%;}div.sk-serial {display: flex;flex-direction: column;align-items: center;background-color: white;}div.sk-item {z-index: 1;}div.sk-parallel {display: flex;align-items: stretch;justify-content: center;background-color: white;}div.sk-parallel-item {display: flex;flex-direction: column;position: relative;background-color: white;}div.sk-parallel-item:first-child::after {align-self: flex-end;width: 50%;}div.sk-parallel-item:last-child::after {align-self: flex-start;width: 50%;}div.sk-parallel-item:only-child::after {width: 0;}div.sk-dashed-wrapped {border: 1px dashed gray;margin: 0.2em;box-sizing: border-box;padding-bottom: 0.1em;background-color: white;position: relative;}div.sk-label label {font-family: monospace;font-weight: bold;background-color: white;display: inline-block;line-height: 1.2em;}div.sk-label-container {position: relative;z-index: 2;text-align: center;}div.sk-container {display: inline-block;position: relative;}</style><div class=\"sk-top-container\"><div class=\"sk-container\"><div class=\"sk-item sk-dashed-wrapped\"><div class=\"sk-label-container\"><div class=\"sk-label sk-toggleable\"><input class=\"sk-toggleable__control sk-hidden--visually\" id=\"dc3eb712-ce5b-4ede-8152-319b1f227d23\" type=\"checkbox\" ><label class=\"sk-toggleable__label\" for=\"dc3eb712-ce5b-4ede-8152-319b1f227d23\">Pipeline</label><div class=\"sk-toggleable__content\"><pre>Pipeline(steps=[('hot_enc', OneHotEncoder(handle_unknown='ignore')),\n",
       "                ('clf', LogisticRegression(max_iter=90, random_state=42))])</pre></div></div></div><div class=\"sk-serial\"><div class=\"sk-item\"><div class=\"sk-estimator sk-toggleable\"><input class=\"sk-toggleable__control sk-hidden--visually\" id=\"7cea0309-b708-4755-ab8c-ead0adcc4acd\" type=\"checkbox\" ><label class=\"sk-toggleable__label\" for=\"7cea0309-b708-4755-ab8c-ead0adcc4acd\">OneHotEncoder</label><div class=\"sk-toggleable__content\"><pre>OneHotEncoder(handle_unknown='ignore')</pre></div></div></div><div class=\"sk-item\"><div class=\"sk-estimator sk-toggleable\"><input class=\"sk-toggleable__control sk-hidden--visually\" id=\"f7409e53-e975-447f-845e-c3cf226ddf93\" type=\"checkbox\" ><label class=\"sk-toggleable__label\" for=\"f7409e53-e975-447f-845e-c3cf226ddf93\">LogisticRegression</label><div class=\"sk-toggleable__content\"><pre>LogisticRegression(max_iter=90, random_state=42)</pre></div></div></div></div></div></div></div>"
      ],
      "text/plain": [
       "Pipeline(steps=[('hot_enc', OneHotEncoder(handle_unknown='ignore')),\n",
       "                ('clf', LogisticRegression(max_iter=90, random_state=42))])"
      ]
     },
     "metadata": {},
     "output_type": "display_data"
    },
    {
     "data": {
      "text/plain": [
       "<sklearn.metrics._plot.confusion_matrix.ConfusionMatrixDisplay at 0x7fb475417790>"
      ]
     },
     "execution_count": 510,
     "metadata": {},
     "output_type": "execute_result"
    },
    {
     "data": {
      "image/png": "[encoded data removed]",
      "text/plain": [
       "<Figure size 432x288 with 2 Axes>"
      ]
     },
     "metadata": {
      "needs_background": "light"
     },
     "output_type": "display_data"
    }
   ],
   "source": [
    "steps = [(\"hot_enc\", OneHotEncoder(handle_unknown=\"ignore\")), (\"clf\", LogisticRegression(random_state=42))]\n",
    "\n",
    "pipeline = Pipeline(steps)\n",
    "\n",
    "\n",
    "# Train the pipeline (tranformations & predictor)\n",
    "pipeline.fit(X_train, y_train)\n",
    "\n",
    "# Predict using the pipeline (includes the transfomers & trained predictor)\n",
    "predicted = pipeline.predict(X_test)\n",
    "\n",
    "pipe_grid = {\n",
    "            # \"hot_enc__drop\": [\"first\", \"if_binary\"],\n",
    "            #\"hot_enc__handle_unknown\": [\"ignore\"],\n",
    "            \"clf__penalty\": [\"l1\", \"l2\", \"elasticnet\", None],\n",
    "            \"clf__max_iter\": [x for x in range(0, 100, 10)],\n",
    "            \"clf__solver\": [\"lbfgs\", \"liblinear\", \"newton-cg\", \"newton-cholesky\", \"sag\", \"saga\"]\n",
    "            }\n",
    "\n",
    "# note: default scoring is aaccuracy\n",
    "gs_pipe = GridSearchCV(estimator=pipeline, \n",
    "                       param_grid=pipe_grid,\n",
    "                       n_jobs=-1\n",
    "                       )\n",
    "\n",
    "gs_pipe.fit(X_train, y_train)\n",
    "display(gs_pipe.best_params_)\n",
    "display(gs_pipe.best_score_)\n",
    "display(gs_pipe.best_estimator_)\n",
    "\n",
    "best_model = gs_pipe.best_estimator_\n",
    "y_pred = best_model.predict(X_test)\n",
    "plot_confusion_matrix(best_model,X_test,y_test)\n",
    "\n"
   ]
  },
  {
   "attachments": {},
   "cell_type": "markdown",
   "metadata": {},
   "source": [
    "2: KNN OHE"
   ]
  },
  {
   "cell_type": "code",
   "execution_count": 513,
   "metadata": {},
   "outputs": [
    {
     "data": {
      "text/plain": [
       "{'knn__n_neighbors': 3, 'knn__p': 1}"
      ]
     },
     "metadata": {},
     "output_type": "display_data"
    },
    {
     "data": {
      "text/plain": [
       "0.7055817955156005"
      ]
     },
     "metadata": {},
     "output_type": "display_data"
    },
    {
     "data": {
      "text/html": [
       "<style>div.sk-top-container {color: black;background-color: white;}div.sk-toggleable {background-color: white;}label.sk-toggleable__label {cursor: pointer;display: block;width: 100%;margin-bottom: 0;padding: 0.2em 0.3em;box-sizing: border-box;text-align: center;}div.sk-toggleable__content {max-height: 0;max-width: 0;overflow: hidden;text-align: left;background-color: #f0f8ff;}div.sk-toggleable__content pre {margin: 0.2em;color: black;border-radius: 0.25em;background-color: #f0f8ff;}input.sk-toggleable__control:checked~div.sk-toggleable__content {max-height: 200px;max-width: 100%;overflow: auto;}div.sk-estimator input.sk-toggleable__control:checked~label.sk-toggleable__label {background-color: #d4ebff;}div.sk-label input.sk-toggleable__control:checked~label.sk-toggleable__label {background-color: #d4ebff;}input.sk-hidden--visually {border: 0;clip: rect(1px 1px 1px 1px);clip: rect(1px, 1px, 1px, 1px);height: 1px;margin: -1px;overflow: hidden;padding: 0;position: absolute;width: 1px;}div.sk-estimator {font-family: monospace;background-color: #f0f8ff;margin: 0.25em 0.25em;border: 1px dotted black;border-radius: 0.25em;box-sizing: border-box;}div.sk-estimator:hover {background-color: #d4ebff;}div.sk-parallel-item::after {content: \"\";width: 100%;border-bottom: 1px solid gray;flex-grow: 1;}div.sk-label:hover label.sk-toggleable__label {background-color: #d4ebff;}div.sk-serial::before {content: \"\";position: absolute;border-left: 1px solid gray;box-sizing: border-box;top: 2em;bottom: 0;left: 50%;}div.sk-serial {display: flex;flex-direction: column;align-items: center;background-color: white;}div.sk-item {z-index: 1;}div.sk-parallel {display: flex;align-items: stretch;justify-content: center;background-color: white;}div.sk-parallel-item {display: flex;flex-direction: column;position: relative;background-color: white;}div.sk-parallel-item:first-child::after {align-self: flex-end;width: 50%;}div.sk-parallel-item:last-child::after {align-self: flex-start;width: 50%;}div.sk-parallel-item:only-child::after {width: 0;}div.sk-dashed-wrapped {border: 1px dashed gray;margin: 0.2em;box-sizing: border-box;padding-bottom: 0.1em;background-color: white;position: relative;}div.sk-label label {font-family: monospace;font-weight: bold;background-color: white;display: inline-block;line-height: 1.2em;}div.sk-label-container {position: relative;z-index: 2;text-align: center;}div.sk-container {display: inline-block;position: relative;}</style><div class=\"sk-top-container\"><div class=\"sk-container\"><div class=\"sk-item sk-dashed-wrapped\"><div class=\"sk-label-container\"><div class=\"sk-label sk-toggleable\"><input class=\"sk-toggleable__control sk-hidden--visually\" id=\"2ae583f8-f7c5-4e9d-ab39-cea13d96e4a6\" type=\"checkbox\" ><label class=\"sk-toggleable__label\" for=\"2ae583f8-f7c5-4e9d-ab39-cea13d96e4a6\">Pipeline</label><div class=\"sk-toggleable__content\"><pre>Pipeline(steps=[('hot_enc', OneHotEncoder(handle_unknown='ignore')),\n",
       "                ('knn', KNeighborsClassifier(n_neighbors=3, p=1))])</pre></div></div></div><div class=\"sk-serial\"><div class=\"sk-item\"><div class=\"sk-estimator sk-toggleable\"><input class=\"sk-toggleable__control sk-hidden--visually\" id=\"744da403-cbd1-463f-9c57-d44f05c0eb8b\" type=\"checkbox\" ><label class=\"sk-toggleable__label\" for=\"744da403-cbd1-463f-9c57-d44f05c0eb8b\">OneHotEncoder</label><div class=\"sk-toggleable__content\"><pre>OneHotEncoder(handle_unknown='ignore')</pre></div></div></div><div class=\"sk-item\"><div class=\"sk-estimator sk-toggleable\"><input class=\"sk-toggleable__control sk-hidden--visually\" id=\"2323c481-e5ec-4ff2-b4e5-2d5f9cf44ef5\" type=\"checkbox\" ><label class=\"sk-toggleable__label\" for=\"2323c481-e5ec-4ff2-b4e5-2d5f9cf44ef5\">KNeighborsClassifier</label><div class=\"sk-toggleable__content\"><pre>KNeighborsClassifier(n_neighbors=3, p=1)</pre></div></div></div></div></div></div></div>"
      ],
      "text/plain": [
       "Pipeline(steps=[('hot_enc', OneHotEncoder(handle_unknown='ignore')),\n",
       "                ('knn', KNeighborsClassifier(n_neighbors=3, p=1))])"
      ]
     },
     "metadata": {},
     "output_type": "display_data"
    },
    {
     "data": {
      "text/plain": [
       "<sklearn.metrics._plot.confusion_matrix.ConfusionMatrixDisplay at 0x7fb4611fbcd0>"
      ]
     },
     "execution_count": 513,
     "metadata": {},
     "output_type": "execute_result"
    },
    {
     "data": {
      "image/png": "[encoded data removed]",
      "text/plain": [
       "<Figure size 432x288 with 2 Axes>"
      ]
     },
     "metadata": {
      "needs_background": "light"
     },
     "output_type": "display_data"
    }
   ],
   "source": [
    "steps = [(\"hot_enc\", OneHotEncoder(handle_unknown=\"ignore\")), (\"knn\", KNeighborsClassifier())]\n",
    "\n",
    "pipeline = Pipeline(steps)\n",
    "\n",
    "# Train the pipeline (tranformations & predictor)\n",
    "pipeline.fit(X_train, y_train)\n",
    "\n",
    "# Predict using the pipeline (includes the transfomers & trained predictor)\n",
    "predicted = pipeline.predict(X_test)\n",
    "\n",
    "pipe_grid = {\n",
    "            #\"hot_enc__handle_unknown\": [\"ignore\", \"infrequent_if_exist\"],\n",
    "            'knn__n_neighbors': [3, 5, 7, 9, 11, 13, 15, 18],\n",
    "            'knn__p': [1, 2, 3, 4]\n",
    "             }\n",
    "\n",
    "# note: default scoring is aaccuracy\n",
    "gs_pipe = GridSearchCV(estimator=pipeline, \n",
    "                       param_grid=pipe_grid,\n",
    "                       n_jobs=-1)\n",
    "\n",
    "gs_pipe.fit(X_train, y_train)\n",
    "display(gs_pipe.best_params_)\n",
    "display(gs_pipe.best_score_)\n",
    "display(gs_pipe.best_estimator_)\n",
    "best_model = gs_pipe.best_estimator_\n",
    "y_pred = best_model.predict(X_test)\n",
    "plot_confusion_matrix(best_model,X_test,y_test)"
   ]
  },
  {
   "attachments": {},
   "cell_type": "markdown",
   "metadata": {},
   "source": [
    "3: DT OHE"
   ]
  },
  {
   "cell_type": "code",
   "execution_count": 515,
   "metadata": {},
   "outputs": [
    {
     "data": {
      "text/plain": [
       "{'rf_clf__criterion': 'gini',\n",
       " 'rf_clf__max_depth': 20,\n",
       " 'rf_clf__max_features': 'auto',\n",
       " 'rf_clf__splitter': 'best'}"
      ]
     },
     "metadata": {},
     "output_type": "display_data"
    },
    {
     "data": {
      "text/plain": [
       "0.6836672343862483"
      ]
     },
     "metadata": {},
     "output_type": "display_data"
    },
    {
     "data": {
      "text/html": [
       "<style>div.sk-top-container {color: black;background-color: white;}div.sk-toggleable {background-color: white;}label.sk-toggleable__label {cursor: pointer;display: block;width: 100%;margin-bottom: 0;padding: 0.2em 0.3em;box-sizing: border-box;text-align: center;}div.sk-toggleable__content {max-height: 0;max-width: 0;overflow: hidden;text-align: left;background-color: #f0f8ff;}div.sk-toggleable__content pre {margin: 0.2em;color: black;border-radius: 0.25em;background-color: #f0f8ff;}input.sk-toggleable__control:checked~div.sk-toggleable__content {max-height: 200px;max-width: 100%;overflow: auto;}div.sk-estimator input.sk-toggleable__control:checked~label.sk-toggleable__label {background-color: #d4ebff;}div.sk-label input.sk-toggleable__control:checked~label.sk-toggleable__label {background-color: #d4ebff;}input.sk-hidden--visually {border: 0;clip: rect(1px 1px 1px 1px);clip: rect(1px, 1px, 1px, 1px);height: 1px;margin: -1px;overflow: hidden;padding: 0;position: absolute;width: 1px;}div.sk-estimator {font-family: monospace;background-color: #f0f8ff;margin: 0.25em 0.25em;border: 1px dotted black;border-radius: 0.25em;box-sizing: border-box;}div.sk-estimator:hover {background-color: #d4ebff;}div.sk-parallel-item::after {content: \"\";width: 100%;border-bottom: 1px solid gray;flex-grow: 1;}div.sk-label:hover label.sk-toggleable__label {background-color: #d4ebff;}div.sk-serial::before {content: \"\";position: absolute;border-left: 1px solid gray;box-sizing: border-box;top: 2em;bottom: 0;left: 50%;}div.sk-serial {display: flex;flex-direction: column;align-items: center;background-color: white;}div.sk-item {z-index: 1;}div.sk-parallel {display: flex;align-items: stretch;justify-content: center;background-color: white;}div.sk-parallel-item {display: flex;flex-direction: column;position: relative;background-color: white;}div.sk-parallel-item:first-child::after {align-self: flex-end;width: 50%;}div.sk-parallel-item:last-child::after {align-self: flex-start;width: 50%;}div.sk-parallel-item:only-child::after {width: 0;}div.sk-dashed-wrapped {border: 1px dashed gray;margin: 0.2em;box-sizing: border-box;padding-bottom: 0.1em;background-color: white;position: relative;}div.sk-label label {font-family: monospace;font-weight: bold;background-color: white;display: inline-block;line-height: 1.2em;}div.sk-label-container {position: relative;z-index: 2;text-align: center;}div.sk-container {display: inline-block;position: relative;}</style><div class=\"sk-top-container\"><div class=\"sk-container\"><div class=\"sk-item sk-dashed-wrapped\"><div class=\"sk-label-container\"><div class=\"sk-label sk-toggleable\"><input class=\"sk-toggleable__control sk-hidden--visually\" id=\"296d817e-d11c-4863-8095-6b3335580b7f\" type=\"checkbox\" ><label class=\"sk-toggleable__label\" for=\"296d817e-d11c-4863-8095-6b3335580b7f\">Pipeline</label><div class=\"sk-toggleable__content\"><pre>Pipeline(steps=[('hot_enc', OneHotEncoder(handle_unknown='ignore')),\n",
       "                ('rf_clf',\n",
       "                 DecisionTreeClassifier(max_depth=20, max_features='auto',\n",
       "                                        random_state=42))])</pre></div></div></div><div class=\"sk-serial\"><div class=\"sk-item\"><div class=\"sk-estimator sk-toggleable\"><input class=\"sk-toggleable__control sk-hidden--visually\" id=\"b4c9de7f-004c-447f-ab0b-01247145ee34\" type=\"checkbox\" ><label class=\"sk-toggleable__label\" for=\"b4c9de7f-004c-447f-ab0b-01247145ee34\">OneHotEncoder</label><div class=\"sk-toggleable__content\"><pre>OneHotEncoder(handle_unknown='ignore')</pre></div></div></div><div class=\"sk-item\"><div class=\"sk-estimator sk-toggleable\"><input class=\"sk-toggleable__control sk-hidden--visually\" id=\"5815b008-d606-4179-8626-45d437294b46\" type=\"checkbox\" ><label class=\"sk-toggleable__label\" for=\"5815b008-d606-4179-8626-45d437294b46\">DecisionTreeClassifier</label><div class=\"sk-toggleable__content\"><pre>DecisionTreeClassifier(max_depth=20, max_features='auto', random_state=42)</pre></div></div></div></div></div></div></div>"
      ],
      "text/plain": [
       "Pipeline(steps=[('hot_enc', OneHotEncoder(handle_unknown='ignore')),\n",
       "                ('rf_clf',\n",
       "                 DecisionTreeClassifier(max_depth=20, max_features='auto',\n",
       "                                        random_state=42))])"
      ]
     },
     "metadata": {},
     "output_type": "display_data"
    },
    {
     "data": {
      "text/plain": [
       "<sklearn.metrics._plot.confusion_matrix.ConfusionMatrixDisplay at 0x7fb460775e20>"
      ]
     },
     "execution_count": 515,
     "metadata": {},
     "output_type": "execute_result"
    },
    {
     "data": {
      "image/png": "[encoded data removed]",
      "text/plain": [
       "<Figure size 432x288 with 2 Axes>"
      ]
     },
     "metadata": {
      "needs_background": "light"
     },
     "output_type": "display_data"
    }
   ],
   "source": [
    "steps = [(\"hot_enc\", OneHotEncoder(handle_unknown=\"ignore\")), ('rf_clf', DecisionTreeClassifier(random_state=42))]\n",
    "\n",
    "pipeline = Pipeline(steps)\n",
    "\n",
    "# Train the pipeline (tranformations & predictor)\n",
    "pipeline.fit(X_train, y_train)\n",
    "\n",
    "# Predict using the pipeline (includes the transfomers & trained predictor)\n",
    "predicted = pipeline.predict(X_test)\n",
    "\n",
    "pipe_grid = {\n",
    "            #\"hot_enc__handle_unknown\": [\"ignore\", \"infrequent_if_exist\"],\n",
    "            \"rf_clf__criterion\": [\"gini\", \"entropy\", \"log_loss\"],\n",
    "             \"rf_clf__splitter\": [\"best\", \"random\"],\n",
    "             \"rf_clf__max_depth\": [x for x in range(0,100,10)],\n",
    "             \"rf_clf__max_features\": [\"auto\", \"sqrt\", \"log2\"]\n",
    "            }\n",
    "\n",
    "# note: default scoring is aaccuracy\n",
    "second_pipe = GridSearchCV(estimator=pipeline, \n",
    "                       param_grid=pipe_grid,\n",
    "                       n_jobs=-1)\n",
    "\n",
    "second_pipe.fit(X_train, y_train)\n",
    "display(second_pipe.best_params_)\n",
    "display(second_pipe.best_score_)\n",
    "display(second_pipe.best_estimator_)\n",
    "best_model = second_pipe.best_estimator_\n",
    "y_pred = best_model.predict(X_test)\n",
    "plot_confusion_matrix(best_model,X_test,y_test)"
   ]
  },
  {
   "attachments": {},
   "cell_type": "markdown",
   "metadata": {},
   "source": [
    "4: RF OHE"
   ]
  },
  {
   "cell_type": "code",
   "execution_count": 517,
   "metadata": {},
   "outputs": [
    {
     "data": {
      "text/plain": [
       "{'rf__criterion': 'entropy',\n",
       " 'rf__max_depth': 11,\n",
       " 'rf__max_features': 'sqrt',\n",
       " 'rf__n_estimators': 460}"
      ]
     },
     "metadata": {},
     "output_type": "display_data"
    },
    {
     "data": {
      "text/plain": [
       "0.7464523378926483"
      ]
     },
     "metadata": {},
     "output_type": "display_data"
    },
    {
     "data": {
      "text/html": [
       "<style>div.sk-top-container {color: black;background-color: white;}div.sk-toggleable {background-color: white;}label.sk-toggleable__label {cursor: pointer;display: block;width: 100%;margin-bottom: 0;padding: 0.2em 0.3em;box-sizing: border-box;text-align: center;}div.sk-toggleable__content {max-height: 0;max-width: 0;overflow: hidden;text-align: left;background-color: #f0f8ff;}div.sk-toggleable__content pre {margin: 0.2em;color: black;border-radius: 0.25em;background-color: #f0f8ff;}input.sk-toggleable__control:checked~div.sk-toggleable__content {max-height: 200px;max-width: 100%;overflow: auto;}div.sk-estimator input.sk-toggleable__control:checked~label.sk-toggleable__label {background-color: #d4ebff;}div.sk-label input.sk-toggleable__control:checked~label.sk-toggleable__label {background-color: #d4ebff;}input.sk-hidden--visually {border: 0;clip: rect(1px 1px 1px 1px);clip: rect(1px, 1px, 1px, 1px);height: 1px;margin: -1px;overflow: hidden;padding: 0;position: absolute;width: 1px;}div.sk-estimator {font-family: monospace;background-color: #f0f8ff;margin: 0.25em 0.25em;border: 1px dotted black;border-radius: 0.25em;box-sizing: border-box;}div.sk-estimator:hover {background-color: #d4ebff;}div.sk-parallel-item::after {content: \"\";width: 100%;border-bottom: 1px solid gray;flex-grow: 1;}div.sk-label:hover label.sk-toggleable__label {background-color: #d4ebff;}div.sk-serial::before {content: \"\";position: absolute;border-left: 1px solid gray;box-sizing: border-box;top: 2em;bottom: 0;left: 50%;}div.sk-serial {display: flex;flex-direction: column;align-items: center;background-color: white;}div.sk-item {z-index: 1;}div.sk-parallel {display: flex;align-items: stretch;justify-content: center;background-color: white;}div.sk-parallel-item {display: flex;flex-direction: column;position: relative;background-color: white;}div.sk-parallel-item:first-child::after {align-self: flex-end;width: 50%;}div.sk-parallel-item:last-child::after {align-self: flex-start;width: 50%;}div.sk-parallel-item:only-child::after {width: 0;}div.sk-dashed-wrapped {border: 1px dashed gray;margin: 0.2em;box-sizing: border-box;padding-bottom: 0.1em;background-color: white;position: relative;}div.sk-label label {font-family: monospace;font-weight: bold;background-color: white;display: inline-block;line-height: 1.2em;}div.sk-label-container {position: relative;z-index: 2;text-align: center;}div.sk-container {display: inline-block;position: relative;}</style><div class=\"sk-top-container\"><div class=\"sk-container\"><div class=\"sk-item sk-dashed-wrapped\"><div class=\"sk-label-container\"><div class=\"sk-label sk-toggleable\"><input class=\"sk-toggleable__control sk-hidden--visually\" id=\"95c948a4-272d-43f6-936b-c6f5f18a1a5a\" type=\"checkbox\" ><label class=\"sk-toggleable__label\" for=\"95c948a4-272d-43f6-936b-c6f5f18a1a5a\">Pipeline</label><div class=\"sk-toggleable__content\"><pre>Pipeline(steps=[('hot_enc', OneHotEncoder(handle_unknown='ignore')),\n",
       "                ('rf',\n",
       "                 RandomForestClassifier(criterion='entropy', max_depth=11,\n",
       "                                        max_features='sqrt', n_estimators=460,\n",
       "                                        random_state=42))])</pre></div></div></div><div class=\"sk-serial\"><div class=\"sk-item\"><div class=\"sk-estimator sk-toggleable\"><input class=\"sk-toggleable__control sk-hidden--visually\" id=\"581787a8-2f44-4e71-b282-6835ae505240\" type=\"checkbox\" ><label class=\"sk-toggleable__label\" for=\"581787a8-2f44-4e71-b282-6835ae505240\">OneHotEncoder</label><div class=\"sk-toggleable__content\"><pre>OneHotEncoder(handle_unknown='ignore')</pre></div></div></div><div class=\"sk-item\"><div class=\"sk-estimator sk-toggleable\"><input class=\"sk-toggleable__control sk-hidden--visually\" id=\"693d4628-5f1f-4108-b8fe-4f2a7654fb14\" type=\"checkbox\" ><label class=\"sk-toggleable__label\" for=\"693d4628-5f1f-4108-b8fe-4f2a7654fb14\">RandomForestClassifier</label><div class=\"sk-toggleable__content\"><pre>RandomForestClassifier(criterion='entropy', max_depth=11, max_features='sqrt',\n",
       "                       n_estimators=460, random_state=42)</pre></div></div></div></div></div></div></div>"
      ],
      "text/plain": [
       "Pipeline(steps=[('hot_enc', OneHotEncoder(handle_unknown='ignore')),\n",
       "                ('rf',\n",
       "                 RandomForestClassifier(criterion='entropy', max_depth=11,\n",
       "                                        max_features='sqrt', n_estimators=460,\n",
       "                                        random_state=42))])"
      ]
     },
     "metadata": {},
     "output_type": "display_data"
    },
    {
     "data": {
      "text/plain": [
       "<sklearn.metrics._plot.confusion_matrix.ConfusionMatrixDisplay at 0x7fb4610fb040>"
      ]
     },
     "execution_count": 517,
     "metadata": {},
     "output_type": "execute_result"
    },
    {
     "data": {
      "image/png": "[encoded data removed]",
      "text/plain": [
       "<Figure size 432x288 with 2 Axes>"
      ]
     },
     "metadata": {
      "needs_background": "light"
     },
     "output_type": "display_data"
    }
   ],
   "source": [
    "steps = [(\"hot_enc\", OneHotEncoder(handle_unknown=\"ignore\")), ('rf', RandomForestClassifier(random_state=42))]\n",
    "\n",
    "pipeline = Pipeline(steps)\n",
    "\n",
    "# Train the pipeline (tranformations & predictor)\n",
    "pipeline.fit(X_train, y_train)\n",
    "\n",
    "# Predict using the pipeline (includes the transfomers & trained predictor)\n",
    "predicted = pipeline.predict(X_test)\n",
    "\n",
    "pipe_grid = {\n",
    "            #\"hot_enc__handle_unknown\": [\"ignore\"],\n",
    "            \"rf__n_estimators\": [x for x in range(450,500,10)],\n",
    "             \"rf__criterion\": [\"entropy\"],\n",
    "             \"rf__max_depth\": [11],\n",
    "             \"rf__max_features\": [\"sqrt\"]\n",
    "            }\n",
    "\n",
    "# note: default scoring is aaccuracy\n",
    "second_pipe = GridSearchCV(estimator=pipeline, \n",
    "                       param_grid=pipe_grid,\n",
    "                       n_jobs=-1)\n",
    "\n",
    "second_pipe.fit(X_train, y_train)\n",
    "display(second_pipe.best_params_)\n",
    "display(second_pipe.best_score_)\n",
    "display(second_pipe.best_estimator_)\n",
    "best_model = second_pipe.best_estimator_\n",
    "y_pred = best_model.predict(X_test)\n",
    "plot_confusion_matrix(best_model,X_test,y_test)"
   ]
  },
  {
   "attachments": {},
   "cell_type": "markdown",
   "metadata": {},
   "source": [
    "5: Boost SS"
   ]
  },
  {
   "cell_type": "code",
   "execution_count": 518,
   "metadata": {},
   "outputs": [
    {
     "name": "stdout",
     "output_type": "stream",
     "text": [
      "0.46335697399527187\n"
     ]
    },
    {
     "data": {
      "text/plain": [
       "<sklearn.metrics._plot.confusion_matrix.ConfusionMatrixDisplay at 0x7fb4758aaaf0>"
      ]
     },
     "execution_count": 518,
     "metadata": {},
     "output_type": "execute_result"
    },
    {
     "data": {
      "image/png": "[encoded data removed]",
      "text/plain": [
       "<Figure size 432x288 with 2 Axes>"
      ]
     },
     "metadata": {
      "needs_background": "light"
     },
     "output_type": "display_data"
    }
   ],
   "source": [
    "steps = [('std_scaler', StandardScaler()),('xgb_model', xgb.XGBClassifier())]\n",
    "\n",
    "pipeline = Pipeline(steps)\n",
    "\n",
    "# Train the pipeline (tranformations & predictor)\n",
    "pipeline.fit(X_train, y_train)\n",
    "\n",
    "y_pred = pipeline.predict(X_test)\n",
    "print(pipeline.score(X_test, y_test))\n",
    "plot_confusion_matrix(best_model,X_test,y_test)"
   ]
  },
  {
   "attachments": {},
   "cell_type": "markdown",
   "metadata": {},
   "source": [
    "6: RF Poly OHE"
   ]
  },
  {
   "cell_type": "code",
   "execution_count": 522,
   "metadata": {},
   "outputs": [
    {
     "data": {
      "text/plain": [
       "{'rf__criterion': 'entropy',\n",
       " 'rf__max_depth': 11,\n",
       " 'rf__max_features': 'log2',\n",
       " 'rf__n_estimators': 464}"
      ]
     },
     "metadata": {},
     "output_type": "display_data"
    },
    {
     "data": {
      "text/plain": [
       "0.7417221217495127"
      ]
     },
     "metadata": {},
     "output_type": "display_data"
    },
    {
     "data": {
      "text/html": [
       "<style>div.sk-top-container {color: black;background-color: white;}div.sk-toggleable {background-color: white;}label.sk-toggleable__label {cursor: pointer;display: block;width: 100%;margin-bottom: 0;padding: 0.2em 0.3em;box-sizing: border-box;text-align: center;}div.sk-toggleable__content {max-height: 0;max-width: 0;overflow: hidden;text-align: left;background-color: #f0f8ff;}div.sk-toggleable__content pre {margin: 0.2em;color: black;border-radius: 0.25em;background-color: #f0f8ff;}input.sk-toggleable__control:checked~div.sk-toggleable__content {max-height: 200px;max-width: 100%;overflow: auto;}div.sk-estimator input.sk-toggleable__control:checked~label.sk-toggleable__label {background-color: #d4ebff;}div.sk-label input.sk-toggleable__control:checked~label.sk-toggleable__label {background-color: #d4ebff;}input.sk-hidden--visually {border: 0;clip: rect(1px 1px 1px 1px);clip: rect(1px, 1px, 1px, 1px);height: 1px;margin: -1px;overflow: hidden;padding: 0;position: absolute;width: 1px;}div.sk-estimator {font-family: monospace;background-color: #f0f8ff;margin: 0.25em 0.25em;border: 1px dotted black;border-radius: 0.25em;box-sizing: border-box;}div.sk-estimator:hover {background-color: #d4ebff;}div.sk-parallel-item::after {content: \"\";width: 100%;border-bottom: 1px solid gray;flex-grow: 1;}div.sk-label:hover label.sk-toggleable__label {background-color: #d4ebff;}div.sk-serial::before {content: \"\";position: absolute;border-left: 1px solid gray;box-sizing: border-box;top: 2em;bottom: 0;left: 50%;}div.sk-serial {display: flex;flex-direction: column;align-items: center;background-color: white;}div.sk-item {z-index: 1;}div.sk-parallel {display: flex;align-items: stretch;justify-content: center;background-color: white;}div.sk-parallel-item {display: flex;flex-direction: column;position: relative;background-color: white;}div.sk-parallel-item:first-child::after {align-self: flex-end;width: 50%;}div.sk-parallel-item:last-child::after {align-self: flex-start;width: 50%;}div.sk-parallel-item:only-child::after {width: 0;}div.sk-dashed-wrapped {border: 1px dashed gray;margin: 0.2em;box-sizing: border-box;padding-bottom: 0.1em;background-color: white;position: relative;}div.sk-label label {font-family: monospace;font-weight: bold;background-color: white;display: inline-block;line-height: 1.2em;}div.sk-label-container {position: relative;z-index: 2;text-align: center;}div.sk-container {display: inline-block;position: relative;}</style><div class=\"sk-top-container\"><div class=\"sk-container\"><div class=\"sk-item sk-dashed-wrapped\"><div class=\"sk-label-container\"><div class=\"sk-label sk-toggleable\"><input class=\"sk-toggleable__control sk-hidden--visually\" id=\"32fa4982-3cb2-43b6-9f56-5d5511bf7cf0\" type=\"checkbox\" ><label class=\"sk-toggleable__label\" for=\"32fa4982-3cb2-43b6-9f56-5d5511bf7cf0\">Pipeline</label><div class=\"sk-toggleable__content\"><pre>Pipeline(steps=[('hot_enc', OneHotEncoder(handle_unknown='ignore')),\n",
       "                ('poly', PolynomialFeatures()),\n",
       "                ('rf',\n",
       "                 RandomForestClassifier(criterion='entropy', max_depth=11,\n",
       "                                        max_features='log2', n_estimators=464,\n",
       "                                        random_state=42))])</pre></div></div></div><div class=\"sk-serial\"><div class=\"sk-item\"><div class=\"sk-estimator sk-toggleable\"><input class=\"sk-toggleable__control sk-hidden--visually\" id=\"0b058f9e-5e36-4b95-9f5b-b6d69614888d\" type=\"checkbox\" ><label class=\"sk-toggleable__label\" for=\"0b058f9e-5e36-4b95-9f5b-b6d69614888d\">OneHotEncoder</label><div class=\"sk-toggleable__content\"><pre>OneHotEncoder(handle_unknown='ignore')</pre></div></div></div><div class=\"sk-item\"><div class=\"sk-estimator sk-toggleable\"><input class=\"sk-toggleable__control sk-hidden--visually\" id=\"4fe26bee-09df-4937-b826-788020413957\" type=\"checkbox\" ><label class=\"sk-toggleable__label\" for=\"4fe26bee-09df-4937-b826-788020413957\">PolynomialFeatures</label><div class=\"sk-toggleable__content\"><pre>PolynomialFeatures()</pre></div></div></div><div class=\"sk-item\"><div class=\"sk-estimator sk-toggleable\"><input class=\"sk-toggleable__control sk-hidden--visually\" id=\"8b55f8bd-187c-474f-a9c0-0866c5046adf\" type=\"checkbox\" ><label class=\"sk-toggleable__label\" for=\"8b55f8bd-187c-474f-a9c0-0866c5046adf\">RandomForestClassifier</label><div class=\"sk-toggleable__content\"><pre>RandomForestClassifier(criterion='entropy', max_depth=11, max_features='log2',\n",
       "                       n_estimators=464, random_state=42)</pre></div></div></div></div></div></div></div>"
      ],
      "text/plain": [
       "Pipeline(steps=[('hot_enc', OneHotEncoder(handle_unknown='ignore')),\n",
       "                ('poly', PolynomialFeatures()),\n",
       "                ('rf',\n",
       "                 RandomForestClassifier(criterion='entropy', max_depth=11,\n",
       "                                        max_features='log2', n_estimators=464,\n",
       "                                        random_state=42))])"
      ]
     },
     "metadata": {},
     "output_type": "display_data"
    },
    {
     "data": {
      "text/plain": [
       "<sklearn.metrics._plot.confusion_matrix.ConfusionMatrixDisplay at 0x7fb42499ce80>"
      ]
     },
     "execution_count": 522,
     "metadata": {},
     "output_type": "execute_result"
    },
    {
     "data": {
      "image/png": "[encoded data removed]",
      "text/plain": [
       "<Figure size 432x288 with 2 Axes>"
      ]
     },
     "metadata": {
      "needs_background": "light"
     },
     "output_type": "display_data"
    }
   ],
   "source": [
    "steps = [(\"hot_enc\", OneHotEncoder(handle_unknown=\"ignore\")), (\"poly\", PolynomialFeatures()), ('rf', RandomForestClassifier(random_state=42))]\n",
    "\n",
    "pipeline = Pipeline(steps)\n",
    "\n",
    "# Train the pipeline (tranformations & predictor)\n",
    "pipeline.fit(X_train, y_train)\n",
    "\n",
    "# Predict using the pipeline (includes the transfomers & trained predictor)\n",
    "predicted = pipeline.predict(X_test)\n",
    "\n",
    "pipe_grid = {\n",
    "            #\"hot_enc__handle_unknown\": [\"ignore\"],\n",
    "            \"rf__n_estimators\": [464],\n",
    "            \"rf__criterion\": [\"entropy\"],\n",
    "            \"rf__max_depth\": [11],\n",
    "            \"rf__max_features\": [\"log2\"]\n",
    "            }\n",
    "\n",
    "# note: default scoring is aaccuracy\n",
    "second_pipe = GridSearchCV(estimator = pipeline,\n",
    "                  param_grid = pipe_grid,\n",
    "                  n_jobs=-1)\n",
    "\n",
    "second_pipe.fit(X_train, y_train)\n",
    "display(second_pipe.best_params_)\n",
    "display(second_pipe.best_score_)\n",
    "display(second_pipe.best_estimator_)\n",
    "best_model = second_pipe.best_estimator_\n",
    "y_pred = best_model.predict(X_test)\n",
    "plot_confusion_matrix(best_model,X_test,y_test)"
   ]
  },
  {
   "attachments": {},
   "cell_type": "markdown",
   "metadata": {},
   "source": [
    "# BEST model SMOTE SS RF"
   ]
  },
  {
   "cell_type": "code",
   "execution_count": 534,
   "metadata": {},
   "outputs": [
    {
     "data": {
      "text/plain": [
       "{'randomforestclassifier__class_weight': 'balanced',\n",
       " 'randomforestclassifier__criterion': 'entropy',\n",
       " 'randomforestclassifier__max_depth': 11,\n",
       " 'randomforestclassifier__max_features': 'sqrt',\n",
       " 'randomforestclassifier__min_impurity_decrease': 0.0,\n",
       " 'randomforestclassifier__n_estimators': 457}"
      ]
     },
     "metadata": {},
     "output_type": "display_data"
    },
    {
     "data": {
      "text/plain": [
       "0.7891015398662053"
      ]
     },
     "metadata": {},
     "output_type": "display_data"
    },
    {
     "data": {
      "text/html": [
       "<style>div.sk-top-container {color: black;background-color: white;}div.sk-toggleable {background-color: white;}label.sk-toggleable__label {cursor: pointer;display: block;width: 100%;margin-bottom: 0;padding: 0.2em 0.3em;box-sizing: border-box;text-align: center;}div.sk-toggleable__content {max-height: 0;max-width: 0;overflow: hidden;text-align: left;background-color: #f0f8ff;}div.sk-toggleable__content pre {margin: 0.2em;color: black;border-radius: 0.25em;background-color: #f0f8ff;}input.sk-toggleable__control:checked~div.sk-toggleable__content {max-height: 200px;max-width: 100%;overflow: auto;}div.sk-estimator input.sk-toggleable__control:checked~label.sk-toggleable__label {background-color: #d4ebff;}div.sk-label input.sk-toggleable__control:checked~label.sk-toggleable__label {background-color: #d4ebff;}input.sk-hidden--visually {border: 0;clip: rect(1px 1px 1px 1px);clip: rect(1px, 1px, 1px, 1px);height: 1px;margin: -1px;overflow: hidden;padding: 0;position: absolute;width: 1px;}div.sk-estimator {font-family: monospace;background-color: #f0f8ff;margin: 0.25em 0.25em;border: 1px dotted black;border-radius: 0.25em;box-sizing: border-box;}div.sk-estimator:hover {background-color: #d4ebff;}div.sk-parallel-item::after {content: \"\";width: 100%;border-bottom: 1px solid gray;flex-grow: 1;}div.sk-label:hover label.sk-toggleable__label {background-color: #d4ebff;}div.sk-serial::before {content: \"\";position: absolute;border-left: 1px solid gray;box-sizing: border-box;top: 2em;bottom: 0;left: 50%;}div.sk-serial {display: flex;flex-direction: column;align-items: center;background-color: white;}div.sk-item {z-index: 1;}div.sk-parallel {display: flex;align-items: stretch;justify-content: center;background-color: white;}div.sk-parallel-item {display: flex;flex-direction: column;position: relative;background-color: white;}div.sk-parallel-item:first-child::after {align-self: flex-end;width: 50%;}div.sk-parallel-item:last-child::after {align-self: flex-start;width: 50%;}div.sk-parallel-item:only-child::after {width: 0;}div.sk-dashed-wrapped {border: 1px dashed gray;margin: 0.2em;box-sizing: border-box;padding-bottom: 0.1em;background-color: white;position: relative;}div.sk-label label {font-family: monospace;font-weight: bold;background-color: white;display: inline-block;line-height: 1.2em;}div.sk-label-container {position: relative;z-index: 2;text-align: center;}div.sk-container {display: inline-block;position: relative;}</style><div class=\"sk-top-container\"><div class=\"sk-container\"><div class=\"sk-item sk-dashed-wrapped\"><div class=\"sk-label-container\"><div class=\"sk-label sk-toggleable\"><input class=\"sk-toggleable__control sk-hidden--visually\" id=\"ab09baa9-f67b-40d3-a7fe-1d9699da6742\" type=\"checkbox\" ><label class=\"sk-toggleable__label\" for=\"ab09baa9-f67b-40d3-a7fe-1d9699da6742\">Pipeline</label><div class=\"sk-toggleable__content\"><pre>Pipeline(steps=[('smote', SMOTE(k_neighbors=1, random_state=42)),\n",
       "                ('standardscaler', StandardScaler()),\n",
       "                ('randomforestclassifier',\n",
       "                 RandomForestClassifier(class_weight='balanced',\n",
       "                                        criterion='entropy', max_depth=11,\n",
       "                                        max_features='sqrt', n_estimators=457,\n",
       "                                        n_jobs=-1, random_state=42))])</pre></div></div></div><div class=\"sk-serial\"><div class=\"sk-item\"><div class=\"sk-estimator sk-toggleable\"><input class=\"sk-toggleable__control sk-hidden--visually\" id=\"68191d1a-ba89-4e2e-9ed7-8b01b9a77483\" type=\"checkbox\" ><label class=\"sk-toggleable__label\" for=\"68191d1a-ba89-4e2e-9ed7-8b01b9a77483\">SMOTE</label><div class=\"sk-toggleable__content\"><pre>SMOTE(k_neighbors=1, random_state=42)</pre></div></div></div><div class=\"sk-item\"><div class=\"sk-estimator sk-toggleable\"><input class=\"sk-toggleable__control sk-hidden--visually\" id=\"256ed80a-d93d-432d-8617-059f27213c62\" type=\"checkbox\" ><label class=\"sk-toggleable__label\" for=\"256ed80a-d93d-432d-8617-059f27213c62\">StandardScaler</label><div class=\"sk-toggleable__content\"><pre>StandardScaler()</pre></div></div></div><div class=\"sk-item\"><div class=\"sk-estimator sk-toggleable\"><input class=\"sk-toggleable__control sk-hidden--visually\" id=\"cc42ad06-e217-42c6-bf90-5fc0e4793c64\" type=\"checkbox\" ><label class=\"sk-toggleable__label\" for=\"cc42ad06-e217-42c6-bf90-5fc0e4793c64\">RandomForestClassifier</label><div class=\"sk-toggleable__content\"><pre>RandomForestClassifier(class_weight='balanced', criterion='entropy',\n",
       "                       max_depth=11, max_features='sqrt', n_estimators=457,\n",
       "                       n_jobs=-1, random_state=42)</pre></div></div></div></div></div></div></div>"
      ],
      "text/plain": [
       "Pipeline(steps=[('smote', SMOTE(k_neighbors=1, random_state=42)),\n",
       "                ('standardscaler', StandardScaler()),\n",
       "                ('randomforestclassifier',\n",
       "                 RandomForestClassifier(class_weight='balanced',\n",
       "                                        criterion='entropy', max_depth=11,\n",
       "                                        max_features='sqrt', n_estimators=457,\n",
       "                                        n_jobs=-1, random_state=42))])"
      ]
     },
     "metadata": {},
     "output_type": "display_data"
    },
    {
     "data": {
      "text/plain": [
       "<sklearn.metrics._plot.confusion_matrix.ConfusionMatrixDisplay at 0x7fb43140c9a0>"
      ]
     },
     "execution_count": 534,
     "metadata": {},
     "output_type": "execute_result"
    },
    {
     "data": {
      "image/png": "[encoded data removed]",
      "text/plain": [
       "<Figure size 432x288 with 2 Axes>"
      ]
     },
     "metadata": {
      "needs_background": "light"
     },
     "output_type": "display_data"
    }
   ],
   "source": [
    "# Create pipeline with SMOTE, StandardScaler and RandomForestClassifier\n",
    "pipeline = make_pipeline(\n",
    "    # OneHotEncoder(handle_unknown=\"ignore\", sparse=False),\n",
    "    SMOTE(random_state=42, k_neighbors=1),\n",
    "    StandardScaler(),\n",
    "    RandomForestClassifier(random_state=42, n_jobs=-1)\n",
    ")\n",
    "\n",
    "# Train the pipeline (transformations & predictor)\n",
    "pipeline.fit(X_train, y_train)\n",
    "\n",
    "# Predict using the pipeline (includes the transformers & trained predictor)\n",
    "predicted = pipeline.predict(X_test)\n",
    "\n",
    "# Define the grid of hyperparameters to search over\n",
    "pipe_grid = {\n",
    "    \"randomforestclassifier__n_estimators\": [457,456,458],\n",
    "    \"randomforestclassifier__criterion\": [\"gini\",\"entropy\",\"log_loss\"],\n",
    "    \"randomforestclassifier__max_depth\": [x for x in range(10, 12)],\n",
    "    \"randomforestclassifier__max_features\": [\"sqrt\", \"log2\"],\n",
    "    \"randomforestclassifier__class_weight\": [\"balanced_subsample\", \"balanced\"],\n",
    "    \"randomforestclassifier__min_impurity_decrease\": [0.0, 0.000001],\n",
    "}\n",
    "\n",
    "# Perform grid search to find the best combination of hyperparameters\n",
    "second_pipe = GridSearchCV(\n",
    "    estimator=pipeline,\n",
    "    param_grid=pipe_grid,\n",
    "    n_jobs=-1\n",
    ")\n",
    "\n",
    "second_pipe.fit(X_train, y_train)\n",
    "display(second_pipe.best_params_)\n",
    "display(second_pipe.best_score_)\n",
    "display(second_pipe.best_estimator_)\n",
    "best_model = second_pipe.best_estimator_\n",
    "y_pred = best_model.predict(X_test)\n",
    "plot_confusion_matrix(best_model,X_test,y_test)\n"
   ]
  },
  {
   "attachments": {},
   "cell_type": "markdown",
   "metadata": {},
   "source": [
    "Best so far"
   ]
  },
  {
   "cell_type": "code",
   "execution_count": 526,
   "metadata": {},
   "outputs": [
    {
     "ename": "SyntaxError",
     "evalue": "invalid syntax (<ipython-input-526-7f6e1d702952>, line 12)",
     "output_type": "error",
     "traceback": [
      "\u001b[0;36m  File \u001b[0;32m\"<ipython-input-526-7f6e1d702952>\"\u001b[0;36m, line \u001b[0;32m12\u001b[0m\n\u001b[0;31m    'randomforestclassifier__warm_start': True}0.7369708356012853\u001b[0m\n\u001b[0m                                               ^\u001b[0m\n\u001b[0;31mSyntaxError\u001b[0m\u001b[0;31m:\u001b[0m invalid syntax\n"
     ]
    }
   ],
   "source": [
    "{'randomforestclassifier__bootstrap': True,\n",
    " 'randomforestclassifier__class_weight': 'balanced_subsample',\n",
    " 'randomforestclassifier__criterion': 'entropy',\n",
    " 'randomforestclassifier__max_depth': 11,\n",
    " 'randomforestclassifier__max_features': 'sqrt',\n",
    " 'randomforestclassifier__max_samples': 0.6,\n",
    " 'randomforestclassifier__min_impurity_decrease': 0,\n",
    " 'randomforestclassifier__min_samples_leaf': 1,\n",
    " 'randomforestclassifier__min_samples_split': 2,\n",
    " 'randomforestclassifier__n_estimators': 457,\n",
    " 'randomforestclassifier__oob_score': True,\n",
    " 'randomforestclassifier__warm_start': True}0.7369708356012853\n",
    "\n",
    "{'randomforestclassifier__bootstrap': True,\n",
    " 'randomforestclassifier__class_weight': 'balanced_subsample',\n",
    " 'randomforestclassifier__criterion': 'entropy',\n",
    " 'randomforestclassifier__max_depth': 11,\n",
    " 'randomforestclassifier__max_features': 'sqrt',\n",
    " 'randomforestclassifier__max_samples': 0.5,\n",
    " 'randomforestclassifier__min_impurity_decrease': 1e-08,\n",
    " 'randomforestclassifier__min_samples_leaf': 1,\n",
    " 'randomforestclassifier__min_samples_split': 2,\n",
    " 'randomforestclassifier__n_estimators': 457,\n",
    " 'randomforestclassifier__oob_score': True,\n",
    " 'randomforestclassifier__warm_start': True}0.7363791196249538\n",
    "\n",
    "{'randomforestclassifier__bootstrap': True,\n",
    " 'randomforestclassifier__class_weight': 'balanced_subsample',\n",
    " 'randomforestclassifier__criterion': 'entropy',\n",
    " 'randomforestclassifier__max_depth': 11,\n",
    " 'randomforestclassifier__max_features': 'sqrt',\n",
    " 'randomforestclassifier__max_samples': 0.6,\n",
    " 'randomforestclassifier__min_impurity_decrease': 0,\n",
    " 'randomforestclassifier__min_samples_leaf': 1,\n",
    " 'randomforestclassifier__min_samples_split': 2,\n",
    " 'randomforestclassifier__n_estimators': 457,\n",
    " 'randomforestclassifier__oob_score': True,\n",
    " 'randomforestclassifier__warm_start': True}0.7369708356012853\n"
   ]
  },
  {
   "attachments": {},
   "cell_type": "markdown",
   "metadata": {},
   "source": [
    "## testing"
   ]
  },
  {
   "attachments": {},
   "cell_type": "markdown",
   "metadata": {},
   "source": [
    "T3: RF, SS, SMOTE"
   ]
  },
  {
   "cell_type": "code",
   "execution_count": null,
   "metadata": {},
   "outputs": [],
   "source": [
    "{'randomforestclassifier__class_weight': 'balanced',\n",
    " 'randomforestclassifier__criterion': 'gini',\n",
    " 'randomforestclassifier__max_depth': 11,\n",
    " 'randomforestclassifier__max_features': 'sqrt',\n",
    " 'randomforestclassifier__min_impurity_decrease': 1e-11,\n",
    " 'randomforestclassifier__n_estimators': 457}\n",
    "0.7346162625322634\n"
   ]
  },
  {
   "cell_type": "code",
   "execution_count": 527,
   "metadata": {},
   "outputs": [
    {
     "data": {
      "text/plain": [
       "{'randomforestclassifier__class_weight': 'balanced',\n",
       " 'randomforestclassifier__criterion': 'entropy',\n",
       " 'randomforestclassifier__max_depth': 11,\n",
       " 'randomforestclassifier__max_features': 'sqrt',\n",
       " 'randomforestclassifier__min_impurity_decrease': 1e-08,\n",
       " 'randomforestclassifier__n_estimators': 457}"
      ]
     },
     "metadata": {},
     "output_type": "display_data"
    },
    {
     "data": {
      "text/plain": [
       "0.7891050515337208"
      ]
     },
     "metadata": {},
     "output_type": "display_data"
    },
    {
     "data": {
      "text/html": [
       "<style>div.sk-top-container {color: black;background-color: white;}div.sk-toggleable {background-color: white;}label.sk-toggleable__label {cursor: pointer;display: block;width: 100%;margin-bottom: 0;padding: 0.2em 0.3em;box-sizing: border-box;text-align: center;}div.sk-toggleable__content {max-height: 0;max-width: 0;overflow: hidden;text-align: left;background-color: #f0f8ff;}div.sk-toggleable__content pre {margin: 0.2em;color: black;border-radius: 0.25em;background-color: #f0f8ff;}input.sk-toggleable__control:checked~div.sk-toggleable__content {max-height: 200px;max-width: 100%;overflow: auto;}div.sk-estimator input.sk-toggleable__control:checked~label.sk-toggleable__label {background-color: #d4ebff;}div.sk-label input.sk-toggleable__control:checked~label.sk-toggleable__label {background-color: #d4ebff;}input.sk-hidden--visually {border: 0;clip: rect(1px 1px 1px 1px);clip: rect(1px, 1px, 1px, 1px);height: 1px;margin: -1px;overflow: hidden;padding: 0;position: absolute;width: 1px;}div.sk-estimator {font-family: monospace;background-color: #f0f8ff;margin: 0.25em 0.25em;border: 1px dotted black;border-radius: 0.25em;box-sizing: border-box;}div.sk-estimator:hover {background-color: #d4ebff;}div.sk-parallel-item::after {content: \"\";width: 100%;border-bottom: 1px solid gray;flex-grow: 1;}div.sk-label:hover label.sk-toggleable__label {background-color: #d4ebff;}div.sk-serial::before {content: \"\";position: absolute;border-left: 1px solid gray;box-sizing: border-box;top: 2em;bottom: 0;left: 50%;}div.sk-serial {display: flex;flex-direction: column;align-items: center;background-color: white;}div.sk-item {z-index: 1;}div.sk-parallel {display: flex;align-items: stretch;justify-content: center;background-color: white;}div.sk-parallel-item {display: flex;flex-direction: column;position: relative;background-color: white;}div.sk-parallel-item:first-child::after {align-self: flex-end;width: 50%;}div.sk-parallel-item:last-child::after {align-self: flex-start;width: 50%;}div.sk-parallel-item:only-child::after {width: 0;}div.sk-dashed-wrapped {border: 1px dashed gray;margin: 0.2em;box-sizing: border-box;padding-bottom: 0.1em;background-color: white;position: relative;}div.sk-label label {font-family: monospace;font-weight: bold;background-color: white;display: inline-block;line-height: 1.2em;}div.sk-label-container {position: relative;z-index: 2;text-align: center;}div.sk-container {display: inline-block;position: relative;}</style><div class=\"sk-top-container\"><div class=\"sk-container\"><div class=\"sk-item sk-dashed-wrapped\"><div class=\"sk-label-container\"><div class=\"sk-label sk-toggleable\"><input class=\"sk-toggleable__control sk-hidden--visually\" id=\"4df7b4ef-b733-4552-bb30-154ce0be8a44\" type=\"checkbox\" ><label class=\"sk-toggleable__label\" for=\"4df7b4ef-b733-4552-bb30-154ce0be8a44\">Pipeline</label><div class=\"sk-toggleable__content\"><pre>Pipeline(steps=[('smote', SMOTE(k_neighbors=1, random_state=42)),\n",
       "                ('standardscaler', StandardScaler()),\n",
       "                ('randomforestclassifier',\n",
       "                 RandomForestClassifier(class_weight='balanced',\n",
       "                                        criterion='entropy', max_depth=11,\n",
       "                                        max_features='sqrt',\n",
       "                                        min_impurity_decrease=1e-08,\n",
       "                                        n_estimators=457, n_jobs=-1,\n",
       "                                        random_state=42))])</pre></div></div></div><div class=\"sk-serial\"><div class=\"sk-item\"><div class=\"sk-estimator sk-toggleable\"><input class=\"sk-toggleable__control sk-hidden--visually\" id=\"a4136a56-5aa1-4272-8b93-757d7b8ea3a7\" type=\"checkbox\" ><label class=\"sk-toggleable__label\" for=\"a4136a56-5aa1-4272-8b93-757d7b8ea3a7\">SMOTE</label><div class=\"sk-toggleable__content\"><pre>SMOTE(k_neighbors=1, random_state=42)</pre></div></div></div><div class=\"sk-item\"><div class=\"sk-estimator sk-toggleable\"><input class=\"sk-toggleable__control sk-hidden--visually\" id=\"e22da8d4-c072-4a7b-adf6-11d32098c2bf\" type=\"checkbox\" ><label class=\"sk-toggleable__label\" for=\"e22da8d4-c072-4a7b-adf6-11d32098c2bf\">StandardScaler</label><div class=\"sk-toggleable__content\"><pre>StandardScaler()</pre></div></div></div><div class=\"sk-item\"><div class=\"sk-estimator sk-toggleable\"><input class=\"sk-toggleable__control sk-hidden--visually\" id=\"456a7648-92e4-4fd9-bc9f-6ed48a15c9d6\" type=\"checkbox\" ><label class=\"sk-toggleable__label\" for=\"456a7648-92e4-4fd9-bc9f-6ed48a15c9d6\">RandomForestClassifier</label><div class=\"sk-toggleable__content\"><pre>RandomForestClassifier(class_weight='balanced', criterion='entropy',\n",
       "                       max_depth=11, max_features='sqrt',\n",
       "                       min_impurity_decrease=1e-08, n_estimators=457, n_jobs=-1,\n",
       "                       random_state=42)</pre></div></div></div></div></div></div></div>"
      ],
      "text/plain": [
       "Pipeline(steps=[('smote', SMOTE(k_neighbors=1, random_state=42)),\n",
       "                ('standardscaler', StandardScaler()),\n",
       "                ('randomforestclassifier',\n",
       "                 RandomForestClassifier(class_weight='balanced',\n",
       "                                        criterion='entropy', max_depth=11,\n",
       "                                        max_features='sqrt',\n",
       "                                        min_impurity_decrease=1e-08,\n",
       "                                        n_estimators=457, n_jobs=-1,\n",
       "                                        random_state=42))])"
      ]
     },
     "metadata": {},
     "output_type": "display_data"
    },
    {
     "data": {
      "text/plain": [
       "<sklearn.metrics._plot.confusion_matrix.ConfusionMatrixDisplay at 0x7fb47546a910>"
      ]
     },
     "execution_count": 527,
     "metadata": {},
     "output_type": "execute_result"
    },
    {
     "data": {
      "image/png": "[encoded data removed]",
      "text/plain": [
       "<Figure size 432x288 with 2 Axes>"
      ]
     },
     "metadata": {
      "needs_background": "light"
     },
     "output_type": "display_data"
    }
   ],
   "source": [
    "# Create pipeline with SMOTE, StandardScaler and RandomForestClassifier\n",
    "pipeline = make_pipeline(\n",
    "    # OneHotEncoder(handle_unknown=\"ignore\", sparse=False),\n",
    "    SMOTE(random_state=42, k_neighbors=1),\n",
    "    StandardScaler(),\n",
    "    RandomForestClassifier(random_state=42, n_jobs=-1)\n",
    ")\n",
    "\n",
    "# Train the pipeline (transformations & predictor)\n",
    "pipeline.fit(X_train, y_train)\n",
    "\n",
    "# Predict using the pipeline (includes the transformers & trained predictor)\n",
    "predicted = pipeline.predict(X_test)\n",
    "\n",
    "# Define the grid of hyperparameters to search over\n",
    "pipe_grid = {\n",
    "    \"randomforestclassifier__n_estimators\": [457],\n",
    "    \"randomforestclassifier__criterion\": [\"gini\",\"entropy\",\"log_loss\"],\n",
    "    \"randomforestclassifier__max_depth\": [11],\n",
    "    \"randomforestclassifier__max_features\": [\"sqrt\",\"log2\"],\n",
    "    \"randomforestclassifier__class_weight\": [\"balanced_subsample\",\"balanced\"],\n",
    "    \"randomforestclassifier__min_impurity_decrease\": [0.00000001,],\n",
    "}\n",
    "\n",
    "# Perform grid search to find the best combination of hyperparameters\n",
    "second_pipe = GridSearchCV(\n",
    "    estimator=pipeline,\n",
    "    param_grid=pipe_grid,\n",
    "    n_jobs=-1\n",
    ")\n",
    "\n",
    "second_pipe.fit(X_train, y_train)\n",
    "display(second_pipe.best_params_)\n",
    "display(second_pipe.best_score_)\n",
    "display(second_pipe.best_estimator_)\n",
    "best_model = second_pipe.best_estimator_\n",
    "y_pred = best_model.predict(X_test)\n",
    "plot_confusion_matrix(best_model,X_test,y_test)\n"
   ]
  },
  {
   "attachments": {},
   "cell_type": "markdown",
   "metadata": {},
   "source": [
    "T5: RF, SS, SMOTE, CHAT"
   ]
  },
  {
   "cell_type": "code",
   "execution_count": 543,
   "metadata": {},
   "outputs": [
    {
     "data": {
      "text/plain": [
       "4    281\n",
       "6    259\n",
       "5    237\n",
       "3    232\n",
       "2    232\n",
       "1    229\n",
       "0    218\n",
       "Name: NObeyesdad, dtype: int64"
      ]
     },
     "execution_count": 543,
     "metadata": {},
     "output_type": "execute_result"
    }
   ],
   "source": [
    "y_train.value_counts()"
   ]
  },
  {
   "cell_type": "code",
   "execution_count": 742,
   "metadata": {},
   "outputs": [
    {
     "data": {
      "text/plain": [
       "128"
      ]
     },
     "execution_count": 742,
     "metadata": {},
     "output_type": "execute_result"
    }
   ],
   "source": [
    "def gen_weights(num_cat):\n",
    "    \"\"\"\n",
    "    Generate all possible combinations of weights for a given number of categories.\n",
    "\n",
    "    Args:\n",
    "    - num_cat (int): the number of categories to generate weights for.\n",
    "\n",
    "    Returns:\n",
    "    - A list of dictionaries, where each dictionary represents a unique combination of weights for each category.\n",
    "      The keys of each dictionary are the category numbers (0 to num_cat - 1) and the values are the weights for each category.\n",
    "    \"\"\"\n",
    "    master_weights = []\n",
    "    weights = {}\n",
    "    for cat in range(num_cat):\n",
    "        weights.update({cat: 1})\n",
    "\n",
    "    for i in range(num_cat):\n",
    "        weight_values = list(np.arange(1, 1.3, 0.30))\n",
    "        weight_combinations = list(itertools.product(weight_values, repeat=num_cat))\n",
    "        for combination in weight_combinations:\n",
    "            temp_weights = weights.copy()\n",
    "            for j in range(num_cat):\n",
    "                temp_weights[j] = combination[j]\n",
    "            master_weights.append(temp_weights.copy())\n",
    "            \n",
    "    return list(map(dict, set(frozenset(d.items()) for d in master_weights)))\n",
    "\n",
    "weights = gen_weights(7)\n",
    "len(weights)"
   ]
  },
  {
   "cell_type": "code",
   "execution_count": 744,
   "metadata": {},
   "outputs": [
    {
     "data": {
      "text/plain": [
       "{'randomforestclassifier__bootstrap': True,\n",
       " 'randomforestclassifier__class_weight': {0: 1.0,\n",
       "  3: 1.3,\n",
       "  1: 1.3,\n",
       "  6: 1.3,\n",
       "  5: 1.0,\n",
       "  4: 1.3,\n",
       "  2: 1.3},\n",
       " 'randomforestclassifier__criterion': 'entropy',\n",
       " 'randomforestclassifier__max_depth': 11,\n",
       " 'randomforestclassifier__max_features': 'sqrt',\n",
       " 'randomforestclassifier__max_samples': 0.6,\n",
       " 'randomforestclassifier__min_impurity_decrease': 0,\n",
       " 'randomforestclassifier__min_samples_leaf': 1,\n",
       " 'randomforestclassifier__min_samples_split': 2,\n",
       " 'randomforestclassifier__n_estimators': 456,\n",
       " 'randomforestclassifier__oob_score': True,\n",
       " 'randomforestclassifier__warm_start': True}"
      ]
     },
     "metadata": {},
     "output_type": "display_data"
    },
    {
     "data": {
      "text/plain": [
       "0.7896985233438099"
      ]
     },
     "metadata": {},
     "output_type": "display_data"
    },
    {
     "data": {
      "text/html": [
       "<style>div.sk-top-container {color: black;background-color: white;}div.sk-toggleable {background-color: white;}label.sk-toggleable__label {cursor: pointer;display: block;width: 100%;margin-bottom: 0;padding: 0.2em 0.3em;box-sizing: border-box;text-align: center;}div.sk-toggleable__content {max-height: 0;max-width: 0;overflow: hidden;text-align: left;background-color: #f0f8ff;}div.sk-toggleable__content pre {margin: 0.2em;color: black;border-radius: 0.25em;background-color: #f0f8ff;}input.sk-toggleable__control:checked~div.sk-toggleable__content {max-height: 200px;max-width: 100%;overflow: auto;}div.sk-estimator input.sk-toggleable__control:checked~label.sk-toggleable__label {background-color: #d4ebff;}div.sk-label input.sk-toggleable__control:checked~label.sk-toggleable__label {background-color: #d4ebff;}input.sk-hidden--visually {border: 0;clip: rect(1px 1px 1px 1px);clip: rect(1px, 1px, 1px, 1px);height: 1px;margin: -1px;overflow: hidden;padding: 0;position: absolute;width: 1px;}div.sk-estimator {font-family: monospace;background-color: #f0f8ff;margin: 0.25em 0.25em;border: 1px dotted black;border-radius: 0.25em;box-sizing: border-box;}div.sk-estimator:hover {background-color: #d4ebff;}div.sk-parallel-item::after {content: \"\";width: 100%;border-bottom: 1px solid gray;flex-grow: 1;}div.sk-label:hover label.sk-toggleable__label {background-color: #d4ebff;}div.sk-serial::before {content: \"\";position: absolute;border-left: 1px solid gray;box-sizing: border-box;top: 2em;bottom: 0;left: 50%;}div.sk-serial {display: flex;flex-direction: column;align-items: center;background-color: white;}div.sk-item {z-index: 1;}div.sk-parallel {display: flex;align-items: stretch;justify-content: center;background-color: white;}div.sk-parallel-item {display: flex;flex-direction: column;position: relative;background-color: white;}div.sk-parallel-item:first-child::after {align-self: flex-end;width: 50%;}div.sk-parallel-item:last-child::after {align-self: flex-start;width: 50%;}div.sk-parallel-item:only-child::after {width: 0;}div.sk-dashed-wrapped {border: 1px dashed gray;margin: 0.2em;box-sizing: border-box;padding-bottom: 0.1em;background-color: white;position: relative;}div.sk-label label {font-family: monospace;font-weight: bold;background-color: white;display: inline-block;line-height: 1.2em;}div.sk-label-container {position: relative;z-index: 2;text-align: center;}div.sk-container {display: inline-block;position: relative;}</style><div class=\"sk-top-container\"><div class=\"sk-container\"><div class=\"sk-item sk-dashed-wrapped\"><div class=\"sk-label-container\"><div class=\"sk-label sk-toggleable\"><input class=\"sk-toggleable__control sk-hidden--visually\" id=\"e5b1e9f2-5f6a-4199-ad0e-627ebf48fed8\" type=\"checkbox\" ><label class=\"sk-toggleable__label\" for=\"e5b1e9f2-5f6a-4199-ad0e-627ebf48fed8\">Pipeline</label><div class=\"sk-toggleable__content\"><pre>Pipeline(steps=[('smote', SMOTE(k_neighbors=1, random_state=42)),\n",
       "                ('standardscaler', StandardScaler()),\n",
       "                ('randomforestclassifier',\n",
       "                 RandomForestClassifier(class_weight={0: 1.0, 1: 1.3, 2: 1.3,\n",
       "                                                      3: 1.3, 4: 1.3, 5: 1.0,\n",
       "                                                      6: 1.3},\n",
       "                                        criterion='entropy', max_depth=11,\n",
       "                                        max_features='sqrt', max_samples=0.6,\n",
       "                                        min_impurity_decrease=0,\n",
       "                                        n_estimators=456, oob_score=True,\n",
       "                                        random_state=42, warm_start=True))])</pre></div></div></div><div class=\"sk-serial\"><div class=\"sk-item\"><div class=\"sk-estimator sk-toggleable\"><input class=\"sk-toggleable__control sk-hidden--visually\" id=\"bf3eb351-630e-4b25-94e7-4c9d91437560\" type=\"checkbox\" ><label class=\"sk-toggleable__label\" for=\"bf3eb351-630e-4b25-94e7-4c9d91437560\">SMOTE</label><div class=\"sk-toggleable__content\"><pre>SMOTE(k_neighbors=1, random_state=42)</pre></div></div></div><div class=\"sk-item\"><div class=\"sk-estimator sk-toggleable\"><input class=\"sk-toggleable__control sk-hidden--visually\" id=\"786a0ba0-b8c4-4a88-a818-7e3d0803df70\" type=\"checkbox\" ><label class=\"sk-toggleable__label\" for=\"786a0ba0-b8c4-4a88-a818-7e3d0803df70\">StandardScaler</label><div class=\"sk-toggleable__content\"><pre>StandardScaler()</pre></div></div></div><div class=\"sk-item\"><div class=\"sk-estimator sk-toggleable\"><input class=\"sk-toggleable__control sk-hidden--visually\" id=\"eb0c90f5-8db6-4c9b-829d-046466cbceaa\" type=\"checkbox\" ><label class=\"sk-toggleable__label\" for=\"eb0c90f5-8db6-4c9b-829d-046466cbceaa\">RandomForestClassifier</label><div class=\"sk-toggleable__content\"><pre>RandomForestClassifier(class_weight={0: 1.0, 1: 1.3, 2: 1.3, 3: 1.3, 4: 1.3,\n",
       "                                     5: 1.0, 6: 1.3},\n",
       "                       criterion='entropy', max_depth=11, max_features='sqrt',\n",
       "                       max_samples=0.6, min_impurity_decrease=0,\n",
       "                       n_estimators=456, oob_score=True, random_state=42,\n",
       "                       warm_start=True)</pre></div></div></div></div></div></div></div>"
      ],
      "text/plain": [
       "Pipeline(steps=[('smote', SMOTE(k_neighbors=1, random_state=42)),\n",
       "                ('standardscaler', StandardScaler()),\n",
       "                ('randomforestclassifier',\n",
       "                 RandomForestClassifier(class_weight={0: 1.0, 1: 1.3, 2: 1.3,\n",
       "                                                      3: 1.3, 4: 1.3, 5: 1.0,\n",
       "                                                      6: 1.3},\n",
       "                                        criterion='entropy', max_depth=11,\n",
       "                                        max_features='sqrt', max_samples=0.6,\n",
       "                                        min_impurity_decrease=0,\n",
       "                                        n_estimators=456, oob_score=True,\n",
       "                                        random_state=42, warm_start=True))])"
      ]
     },
     "metadata": {},
     "output_type": "display_data"
    },
    {
     "data": {
      "text/plain": [
       "<sklearn.metrics._plot.confusion_matrix.ConfusionMatrixDisplay at 0x7fb432fa63d0>"
      ]
     },
     "execution_count": 744,
     "metadata": {},
     "output_type": "execute_result"
    },
    {
     "data": {
      "image/png": "[encoded data removed]",
      "text/plain": [
       "<Figure size 432x288 with 2 Axes>"
      ]
     },
     "metadata": {
      "needs_background": "light"
     },
     "output_type": "display_data"
    }
   ],
   "source": [
    "# Create pipeline with SMOTE, StandardScaler and RandomForestClassifier\n",
    "pipeline = make_pipeline(\n",
    "    # OneHotEncoder(handle_unknown=\"ignore\", sparse=False),\n",
    "    SMOTE(random_state=42, k_neighbors=1),\n",
    "    StandardScaler(),\n",
    "    RandomForestClassifier(random_state=42)\n",
    ")\n",
    "\n",
    "# Train the pipeline (transformations & predictor)\n",
    "pipeline.fit(X_train, y_train)\n",
    "\n",
    "# Predict using the pipeline (includes the transformers & trained predictor)\n",
    "predicted = pipeline.predict(X_test)\n",
    "\n",
    "# Define the grid of hyperparameters to search over\n",
    "pipe_grid = {\n",
    "    \"randomforestclassifier__n_estimators\": [456],\n",
    "    \"randomforestclassifier__criterion\": [\"entropy\"],\n",
    "    \"randomforestclassifier__max_depth\": [11],\n",
    "    \"randomforestclassifier__max_features\": [\"sqrt\"],\n",
    "    \"randomforestclassifier__class_weight\": weights[:5],\n",
    "    \"randomforestclassifier__min_impurity_decrease\": [0],\n",
    "    \"randomforestclassifier__min_samples_split\": [2],\n",
    "    \"randomforestclassifier__min_samples_leaf\": [1],\n",
    "    \"randomforestclassifier__max_samples\": [0.6],\n",
    "    \"randomforestclassifier__bootstrap\": [True],\n",
    "    \"randomforestclassifier__oob_score\": [True],\n",
    "    \"randomforestclassifier__warm_start\": [True]\n",
    "}\n",
    "\n",
    "# Perform grid search to find the best combination of hyperparameters\n",
    "second_pipe = GridSearchCV(\n",
    "    estimator=pipeline,\n",
    "    param_grid=pipe_grid,\n",
    "    n_jobs=-1\n",
    ")\n",
    "\n",
    "second_pipe.fit(X_train, y_train)\n",
    "display(second_pipe.best_params_)\n",
    "display(second_pipe.best_score_)\n",
    "display(second_pipe.best_estimator_)\n",
    "best_model = second_pipe.best_estimator_\n",
    "y_pred = best_model.predict(X_test)\n",
    "plot_confusion_matrix(best_model,X_test,y_test)"
   ]
  },
  {
   "attachments": {},
   "cell_type": "markdown",
   "metadata": {},
   "source": [
    "T1: Log, RF, SS, SMOTE"
   ]
  },
  {
   "cell_type": "code",
   "execution_count": 529,
   "metadata": {},
   "outputs": [
    {
     "ename": "TypeError",
     "evalue": "All intermediate steps should be transformers and implement fit and transform or be the string 'passthrough' 'SMOTE(k_neighbors=1, random_state=42)' (type <class 'imblearn.over_sampling._smote.SMOTE'>) doesn't",
     "output_type": "error",
     "traceback": [
      "\u001b[0;31m---------------------------------------------------------------------------\u001b[0m",
      "\u001b[0;31mTypeError\u001b[0m                                 Traceback (most recent call last)",
      "\u001b[0;32m<ipython-input-529-1a3ad475f632>\u001b[0m in \u001b[0;36m<module>\u001b[0;34m\u001b[0m\n\u001b[1;32m      4\u001b[0m \u001b[0;34m\u001b[0m\u001b[0m\n\u001b[1;32m      5\u001b[0m \u001b[0;31m# Define the pipeline for the resampler and classifier\u001b[0m\u001b[0;34m\u001b[0m\u001b[0;34m\u001b[0m\u001b[0;34m\u001b[0m\u001b[0m\n\u001b[0;32m----> 6\u001b[0;31m resamp_clf_pipeline = Pipeline([\n\u001b[0m\u001b[1;32m      7\u001b[0m         \u001b[0;34m(\u001b[0m\u001b[0;34m'smote'\u001b[0m\u001b[0;34m,\u001b[0m \u001b[0mSMOTE\u001b[0m\u001b[0;34m(\u001b[0m\u001b[0mrandom_state\u001b[0m\u001b[0;34m=\u001b[0m\u001b[0;36m42\u001b[0m\u001b[0;34m,\u001b[0m \u001b[0mk_neighbors\u001b[0m\u001b[0;34m=\u001b[0m\u001b[0;36m1\u001b[0m\u001b[0;34m)\u001b[0m\u001b[0;34m)\u001b[0m\u001b[0;34m,\u001b[0m\u001b[0;34m\u001b[0m\u001b[0;34m\u001b[0m\u001b[0m\n\u001b[1;32m      8\u001b[0m         \u001b[0;34m(\u001b[0m\u001b[0;34m'clf'\u001b[0m\u001b[0;34m,\u001b[0m \u001b[0mRandomForestClassifier\u001b[0m\u001b[0;34m(\u001b[0m\u001b[0mrandom_state\u001b[0m\u001b[0;34m=\u001b[0m\u001b[0;36m42\u001b[0m\u001b[0;34m)\u001b[0m\u001b[0;34m)\u001b[0m\u001b[0;34m\u001b[0m\u001b[0;34m\u001b[0m\u001b[0m\n",
      "\u001b[0;32m~/opt/anaconda3/envs/new_learn_env/lib/python3.8/site-packages/sklearn/utils/validation.py\u001b[0m in \u001b[0;36minner_f\u001b[0;34m(*args, **kwargs)\u001b[0m\n\u001b[1;32m     70\u001b[0m                           FutureWarning)\n\u001b[1;32m     71\u001b[0m         \u001b[0mkwargs\u001b[0m\u001b[0;34m.\u001b[0m\u001b[0mupdate\u001b[0m\u001b[0;34m(\u001b[0m\u001b[0;34m{\u001b[0m\u001b[0mk\u001b[0m\u001b[0;34m:\u001b[0m \u001b[0marg\u001b[0m \u001b[0;32mfor\u001b[0m \u001b[0mk\u001b[0m\u001b[0;34m,\u001b[0m \u001b[0marg\u001b[0m \u001b[0;32min\u001b[0m \u001b[0mzip\u001b[0m\u001b[0;34m(\u001b[0m\u001b[0msig\u001b[0m\u001b[0;34m.\u001b[0m\u001b[0mparameters\u001b[0m\u001b[0;34m,\u001b[0m \u001b[0margs\u001b[0m\u001b[0;34m)\u001b[0m\u001b[0;34m}\u001b[0m\u001b[0;34m)\u001b[0m\u001b[0;34m\u001b[0m\u001b[0;34m\u001b[0m\u001b[0m\n\u001b[0;32m---> 72\u001b[0;31m         \u001b[0;32mreturn\u001b[0m \u001b[0mf\u001b[0m\u001b[0;34m(\u001b[0m\u001b[0;34m**\u001b[0m\u001b[0mkwargs\u001b[0m\u001b[0;34m)\u001b[0m\u001b[0;34m\u001b[0m\u001b[0;34m\u001b[0m\u001b[0m\n\u001b[0m\u001b[1;32m     73\u001b[0m     \u001b[0;32mreturn\u001b[0m \u001b[0minner_f\u001b[0m\u001b[0;34m\u001b[0m\u001b[0;34m\u001b[0m\u001b[0m\n\u001b[1;32m     74\u001b[0m \u001b[0;34m\u001b[0m\u001b[0m\n",
      "\u001b[0;32m~/opt/anaconda3/envs/new_learn_env/lib/python3.8/site-packages/sklearn/pipeline.py\u001b[0m in \u001b[0;36m__init__\u001b[0;34m(self, steps, memory, verbose)\u001b[0m\n\u001b[1;32m    112\u001b[0m         \u001b[0mself\u001b[0m\u001b[0;34m.\u001b[0m\u001b[0mmemory\u001b[0m \u001b[0;34m=\u001b[0m \u001b[0mmemory\u001b[0m\u001b[0;34m\u001b[0m\u001b[0;34m\u001b[0m\u001b[0m\n\u001b[1;32m    113\u001b[0m         \u001b[0mself\u001b[0m\u001b[0;34m.\u001b[0m\u001b[0mverbose\u001b[0m \u001b[0;34m=\u001b[0m \u001b[0mverbose\u001b[0m\u001b[0;34m\u001b[0m\u001b[0;34m\u001b[0m\u001b[0m\n\u001b[0;32m--> 114\u001b[0;31m         \u001b[0mself\u001b[0m\u001b[0;34m.\u001b[0m\u001b[0m_validate_steps\u001b[0m\u001b[0;34m(\u001b[0m\u001b[0;34m)\u001b[0m\u001b[0;34m\u001b[0m\u001b[0;34m\u001b[0m\u001b[0m\n\u001b[0m\u001b[1;32m    115\u001b[0m \u001b[0;34m\u001b[0m\u001b[0m\n\u001b[1;32m    116\u001b[0m     \u001b[0;32mdef\u001b[0m \u001b[0mget_params\u001b[0m\u001b[0;34m(\u001b[0m\u001b[0mself\u001b[0m\u001b[0;34m,\u001b[0m \u001b[0mdeep\u001b[0m\u001b[0;34m=\u001b[0m\u001b[0;32mTrue\u001b[0m\u001b[0;34m)\u001b[0m\u001b[0;34m:\u001b[0m\u001b[0;34m\u001b[0m\u001b[0;34m\u001b[0m\u001b[0m\n",
      "\u001b[0;32m~/opt/anaconda3/envs/new_learn_env/lib/python3.8/site-packages/sklearn/pipeline.py\u001b[0m in \u001b[0;36m_validate_steps\u001b[0;34m(self)\u001b[0m\n\u001b[1;32m    157\u001b[0m             if (not (hasattr(t, \"fit\") or hasattr(t, \"fit_transform\")) or not\n\u001b[1;32m    158\u001b[0m                     hasattr(t, \"transform\")):\n\u001b[0;32m--> 159\u001b[0;31m                 raise TypeError(\"All intermediate steps should be \"\n\u001b[0m\u001b[1;32m    160\u001b[0m                                 \u001b[0;34m\"transformers and implement fit and transform \"\u001b[0m\u001b[0;34m\u001b[0m\u001b[0;34m\u001b[0m\u001b[0m\n\u001b[1;32m    161\u001b[0m                                 \u001b[0;34m\"or be the string 'passthrough' \"\u001b[0m\u001b[0;34m\u001b[0m\u001b[0;34m\u001b[0m\u001b[0m\n",
      "\u001b[0;31mTypeError\u001b[0m: All intermediate steps should be transformers and implement fit and transform or be the string 'passthrough' 'SMOTE(k_neighbors=1, random_state=42)' (type <class 'imblearn.over_sampling._smote.SMOTE'>) doesn't"
     ]
    }
   ],
   "source": [
    "from sklearn.pipeline import Pipeline\n",
    "from imblearn.pipeline import make_pipeline as imb_make_pipeline\n",
    "from imblearn.over_sampling import SMOTE\n",
    "\n",
    "# Define the pipeline for the resampler and classifier\n",
    "resamp_clf_pipeline = Pipeline([\n",
    "        ('smote', SMOTE(random_state=42, k_neighbors=1)),\n",
    "        ('clf', RandomForestClassifier(random_state=42))\n",
    "    ])\n",
    "\n",
    "# Define the main pipeline\n",
    "pipeline = Pipeline([\n",
    "    ('resamp_clf_pipeline', resamp_clf_pipeline),\n",
    "    ('scaler', StandardScaler()),\n",
    "    ('clf', LogisticRegression(random_state=42))\n",
    "])\n",
    "\n",
    "# Train the pipeline (transformations & predictor)\n",
    "pipeline.fit(X_train, y_train)\n",
    "\n",
    "# Predict using the pipeline (includes the transformers & trained predictor)\n",
    "predicted = pipeline.predict(X_test)\n",
    "\n",
    "# Define the grid of hyperparameters to search over\n",
    "pipe_grid = {\n",
    "    \"resamp_clf_pipeline__smote__sampling_strategy\": [\"minority\", \"not minority\"],\n",
    "    \"resamp_clf_pipeline__smote__random_state\": [42],\n",
    "    \"resamp_clf_pipeline__randomforestclassifier__n_estimators\": [457],\n",
    "    \"resamp_clf_pipeline__randomforestclassifier__criterion\": [\"entropy\"],\n",
    "    \"resamp_clf_pipeline__randomforestclassifier__max_depth\": [11],\n",
    "    \"resamp_clf_pipeline__randomforestclassifier__max_features\": [\"log2\"],\n",
    "    \"clf__penalty\": [\"l1\", \"l2\", \"elasticnet\", None],\n",
    "    \"clf__max_iter\": [x for x in range(0, 100, 10)],\n",
    "    \"clf__solver\": [\"lbfgs\", \"liblinear\", \"newton-cg\", \"newton-cholesky\", \"sag\", \"saga\"]\n",
    "}\n",
    "\n",
    "# Perform grid search to find the best combination of hyperparameters\n",
    "second_pipe = GridSearchCV(\n",
    "    estimator=pipeline,\n",
    "    param_grid=pipe_grid\n",
    ")\n",
    "\n",
    "second_pipe.fit(X_train, y_train)\n",
    "\n",
    "display(second_pipe.best_params_)\n",
    "display(second_pipe.best_score_)\n",
    "display(second_pipe.best_estimator_)\n",
    "best_model = second_pipe.best_estimator_\n",
    "y_pred = best_model.predict(X_test)\n",
    "plot_confusion_matrix(best_model,X_test,y_test);\n"
   ]
  },
  {
   "attachments": {},
   "cell_type": "markdown",
   "metadata": {},
   "source": [
    "T2: ManualOverSamp, SS, RF"
   ]
  },
  {
   "cell_type": "code",
   "execution_count": 532,
   "metadata": {},
   "outputs": [
    {
     "data": {
      "text/plain": [
       "{'randomforestclassifier__class_weight': 'balanced',\n",
       " 'randomforestclassifier__criterion': 'entropy',\n",
       " 'randomforestclassifier__max_depth': 11,\n",
       " 'randomforestclassifier__max_features': 'log2',\n",
       " 'randomforestclassifier__n_estimators': 457,\n",
       " 'randomoversampler__sampling_strategy': {0: 281,\n",
       "  1: 281,\n",
       "  2: 281,\n",
       "  3: 281,\n",
       "  4: 281,\n",
       "  5: 300,\n",
       "  6: 259}}"
      ]
     },
     "metadata": {},
     "output_type": "display_data"
    },
    {
     "data": {
      "text/plain": [
       "0.7920636314153775"
      ]
     },
     "metadata": {},
     "output_type": "display_data"
    },
    {
     "data": {
      "text/html": [
       "<style>div.sk-top-container {color: black;background-color: white;}div.sk-toggleable {background-color: white;}label.sk-toggleable__label {cursor: pointer;display: block;width: 100%;margin-bottom: 0;padding: 0.2em 0.3em;box-sizing: border-box;text-align: center;}div.sk-toggleable__content {max-height: 0;max-width: 0;overflow: hidden;text-align: left;background-color: #f0f8ff;}div.sk-toggleable__content pre {margin: 0.2em;color: black;border-radius: 0.25em;background-color: #f0f8ff;}input.sk-toggleable__control:checked~div.sk-toggleable__content {max-height: 200px;max-width: 100%;overflow: auto;}div.sk-estimator input.sk-toggleable__control:checked~label.sk-toggleable__label {background-color: #d4ebff;}div.sk-label input.sk-toggleable__control:checked~label.sk-toggleable__label {background-color: #d4ebff;}input.sk-hidden--visually {border: 0;clip: rect(1px 1px 1px 1px);clip: rect(1px, 1px, 1px, 1px);height: 1px;margin: -1px;overflow: hidden;padding: 0;position: absolute;width: 1px;}div.sk-estimator {font-family: monospace;background-color: #f0f8ff;margin: 0.25em 0.25em;border: 1px dotted black;border-radius: 0.25em;box-sizing: border-box;}div.sk-estimator:hover {background-color: #d4ebff;}div.sk-parallel-item::after {content: \"\";width: 100%;border-bottom: 1px solid gray;flex-grow: 1;}div.sk-label:hover label.sk-toggleable__label {background-color: #d4ebff;}div.sk-serial::before {content: \"\";position: absolute;border-left: 1px solid gray;box-sizing: border-box;top: 2em;bottom: 0;left: 50%;}div.sk-serial {display: flex;flex-direction: column;align-items: center;background-color: white;}div.sk-item {z-index: 1;}div.sk-parallel {display: flex;align-items: stretch;justify-content: center;background-color: white;}div.sk-parallel-item {display: flex;flex-direction: column;position: relative;background-color: white;}div.sk-parallel-item:first-child::after {align-self: flex-end;width: 50%;}div.sk-parallel-item:last-child::after {align-self: flex-start;width: 50%;}div.sk-parallel-item:only-child::after {width: 0;}div.sk-dashed-wrapped {border: 1px dashed gray;margin: 0.2em;box-sizing: border-box;padding-bottom: 0.1em;background-color: white;position: relative;}div.sk-label label {font-family: monospace;font-weight: bold;background-color: white;display: inline-block;line-height: 1.2em;}div.sk-label-container {position: relative;z-index: 2;text-align: center;}div.sk-container {display: inline-block;position: relative;}</style><div class=\"sk-top-container\"><div class=\"sk-container\"><div class=\"sk-item sk-dashed-wrapped\"><div class=\"sk-label-container\"><div class=\"sk-label sk-toggleable\"><input class=\"sk-toggleable__control sk-hidden--visually\" id=\"ec78acb6-9299-4657-bfe9-ee9a0d90651b\" type=\"checkbox\" ><label class=\"sk-toggleable__label\" for=\"ec78acb6-9299-4657-bfe9-ee9a0d90651b\">Pipeline</label><div class=\"sk-toggleable__content\"><pre>Pipeline(steps=[('randomoversampler',\n",
       "                 RandomOverSampler(random_state=42,\n",
       "                                   sampling_strategy={0: 281, 1: 281, 2: 281,\n",
       "                                                      3: 281, 4: 281, 5: 300,\n",
       "                                                      6: 259})),\n",
       "                ('standardscaler', StandardScaler()),\n",
       "                ('randomforestclassifier',\n",
       "                 RandomForestClassifier(class_weight='balanced',\n",
       "                                        criterion='entropy', max_depth=11,\n",
       "                                        max_features='log2', n_estimators=457,\n",
       "                                        random_state=42))])</pre></div></div></div><div class=\"sk-serial\"><div class=\"sk-item\"><div class=\"sk-estimator sk-toggleable\"><input class=\"sk-toggleable__control sk-hidden--visually\" id=\"8d727c32-7d05-4073-8fd6-75a84bfe84a3\" type=\"checkbox\" ><label class=\"sk-toggleable__label\" for=\"8d727c32-7d05-4073-8fd6-75a84bfe84a3\">RandomOverSampler</label><div class=\"sk-toggleable__content\"><pre>RandomOverSampler(random_state=42,\n",
       "                  sampling_strategy={0: 281, 1: 281, 2: 281, 3: 281, 4: 281,\n",
       "                                     5: 300, 6: 259})</pre></div></div></div><div class=\"sk-item\"><div class=\"sk-estimator sk-toggleable\"><input class=\"sk-toggleable__control sk-hidden--visually\" id=\"8fe49bb6-5fa8-4018-a2c1-fd835bfa6ff9\" type=\"checkbox\" ><label class=\"sk-toggleable__label\" for=\"8fe49bb6-5fa8-4018-a2c1-fd835bfa6ff9\">StandardScaler</label><div class=\"sk-toggleable__content\"><pre>StandardScaler()</pre></div></div></div><div class=\"sk-item\"><div class=\"sk-estimator sk-toggleable\"><input class=\"sk-toggleable__control sk-hidden--visually\" id=\"28253774-ff64-4a52-86b9-311f0f08c184\" type=\"checkbox\" ><label class=\"sk-toggleable__label\" for=\"28253774-ff64-4a52-86b9-311f0f08c184\">RandomForestClassifier</label><div class=\"sk-toggleable__content\"><pre>RandomForestClassifier(class_weight='balanced', criterion='entropy',\n",
       "                       max_depth=11, max_features='log2', n_estimators=457,\n",
       "                       random_state=42)</pre></div></div></div></div></div></div></div>"
      ],
      "text/plain": [
       "Pipeline(steps=[('randomoversampler',\n",
       "                 RandomOverSampler(random_state=42,\n",
       "                                   sampling_strategy={0: 281, 1: 281, 2: 281,\n",
       "                                                      3: 281, 4: 281, 5: 300,\n",
       "                                                      6: 259})),\n",
       "                ('standardscaler', StandardScaler()),\n",
       "                ('randomforestclassifier',\n",
       "                 RandomForestClassifier(class_weight='balanced',\n",
       "                                        criterion='entropy', max_depth=11,\n",
       "                                        max_features='log2', n_estimators=457,\n",
       "                                        random_state=42))])"
      ]
     },
     "metadata": {},
     "output_type": "display_data"
    },
    {
     "data": {
      "image/png": "[encoded data removed]",
      "text/plain": [
       "<Figure size 432x288 with 2 Axes>"
      ]
     },
     "metadata": {
      "needs_background": "light"
     },
     "output_type": "display_data"
    }
   ],
   "source": [
    "# Define the pipeline\n",
    "pipeline = make_pipeline(\n",
    "    RandomOverSampler(random_state=42),\n",
    "    StandardScaler(),\n",
    "    RandomForestClassifier(random_state=42)\n",
    ")\n",
    "\n",
    "# Train the pipeline (transformations & predictor)\n",
    "pipeline.fit(X_train, y_train)\n",
    "\n",
    "# Predict using the pipeline (includes the transformers & trained predictor)\n",
    "predicted = pipeline.predict(X_test)\n",
    "\n",
    "# Define the grid of hyperparameters to search over\n",
    "pipe_grid = {\n",
    "    \"randomoversampler__sampling_strategy\": [{0:281,1:281,2:281,3:281,4:281,5:300,6:259}],\n",
    "    \"randomforestclassifier__n_estimators\": [457],\n",
    "    \"randomforestclassifier__criterion\": [\"entropy\"],\n",
    "    \"randomforestclassifier__max_depth\": [11],\n",
    "    \"randomforestclassifier__max_features\": [\"log2\"],\n",
    "    \"randomforestclassifier__class_weight\": [\"balanced\", \"balanced_subsample\"]\n",
    "}\n",
    "\n",
    "# Perform grid search to find the best combination of hyperparameters\n",
    "second_pipe = GridSearchCV(\n",
    "    estimator=pipeline,\n",
    "    param_grid=pipe_grid,\n",
    "    n_jobs=-1\n",
    ")\n",
    "\n",
    "second_pipe.fit(X_train, y_train)\n",
    "display(second_pipe.best_params_)\n",
    "display(second_pipe.best_score_)\n",
    "display(second_pipe.best_estimator_)\n",
    "best_model = second_pipe.best_estimator_\n",
    "y_pred = best_model.predict(X_test)\n",
    "plot_confusion_matrix(best_model,X_test,y_test);\n"
   ]
  },
  {
   "attachments": {},
   "cell_type": "markdown",
   "metadata": {},
   "source": [
    "T4: OverSamp, SS, RF"
   ]
  },
  {
   "cell_type": "code",
   "execution_count": 533,
   "metadata": {},
   "outputs": [
    {
     "data": {
      "text/plain": [
       "{'randomforestclassifier__criterion': 'entropy',\n",
       " 'randomforestclassifier__max_depth': 11,\n",
       " 'randomforestclassifier__max_features': 'log2',\n",
       " 'randomforestclassifier__n_estimators': 457,\n",
       " 'randomoversampler__sampling_strategy': 'not minority'}"
      ]
     },
     "metadata": {},
     "output_type": "display_data"
    },
    {
     "data": {
      "text/plain": [
       "0.7885063122223588"
      ]
     },
     "metadata": {},
     "output_type": "display_data"
    },
    {
     "data": {
      "text/html": [
       "<style>div.sk-top-container {color: black;background-color: white;}div.sk-toggleable {background-color: white;}label.sk-toggleable__label {cursor: pointer;display: block;width: 100%;margin-bottom: 0;padding: 0.2em 0.3em;box-sizing: border-box;text-align: center;}div.sk-toggleable__content {max-height: 0;max-width: 0;overflow: hidden;text-align: left;background-color: #f0f8ff;}div.sk-toggleable__content pre {margin: 0.2em;color: black;border-radius: 0.25em;background-color: #f0f8ff;}input.sk-toggleable__control:checked~div.sk-toggleable__content {max-height: 200px;max-width: 100%;overflow: auto;}div.sk-estimator input.sk-toggleable__control:checked~label.sk-toggleable__label {background-color: #d4ebff;}div.sk-label input.sk-toggleable__control:checked~label.sk-toggleable__label {background-color: #d4ebff;}input.sk-hidden--visually {border: 0;clip: rect(1px 1px 1px 1px);clip: rect(1px, 1px, 1px, 1px);height: 1px;margin: -1px;overflow: hidden;padding: 0;position: absolute;width: 1px;}div.sk-estimator {font-family: monospace;background-color: #f0f8ff;margin: 0.25em 0.25em;border: 1px dotted black;border-radius: 0.25em;box-sizing: border-box;}div.sk-estimator:hover {background-color: #d4ebff;}div.sk-parallel-item::after {content: \"\";width: 100%;border-bottom: 1px solid gray;flex-grow: 1;}div.sk-label:hover label.sk-toggleable__label {background-color: #d4ebff;}div.sk-serial::before {content: \"\";position: absolute;border-left: 1px solid gray;box-sizing: border-box;top: 2em;bottom: 0;left: 50%;}div.sk-serial {display: flex;flex-direction: column;align-items: center;background-color: white;}div.sk-item {z-index: 1;}div.sk-parallel {display: flex;align-items: stretch;justify-content: center;background-color: white;}div.sk-parallel-item {display: flex;flex-direction: column;position: relative;background-color: white;}div.sk-parallel-item:first-child::after {align-self: flex-end;width: 50%;}div.sk-parallel-item:last-child::after {align-self: flex-start;width: 50%;}div.sk-parallel-item:only-child::after {width: 0;}div.sk-dashed-wrapped {border: 1px dashed gray;margin: 0.2em;box-sizing: border-box;padding-bottom: 0.1em;background-color: white;position: relative;}div.sk-label label {font-family: monospace;font-weight: bold;background-color: white;display: inline-block;line-height: 1.2em;}div.sk-label-container {position: relative;z-index: 2;text-align: center;}div.sk-container {display: inline-block;position: relative;}</style><div class=\"sk-top-container\"><div class=\"sk-container\"><div class=\"sk-item sk-dashed-wrapped\"><div class=\"sk-label-container\"><div class=\"sk-label sk-toggleable\"><input class=\"sk-toggleable__control sk-hidden--visually\" id=\"8f119c4c-118d-4a46-a704-7b93856859f8\" type=\"checkbox\" ><label class=\"sk-toggleable__label\" for=\"8f119c4c-118d-4a46-a704-7b93856859f8\">Pipeline</label><div class=\"sk-toggleable__content\"><pre>Pipeline(steps=[('randomoversampler',\n",
       "                 RandomOverSampler(random_state=42,\n",
       "                                   sampling_strategy='not minority')),\n",
       "                ('standardscaler', StandardScaler()),\n",
       "                ('randomforestclassifier',\n",
       "                 RandomForestClassifier(criterion='entropy', max_depth=11,\n",
       "                                        max_features='log2', n_estimators=457,\n",
       "                                        random_state=42))])</pre></div></div></div><div class=\"sk-serial\"><div class=\"sk-item\"><div class=\"sk-estimator sk-toggleable\"><input class=\"sk-toggleable__control sk-hidden--visually\" id=\"ba46f164-740e-4323-8a6b-62eaa2bf38aa\" type=\"checkbox\" ><label class=\"sk-toggleable__label\" for=\"ba46f164-740e-4323-8a6b-62eaa2bf38aa\">RandomOverSampler</label><div class=\"sk-toggleable__content\"><pre>RandomOverSampler(random_state=42, sampling_strategy='not minority')</pre></div></div></div><div class=\"sk-item\"><div class=\"sk-estimator sk-toggleable\"><input class=\"sk-toggleable__control sk-hidden--visually\" id=\"cfed6f56-79e8-4041-8dd7-0efac07dcf63\" type=\"checkbox\" ><label class=\"sk-toggleable__label\" for=\"cfed6f56-79e8-4041-8dd7-0efac07dcf63\">StandardScaler</label><div class=\"sk-toggleable__content\"><pre>StandardScaler()</pre></div></div></div><div class=\"sk-item\"><div class=\"sk-estimator sk-toggleable\"><input class=\"sk-toggleable__control sk-hidden--visually\" id=\"a178b09d-db54-4610-bbc6-46a901a535e5\" type=\"checkbox\" ><label class=\"sk-toggleable__label\" for=\"a178b09d-db54-4610-bbc6-46a901a535e5\">RandomForestClassifier</label><div class=\"sk-toggleable__content\"><pre>RandomForestClassifier(criterion='entropy', max_depth=11, max_features='log2',\n",
       "                       n_estimators=457, random_state=42)</pre></div></div></div></div></div></div></div>"
      ],
      "text/plain": [
       "Pipeline(steps=[('randomoversampler',\n",
       "                 RandomOverSampler(random_state=42,\n",
       "                                   sampling_strategy='not minority')),\n",
       "                ('standardscaler', StandardScaler()),\n",
       "                ('randomforestclassifier',\n",
       "                 RandomForestClassifier(criterion='entropy', max_depth=11,\n",
       "                                        max_features='log2', n_estimators=457,\n",
       "                                        random_state=42))])"
      ]
     },
     "metadata": {},
     "output_type": "display_data"
    },
    {
     "data": {
      "image/png": "[encoded data removed]",
      "text/plain": [
       "<Figure size 432x288 with 2 Axes>"
      ]
     },
     "metadata": {
      "needs_background": "light"
     },
     "output_type": "display_data"
    }
   ],
   "source": [
    "# Define the pipeline\n",
    "pipeline = make_pipeline(\n",
    "    RandomOverSampler(random_state=42),\n",
    "    StandardScaler(),\n",
    "    RandomForestClassifier(random_state=42)\n",
    ")\n",
    "\n",
    "# Train the pipeline (transformations & predictor)\n",
    "pipeline.fit(X_train, y_train)\n",
    "\n",
    "# Predict using the pipeline (includes the transformers & trained predictor)\n",
    "predicted = pipeline.predict(X_test)\n",
    "\n",
    "# Define the grid of hyperparameters to search over\n",
    "pipe_grid = {\n",
    "    \"randomoversampler__sampling_strategy\": [\"minority\",\"minority\",\"minority\",\"minority\",\"minority\",\"minority\",\"not minority\"],\n",
    "    \"randomforestclassifier__n_estimators\": [457],\n",
    "    \"randomforestclassifier__criterion\": [\"entropy\"],\n",
    "    \"randomforestclassifier__max_depth\": [11],\n",
    "    \"randomforestclassifier__max_features\": [\"log2\"]\n",
    "}\n",
    "\n",
    "# Perform grid search to find the best combination of hyperparameters\n",
    "second_pipe = GridSearchCV(\n",
    "    estimator=pipeline,\n",
    "    param_grid=pipe_grid,\n",
    ")\n",
    "\n",
    "second_pipe.fit(X_train, y_train)\n",
    "display(second_pipe.best_params_)\n",
    "display(second_pipe.best_score_)\n",
    "display(second_pipe.best_estimator_)\n",
    "best_model = second_pipe.best_estimator_\n",
    "y_pred = best_model.predict(X_test)\n",
    "plot_confusion_matrix(best_model,X_test,y_test);\n"
   ]
  },
  {
   "attachments": {},
   "cell_type": "markdown",
   "metadata": {},
   "source": [
    "## end testing"
   ]
  }
 ],
 "metadata": {
  "kernelspec": {
   "display_name": "new_learn_env",
   "language": "python",
   "name": "python3"
  },
  "language_info": {
   "codemirror_mode": {
    "name": "ipython",
    "version": 3
   },
   "file_extension": ".py",
   "mimetype": "text/x-python",
   "name": "python",
   "nbconvert_exporter": "python",
   "pygments_lexer": "ipython3",
   "version": "3.8.5"
  },
  "orig_nbformat": 4,
  "vscode": {
   "interpreter": {
    "hash": "0ccf6848c64a75baeb72ea4d52dd620e6562d7e561d253020989ab07168b267c"
   }
  }
 },
 "nbformat": 4,
 "nbformat_minor": 2
}
